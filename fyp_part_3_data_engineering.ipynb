{
  "cells": [
    {
      "cell_type": "code",
      "execution_count": 1,
      "metadata": {
        "id": "tyt2qe1xM2EA"
      },
      "outputs": [],
      "source": [
        "import pandas as pd \n",
        "import matplotlib.pyplot as plt\n",
        "import numpy as np\n",
        "\n",
        "from sklearn.feature_extraction.text import CountVectorizer\n",
        "from sklearn.metrics.pairwise import cosine_similarity\n",
        "from sklearn.metrics.pairwise import cosine_similarity\n",
        "from sklearn.metrics import mean_squared_error\n",
        "from sklearn.model_selection import train_test_split\n",
        "from sklearn.feature_extraction.text import TfidfVectorizer\n",
        "from sklearn.metrics.pairwise import linear_kernel"
      ]
    },
    {
      "cell_type": "code",
      "execution_count": null,
      "metadata": {},
      "outputs": [],
      "source": [
        "!pip3 install surprise"
      ]
    },
    {
      "cell_type": "code",
      "execution_count": 61,
      "metadata": {},
      "outputs": [],
      "source": [
        "from surprise import Reader, Dataset, SVD\n",
        "from surprise.model_selection import cross_validate\n",
        "from collections import defaultdict"
      ]
    },
    {
      "cell_type": "code",
      "execution_count": 119,
      "metadata": {
        "id": "yJZRTKEXM8wR"
      },
      "outputs": [],
      "source": [
        "movies = pd.read_csv('https://raw.githubusercontent.com/nchichilidze/RS-with-GE/main/preprocessed_movielens_1m/movies.csv')\n",
        "tags = pd.read_csv('https://raw.githubusercontent.com/nchichilidze/RS-with-GE/main/preprocessed_movielens_1m/tags.csv')\n",
        "ratings = pd.read_csv('https://raw.githubusercontent.com/nchichilidze/RS-with-GE/main/preprocessed_movielens_1m/ratings.csv')\n",
        "users = pd.read_csv('https://raw.githubusercontent.com/nchichilidze/RS-with-GE/main/preprocessed_movielens_1m/users.csv')\n",
        "\n",
        "movies = movies.iloc[: , 1:]\n",
        "tags = tags.iloc[: , 1:]\n",
        "ratings = ratings.iloc[: , 1:]\n",
        "users = users.iloc[: , 1:]"
      ]
    },
    {
      "cell_type": "code",
      "execution_count": 120,
      "metadata": {
        "id": "OJ2rnkwqxVNz"
      },
      "outputs": [],
      "source": [
        "main = pd.DataFrame(ratings)"
      ]
    },
    {
      "cell_type": "markdown",
      "metadata": {
        "id": "Tvj3ZF45Nm_q"
      },
      "source": [
        "# Feature 1: Content-Based Filtering \n",
        "\n",
        "Get all the movies that a user likes - and use content-based filtering to generate a list of similar movies that the user might also like \n",
        "\n",
        "The movies get grouped by analysing the tags associated with each movie (tags are a combination of user comments and movie genres)"
      ]
    },
    {
      "cell_type": "markdown",
      "metadata": {
        "id": "tLzhtnEsHxn5"
      },
      "source": [
        "Cast the columns in movies and tags"
      ]
    },
    {
      "cell_type": "code",
      "execution_count": 121,
      "metadata": {
        "colab": {
          "base_uri": "https://localhost:8080/"
        },
        "id": "OPhNe0_VNwzr",
        "outputId": "0d421ebe-9fc8-4140-e02a-6c8f3c995771"
      },
      "outputs": [
        {
          "data": {
            "text/plain": [
              "movie_id     int64\n",
              "tags        string\n",
              "title       string\n",
              "genres      string\n",
              "year         int64\n",
              "dtype: object"
            ]
          },
          "execution_count": 121,
          "metadata": {},
          "output_type": "execute_result"
        }
      ],
      "source": [
        "tags = tags.astype({'tags' : 'string'})\n",
        "tags = tags.astype({'title' : 'string'})\n",
        "tags = tags.astype({'genres' : 'string'})\n",
        "tags.dtypes"
      ]
    },
    {
      "cell_type": "code",
      "execution_count": 122,
      "metadata": {
        "colab": {
          "base_uri": "https://localhost:8080/"
        },
        "id": "zFkqfGtoHoUP",
        "outputId": "652e6bcf-c11f-4195-e13b-bd4f4cd8015f"
      },
      "outputs": [
        {
          "data": {
            "text/plain": [
              "movie_id     int64\n",
              "title       string\n",
              "genres      string\n",
              "year         int64\n",
              "dtype: object"
            ]
          },
          "execution_count": 122,
          "metadata": {},
          "output_type": "execute_result"
        }
      ],
      "source": [
        "movies = movies.astype({'title' : 'string'})\n",
        "movies = movies.astype({'genres' : 'string'})\n",
        "movies.dtypes"
      ]
    },
    {
      "cell_type": "code",
      "execution_count": 123,
      "metadata": {
        "colab": {
          "base_uri": "https://localhost:8080/",
          "height": 146
        },
        "id": "CWGdJbI4XZfd",
        "outputId": "17eae878-d5b7-4220-ee75-daf5dcd45bb1"
      },
      "outputs": [
        {
          "data": {
            "text/plain": [
              "\"pixar pixar pixar animation pixar animated fun toy toys pixar rated g pixar pixar national film registry time travel pixar pixar funny imdb top  animation very good ya boy pixar time travel animation erlend s dvds cgi disney family pixar toys bright daring rescues fanciful heroic mission humorous light rousing toys come to life unlikely friendships warm witty pixar the boys almost favorite é ä é animation children disney pixar clever want to see again cartoon disney d computer animation disney animated feature pixar animation want buddy movie animation pixar tim allen tom hanks animation disney pixar toys computer animation cartoon pixar animation computer animation pixar toys tumey s to see again tumey s vhs classic disney engaging avi buy action figure action figures buzz lightyear cg animation toy toys woody disney pixar tim allen tom hanks animation pixar animation kids movie pixar tim allen time travel animation cgi adventure animation children comedy animation pixar lots of heart animation pixar adventure animation comedy family fantasy john lasseter usa animation disney pixar classic pixar first cgi film animation disney disney animation pixar pixar pixar animation disney villian hurts toys pixar computer animation pixar animated cgi comedy animation children's comedy animation children's comedy animation children's comedy animation children's comedy animation children's comedy animation children's comedy animation children's comedy animation children's comedy animation children's comedy animation children's comedy\""
            ]
          },
          "execution_count": 123,
          "metadata": {},
          "output_type": "execute_result"
        }
      ],
      "source": [
        "# an example of a tag\n",
        "tag_example = tags['tags'][0]\n",
        "tag_example"
      ]
    },
    {
      "cell_type": "code",
      "execution_count": 124,
      "metadata": {
        "colab": {
          "base_uri": "https://localhost:8080/"
        },
        "id": "7qt7zs1MIB1b",
        "outputId": "c37a2679-a645-4f68-b4fa-33706c69a8b7"
      },
      "outputs": [
        {
          "data": {
            "text/plain": [
              "movie_id    0\n",
              "tags        0\n",
              "title       0\n",
              "genres      0\n",
              "year        0\n",
              "dtype: int64"
            ]
          },
          "execution_count": 124,
          "metadata": {},
          "output_type": "execute_result"
        }
      ],
      "source": [
        "# make sure that every movie has a tag\n",
        "tags.isna().sum()"
      ]
    },
    {
      "cell_type": "code",
      "execution_count": 125,
      "metadata": {
        "colab": {
          "base_uri": "https://localhost:8080/"
        },
        "id": "qx9BNDQbIHze",
        "outputId": "905f6662-12f0-4d52-f3b9-9d61cc18b5bd"
      },
      "outputs": [
        {
          "name": "stdout",
          "output_type": "stream",
          "text": [
            "1000209\n",
            "3706\n"
          ]
        }
      ],
      "source": [
        "# how many ratings we have \n",
        "print(len(ratings['movie_id']))\n",
        "\n",
        "# how many unique movies we have in ratings\n",
        "movies_in_ratings = ratings['movie_id'].drop_duplicates()\n",
        "print(len(movies_in_ratings))"
      ]
    },
    {
      "cell_type": "code",
      "execution_count": 126,
      "metadata": {
        "colab": {
          "base_uri": "https://localhost:8080/"
        },
        "id": "iozKgACWIerE",
        "outputId": "bfecce11-78b5-43f1-9577-4205cc11b568"
      },
      "outputs": [
        {
          "name": "stdout",
          "output_type": "stream",
          "text": [
            "Tags shape before dropping extra movies: (3883, 5)\n",
            "Tags shape after dropping extra movies: (3706, 5)\n",
            "Tags shape after dropping duplicate movies: (3664, 5)\n"
          ]
        }
      ],
      "source": [
        "# it's redundant to draw information about movies that are not in the ratings df, so I will drop them \n",
        "print(\"Tags shape before dropping extra movies: \" + str(tags.shape))\n",
        "tags = tags[tags.movie_id.map(lambda x: np.isin(x, movies_in_ratings).all())]\n",
        "print(\"Tags shape after dropping extra movies: \" + str(tags.shape))\n",
        "# drop any movie that we have twice\n",
        "tags = tags.drop_duplicates(subset=['title'])\n",
        "print(\"Tags shape after dropping duplicate movies: \" + str(tags.shape))"
      ]
    },
    {
      "cell_type": "markdown",
      "metadata": {
        "id": "UpD9bfq-JlhD"
      },
      "source": [
        "## Content-Based Filtering Engine"
      ]
    },
    {
      "cell_type": "code",
      "execution_count": 127,
      "metadata": {
        "id": "RavkMXgWOGNW"
      },
      "outputs": [
        {
          "data": {
            "text/html": [
              "<div>\n",
              "<style scoped>\n",
              "    .dataframe tbody tr th:only-of-type {\n",
              "        vertical-align: middle;\n",
              "    }\n",
              "\n",
              "    .dataframe tbody tr th {\n",
              "        vertical-align: top;\n",
              "    }\n",
              "\n",
              "    .dataframe thead th {\n",
              "        text-align: right;\n",
              "    }\n",
              "</style>\n",
              "<table border=\"1\" class=\"dataframe\">\n",
              "  <thead>\n",
              "    <tr style=\"text-align: right;\">\n",
              "      <th></th>\n",
              "      <th>movie_id</th>\n",
              "      <th>tags</th>\n",
              "      <th>title</th>\n",
              "      <th>genres</th>\n",
              "      <th>year</th>\n",
              "    </tr>\n",
              "  </thead>\n",
              "  <tbody>\n",
              "    <tr>\n",
              "      <th>3659</th>\n",
              "      <td>3948</td>\n",
              "      <td>ben stiller comedy hilarious owen wilson ben s...</td>\n",
              "      <td>Meet the Parents</td>\n",
              "      <td>comedy</td>\n",
              "      <td>2000</td>\n",
              "    </tr>\n",
              "    <tr>\n",
              "      <th>3660</th>\n",
              "      <td>3949</td>\n",
              "      <td>ass to ass heroin psychology depressing drugs ...</td>\n",
              "      <td>Requiem for a Dream</td>\n",
              "      <td>drama</td>\n",
              "      <td>2000</td>\n",
              "    </tr>\n",
              "    <tr>\n",
              "      <th>3661</th>\n",
              "      <td>3950</td>\n",
              "      <td>colin farrell drama drama drama drama drama</td>\n",
              "      <td>Tigerland</td>\n",
              "      <td>drama</td>\n",
              "      <td>2000</td>\n",
              "    </tr>\n",
              "    <tr>\n",
              "      <th>3662</th>\n",
              "      <td>3951</td>\n",
              "      <td>in netflix queue in netflix queue r drama dram...</td>\n",
              "      <td>Two Family House</td>\n",
              "      <td>drama</td>\n",
              "      <td>2000</td>\n",
              "    </tr>\n",
              "    <tr>\n",
              "      <th>3663</th>\n",
              "      <td>3952</td>\n",
              "      <td>politics vice president washington dc gary old...</td>\n",
              "      <td>Contender, The</td>\n",
              "      <td>drama thriller</td>\n",
              "      <td>2000</td>\n",
              "    </tr>\n",
              "  </tbody>\n",
              "</table>\n",
              "</div>"
            ],
            "text/plain": [
              "      movie_id                                               tags  \\\n",
              "3659      3948  ben stiller comedy hilarious owen wilson ben s...   \n",
              "3660      3949  ass to ass heroin psychology depressing drugs ...   \n",
              "3661      3950        colin farrell drama drama drama drama drama   \n",
              "3662      3951  in netflix queue in netflix queue r drama dram...   \n",
              "3663      3952  politics vice president washington dc gary old...   \n",
              "\n",
              "                    title          genres  year  \n",
              "3659     Meet the Parents          comedy  2000  \n",
              "3660  Requiem for a Dream           drama  2000  \n",
              "3661            Tigerland           drama  2000  \n",
              "3662     Two Family House           drama  2000  \n",
              "3663       Contender, The  drama thriller  2000  "
            ]
          },
          "execution_count": 127,
          "metadata": {},
          "output_type": "execute_result"
        }
      ],
      "source": [
        "tags = tags.reset_index()\n",
        "tags = tags.drop(columns=['index'])\n",
        "tags.tail()"
      ]
    },
    {
      "cell_type": "markdown",
      "metadata": {
        "id": "agIo5NBwMP9b"
      },
      "source": [
        "When building the matrix, the issue is that since the length of the tags dataframe is not the same as the maximum index of movie in the dataframe"
      ]
    },
    {
      "cell_type": "code",
      "execution_count": 128,
      "metadata": {
        "colab": {
          "base_uri": "https://localhost:8080/"
        },
        "id": "cUqQPPo7MgTk",
        "outputId": "69ecccd6-7f22-4512-f4b9-9d85bf7cd4b9"
      },
      "outputs": [
        {
          "name": "stdout",
          "output_type": "stream",
          "text": [
            "max movie id: 3952\n",
            "length of the tags dataframe: 3664\n"
          ]
        }
      ],
      "source": [
        "print(\"max movie id: \" + str(tags['movie_id'].max()))\n",
        "print(\"length of the tags dataframe: \" + str(len(tags['movie_id'])))"
      ]
    },
    {
      "cell_type": "code",
      "execution_count": 129,
      "metadata": {
        "id": "o7mmJEpIJvpZ"
      },
      "outputs": [],
      "source": [
        "tf = TfidfVectorizer(analyzer='word', ngram_range=(1, 3), min_df=0, stop_words='english')\n",
        "matrix = tf.fit_transform(tags['tags'])\n",
        "\n",
        "cosine_similarities = linear_kernel(matrix,matrix)\n",
        "movie_title = tags['title']\n",
        "indices = pd.Series(tags.index, index=tags['title'])\n",
        "\n",
        "def recommend_movies(original_title):\n",
        "\n",
        "    idx = indices[original_title]\n",
        "    sim_scores = list(enumerate(cosine_similarities[idx]))\n",
        "\n",
        "    sim_scores = sorted(sim_scores, key=lambda x: x[1], reverse=True)\n",
        "\n",
        "    sim_scores = sim_scores[1:51]\n",
        "\n",
        "    movie_indices = [i[0] for i in sim_scores]\n",
        "    titles = movie_title.iloc[movie_indices]\n",
        "    return titles, movie_indices"
      ]
    },
    {
      "cell_type": "code",
      "execution_count": 130,
      "metadata": {
        "colab": {
          "base_uri": "https://localhost:8080/"
        },
        "id": "h7tp4jrAKPaG",
        "outputId": "a70020d6-db74-4c66-b9bf-deff3c8a5032"
      },
      "outputs": [
        {
          "name": "stdout",
          "output_type": "stream",
          "text": [
            "27                                             Persuasion\n",
            "2833                                       Mansfield Park\n",
            "786                                                  Emma\n",
            "16                                  Sense and Sensibility\n",
            "62                                          Two if by Sea\n",
            "113                                          If Lucy Fell\n",
            "278                                    Nina Takes a Lover\n",
            "285                                     Perez Family, The\n",
            "286                            Pyromaniac's Love Story, A\n",
            "368                                            Speechless\n",
            "433                                            Favor, The\n",
            "552                                     Naked in New York\n",
            "761       Rendezvous in Paris (Rendez-vous de Paris, Les)\n",
            "1341                        Beautician and the Beast, The\n",
            "1343                                        Hotel de Love\n",
            "1349                                     That Old Feeling\n",
            "1353                                           Booty Call\n",
            "1422                                      Trial and Error\n",
            "1433                      Roseanna's Grave (For Roseanna)\n",
            "1439         When the Cats Away (Chacun cherche son chat)\n",
            "1612                                          Little City\n",
            "1670                                       Kissing a Fool\n",
            "1693                                                  Woo\n",
            "2021                                     Rich and Strange\n",
            "2042                                      Allnighter, The\n",
            "2134                           I'll Be Home For Christmas\n",
            "2178                                           Home Fries\n",
            "2297                                      Just the Ticket\n",
            "2342                                     Forces of Nature\n",
            "2371    Jeanne and the Perfect Guy (Jeanne et le garço...\n",
            "2485                                Velocity of Gary, The\n",
            "2599                             Very Thought of You, The\n",
            "2647                                             Dog Park\n",
            "3092                                  Closer You Get, The\n",
            "3188                                    Whatever It Takes\n",
            "3234                                     Murphy's Romance\n",
            "3464                                       Boys and Girls\n",
            "3468                                           Match, The\n",
            "3599                                           Love & Sex\n",
            "3622                                         Woman on Top\n",
            "3130                                           Blind Date\n",
            "3096                                  Defending Your Life\n",
            "3588                                 Couch in New York, A\n",
            "1843                        Billy's Hollywood Screen Kiss\n",
            "3249                                Bell, Book and Candle\n",
            "603                                              Two Much\n",
            "2405                                     Love Letter, The\n",
            "2064                                  Butcher's Wife, The\n",
            "124                                        Pie in the Sky\n",
            "3025                                 They Might Be Giants\n",
            "Name: title, dtype: string\n"
          ]
        }
      ],
      "source": [
        "t, i  = recommend_movies('Clueless')\n",
        "print(t)"
      ]
    },
    {
      "cell_type": "markdown",
      "metadata": {
        "id": "XubzWmupKovA"
      },
      "source": [
        "Clueless is based on 'Emma' by Jane Austen, Persuasion is also a Jane Austen book, therefore I think CBF works quite well :) "
      ]
    },
    {
      "cell_type": "markdown",
      "metadata": {
        "id": "tqYXnGorSVOO"
      },
      "source": [
        "## Generate similar movies"
      ]
    },
    {
      "cell_type": "code",
      "execution_count": 131,
      "metadata": {
        "colab": {
          "base_uri": "https://localhost:8080/"
        },
        "id": "-WHWtHhyUWpt",
        "outputId": "adea4f0f-7284-4743-81f0-dafb45a77288"
      },
      "outputs": [
        {
          "name": "stdout",
          "output_type": "stream",
          "text": [
            "[2561, 2820, 2565, 2059, 3723, 3598, 915, 1941, 2455, 3096, 2078, 2719, 2848, 3616, 3744, 2212, 2085, 2729, 1460, 3126, 2364, 957, 2367, 1344, 3784, 2633, 2634, 2764, 3404, 3022, 2512, 1873, 2389, 2645, 2135, 2136, 2398, 3935, 3947, 3823, 2553, 2430]\n"
          ]
        }
      ],
      "source": [
        "# any movies in ratings that we don't have tags for? \n",
        "print(list(set(ratings['movie_id']) - set(tags['movie_id'])))\n",
        "movies_in_tags = tags['movie_id'].drop_duplicates()"
      ]
    },
    {
      "cell_type": "markdown",
      "metadata": {
        "id": "LS3lFecXLFKR"
      },
      "source": [
        "for each movie in ratings, generate a list of n similar movies"
      ]
    },
    {
      "cell_type": "code",
      "execution_count": 132,
      "metadata": {
        "colab": {
          "base_uri": "https://localhost:8080/"
        },
        "id": "hEKHe3U4LEs6",
        "outputId": "1ad972cd-8b99-4713-8c7c-2e66c695d03d"
      },
      "outputs": [
        {
          "name": "stdout",
          "output_type": "stream",
          "text": [
            "No similar movies found for 0 movies\n"
          ]
        }
      ],
      "source": [
        "similar_movies_map = {} \n",
        "no_similar_movies_count = 0\n",
        "\n",
        "# getting rid of any movies we don't have tags for \n",
        "movies_in_ratings = list(set(movies_in_ratings) and set(movies_in_tags))\n",
        "\n",
        "for movie in movies_in_ratings: \n",
        "  title = str(tags[tags['movie_id'] == movie]['title'].values[0])\n",
        "  # actual_index = tags.index[tags['movie_id'] == movie]\n",
        "  t, ind = recommend_movies(title)\n",
        "  similar_movies_map[movie] = ind;\n",
        "  if (len(ind) == 0): \n",
        "    no_similar_movies_count += 1\n",
        "\n",
        "print(\"No similar movies found for \" + str(no_similar_movies_count) + \" movies\")"
      ]
    },
    {
      "cell_type": "markdown",
      "metadata": {
        "id": "lJuJTg_PxRnN"
      },
      "source": [
        "## Add feature to dataframe"
      ]
    },
    {
      "cell_type": "markdown",
      "metadata": {
        "id": "pXOSbzd8WjfA"
      },
      "source": [
        "get favourite movies by each user"
      ]
    },
    {
      "cell_type": "code",
      "execution_count": 133,
      "metadata": {},
      "outputs": [],
      "source": [
        "#  get movies that users rated positively \n",
        "positive_ratings = pd.DataFrame()\n",
        "positive_ratings['user_id'] = users['user_id']"
      ]
    },
    {
      "cell_type": "code",
      "execution_count": 134,
      "metadata": {},
      "outputs": [],
      "source": [
        "positive_ratings['movies'] = None\n",
        "\n",
        "for index, row in positive_ratings.iterrows():\n",
        "    user = int(row['user_id'])\n",
        "    # get a list of movies that the user rated with 4 or 5\n",
        "    rated_movies = list(ratings.loc[(ratings['user_id'] == user) & (ratings['rating'] >= 3)]['movie_id'].values)\n",
        "    positive_ratings.at[index, 'movies'] = rated_movies\n"
      ]
    },
    {
      "cell_type": "code",
      "execution_count": 135,
      "metadata": {},
      "outputs": [
        {
          "data": {
            "text/html": [
              "<div>\n",
              "<style scoped>\n",
              "    .dataframe tbody tr th:only-of-type {\n",
              "        vertical-align: middle;\n",
              "    }\n",
              "\n",
              "    .dataframe tbody tr th {\n",
              "        vertical-align: top;\n",
              "    }\n",
              "\n",
              "    .dataframe thead th {\n",
              "        text-align: right;\n",
              "    }\n",
              "</style>\n",
              "<table border=\"1\" class=\"dataframe\">\n",
              "  <thead>\n",
              "    <tr style=\"text-align: right;\">\n",
              "      <th></th>\n",
              "      <th>user_id</th>\n",
              "      <th>movies</th>\n",
              "    </tr>\n",
              "  </thead>\n",
              "  <tbody>\n",
              "    <tr>\n",
              "      <th>0</th>\n",
              "      <td>1</td>\n",
              "      <td>[1193, 661, 914, 3408, 2355, 1197, 1287, 2804,...</td>\n",
              "    </tr>\n",
              "    <tr>\n",
              "      <th>1</th>\n",
              "      <td>2</td>\n",
              "      <td>[1357, 3068, 1537, 647, 2194, 648, 2268, 2628,...</td>\n",
              "    </tr>\n",
              "    <tr>\n",
              "      <th>2</th>\n",
              "      <td>3</td>\n",
              "      <td>[3421, 648, 1394, 3534, 104, 2735, 1210, 1431,...</td>\n",
              "    </tr>\n",
              "    <tr>\n",
              "      <th>3</th>\n",
              "      <td>4</td>\n",
              "      <td>[3468, 1210, 2951, 1214, 1036, 260, 2028, 480,...</td>\n",
              "    </tr>\n",
              "    <tr>\n",
              "      <th>4</th>\n",
              "      <td>5</td>\n",
              "      <td>[2987, 2333, 1175, 39, 2337, 1535, 1392, 1466,...</td>\n",
              "    </tr>\n",
              "  </tbody>\n",
              "</table>\n",
              "</div>"
            ],
            "text/plain": [
              "   user_id                                             movies\n",
              "0        1  [1193, 661, 914, 3408, 2355, 1197, 1287, 2804,...\n",
              "1        2  [1357, 3068, 1537, 647, 2194, 648, 2268, 2628,...\n",
              "2        3  [3421, 648, 1394, 3534, 104, 2735, 1210, 1431,...\n",
              "3        4  [3468, 1210, 2951, 1214, 1036, 260, 2028, 480,...\n",
              "4        5  [2987, 2333, 1175, 39, 2337, 1535, 1392, 1466,..."
            ]
          },
          "execution_count": 135,
          "metadata": {},
          "output_type": "execute_result"
        }
      ],
      "source": [
        "positive_ratings.head()"
      ]
    },
    {
      "cell_type": "code",
      "execution_count": 136,
      "metadata": {},
      "outputs": [
        {
          "name": "stdout",
          "output_type": "stream",
          "text": [
            "0\n",
            "1000\n",
            "2000\n",
            "3000\n",
            "4000\n",
            "5000\n",
            "6000\n"
          ]
        }
      ],
      "source": [
        "positive_ratings['CBF'] = None\n",
        "count = 0\n",
        "for index, row in positive_ratings.iterrows(): \n",
        "    if (index % 1000 == 0): \n",
        "        print(index)\n",
        "    rated_movies = list(row['movies'])\n",
        "    all_similar_movies = []\n",
        "    # for each movie that the user likes \n",
        "    for movie in rated_movies: \n",
        "        # get similar movies and add the\n",
        "        similar_movies = similar_movies_map.get(int(movie))\n",
        "        if (similar_movies != None): \n",
        "            all_similar_movies += similar_movies \n",
        "    positive_ratings.at[index, 'CBF'] = all_similar_movies"
      ]
    },
    {
      "cell_type": "code",
      "execution_count": 137,
      "metadata": {},
      "outputs": [
        {
          "data": {
            "text/html": [
              "<div>\n",
              "<style scoped>\n",
              "    .dataframe tbody tr th:only-of-type {\n",
              "        vertical-align: middle;\n",
              "    }\n",
              "\n",
              "    .dataframe tbody tr th {\n",
              "        vertical-align: top;\n",
              "    }\n",
              "\n",
              "    .dataframe thead th {\n",
              "        text-align: right;\n",
              "    }\n",
              "</style>\n",
              "<table border=\"1\" class=\"dataframe\">\n",
              "  <thead>\n",
              "    <tr style=\"text-align: right;\">\n",
              "      <th></th>\n",
              "      <th>user_id</th>\n",
              "      <th>movies</th>\n",
              "      <th>CBF</th>\n",
              "    </tr>\n",
              "  </thead>\n",
              "  <tbody>\n",
              "    <tr>\n",
              "      <th>0</th>\n",
              "      <td>1</td>\n",
              "      <td>[1193, 661, 914, 3408, 2355, 1197, 1287, 2804,...</td>\n",
              "      <td>[844, 1755, 1772, 1750, 1756, 1752, 1744, 1748...</td>\n",
              "    </tr>\n",
              "    <tr>\n",
              "      <th>1</th>\n",
              "      <td>2</td>\n",
              "      <td>[1357, 3068, 1537, 647, 2194, 648, 2268, 2628,...</td>\n",
              "      <td>[911, 2233, 126, 176, 484, 598, 660, 736, 922,...</td>\n",
              "    </tr>\n",
              "    <tr>\n",
              "      <th>2</th>\n",
              "      <td>3</td>\n",
              "      <td>[3421, 648, 1394, 3534, 104, 2735, 1210, 1431,...</td>\n",
              "      <td>[1128, 315, 3054, 3196, 2561, 1203, 2562, 342,...</td>\n",
              "    </tr>\n",
              "    <tr>\n",
              "      <th>3</th>\n",
              "      <td>4</td>\n",
              "      <td>[3468, 1210, 2951, 1214, 1036, 260, 2028, 480,...</td>\n",
              "      <td>[2263, 2822, 81, 178, 1495, 274, 26, 29, 88, 1...</td>\n",
              "    </tr>\n",
              "    <tr>\n",
              "      <th>4</th>\n",
              "      <td>5</td>\n",
              "      <td>[2987, 2333, 1175, 39, 2337, 1535, 1392, 1466,...</td>\n",
              "      <td>[1106, 575, 466, 1108, 253, 1909, 1817, 709, 1...</td>\n",
              "    </tr>\n",
              "  </tbody>\n",
              "</table>\n",
              "</div>"
            ],
            "text/plain": [
              "   user_id                                             movies  \\\n",
              "0        1  [1193, 661, 914, 3408, 2355, 1197, 1287, 2804,...   \n",
              "1        2  [1357, 3068, 1537, 647, 2194, 648, 2268, 2628,...   \n",
              "2        3  [3421, 648, 1394, 3534, 104, 2735, 1210, 1431,...   \n",
              "3        4  [3468, 1210, 2951, 1214, 1036, 260, 2028, 480,...   \n",
              "4        5  [2987, 2333, 1175, 39, 2337, 1535, 1392, 1466,...   \n",
              "\n",
              "                                                 CBF  \n",
              "0  [844, 1755, 1772, 1750, 1756, 1752, 1744, 1748...  \n",
              "1  [911, 2233, 126, 176, 484, 598, 660, 736, 922,...  \n",
              "2  [1128, 315, 3054, 3196, 2561, 1203, 2562, 342,...  \n",
              "3  [2263, 2822, 81, 178, 1495, 274, 26, 29, 88, 1...  \n",
              "4  [1106, 575, 466, 1108, 253, 1909, 1817, 709, 1...  "
            ]
          },
          "execution_count": 137,
          "metadata": {},
          "output_type": "execute_result"
        }
      ],
      "source": [
        "positive_ratings.head()"
      ]
    },
    {
      "cell_type": "markdown",
      "metadata": {
        "id": "1oldmJw6e4Dl"
      },
      "source": [
        "Add a new feature 'CBF' which will have binary values \n",
        "\n",
        "\n",
        "*   1 - this movie is in the list of recommended movies generated by the content based filtering algorithm\n",
        "*   0 - this movie is not in the list of recommended movies generated by the content based filtering algorithm\n",
        "\n"
      ]
    },
    {
      "cell_type": "code",
      "execution_count": 138,
      "metadata": {
        "id": "AgVLoBFeWiO_"
      },
      "outputs": [
        {
          "data": {
            "text/html": [
              "<div>\n",
              "<style scoped>\n",
              "    .dataframe tbody tr th:only-of-type {\n",
              "        vertical-align: middle;\n",
              "    }\n",
              "\n",
              "    .dataframe tbody tr th {\n",
              "        vertical-align: top;\n",
              "    }\n",
              "\n",
              "    .dataframe thead th {\n",
              "        text-align: right;\n",
              "    }\n",
              "</style>\n",
              "<table border=\"1\" class=\"dataframe\">\n",
              "  <thead>\n",
              "    <tr style=\"text-align: right;\">\n",
              "      <th></th>\n",
              "      <th>user_id</th>\n",
              "      <th>movie_id</th>\n",
              "      <th>rating</th>\n",
              "      <th>CBF</th>\n",
              "    </tr>\n",
              "  </thead>\n",
              "  <tbody>\n",
              "    <tr>\n",
              "      <th>0</th>\n",
              "      <td>1</td>\n",
              "      <td>1193</td>\n",
              "      <td>5</td>\n",
              "      <td>0</td>\n",
              "    </tr>\n",
              "    <tr>\n",
              "      <th>1</th>\n",
              "      <td>1</td>\n",
              "      <td>661</td>\n",
              "      <td>3</td>\n",
              "      <td>0</td>\n",
              "    </tr>\n",
              "    <tr>\n",
              "      <th>2</th>\n",
              "      <td>1</td>\n",
              "      <td>914</td>\n",
              "      <td>3</td>\n",
              "      <td>0</td>\n",
              "    </tr>\n",
              "    <tr>\n",
              "      <th>3</th>\n",
              "      <td>1</td>\n",
              "      <td>3408</td>\n",
              "      <td>4</td>\n",
              "      <td>0</td>\n",
              "    </tr>\n",
              "    <tr>\n",
              "      <th>4</th>\n",
              "      <td>1</td>\n",
              "      <td>2355</td>\n",
              "      <td>5</td>\n",
              "      <td>0</td>\n",
              "    </tr>\n",
              "  </tbody>\n",
              "</table>\n",
              "</div>"
            ],
            "text/plain": [
              "   user_id  movie_id  rating  CBF\n",
              "0        1      1193       5    0\n",
              "1        1       661       3    0\n",
              "2        1       914       3    0\n",
              "3        1      3408       4    0\n",
              "4        1      2355       5    0"
            ]
          },
          "execution_count": 138,
          "metadata": {},
          "output_type": "execute_result"
        }
      ],
      "source": [
        "# set CBF as 0 by default \n",
        "main['CBF'] = 0\n",
        "main.head()"
      ]
    },
    {
      "cell_type": "code",
      "execution_count": 139,
      "metadata": {
        "id": "eHY87XhpfKm0"
      },
      "outputs": [
        {
          "name": "stdout",
          "output_type": "stream",
          "text": [
            "0\n",
            "100000\n",
            "200000\n",
            "300000\n",
            "400000\n",
            "500000\n",
            "600000\n",
            "700000\n",
            "800000\n",
            "900000\n",
            "1000000\n"
          ]
        }
      ],
      "source": [
        "counter = 0\n",
        "\n",
        "for index, row in main.iterrows(): \n",
        "  if (index % 100000 == 0): \n",
        "    print(index)\n",
        "  user = int(row['user_id'])\n",
        "  movie = int(row['movie_id'])\n",
        "\n",
        "  movies_recommended_for_user = list(positive_ratings[positive_ratings['user_id'] == user]['CBF'])\n",
        "  if (movie in movies_recommended_for_user):\n",
        "    main.at[index, 'CBF'] = 1\n",
        "    counter += 1"
      ]
    },
    {
      "cell_type": "code",
      "execution_count": 140,
      "metadata": {},
      "outputs": [
        {
          "name": "stdout",
          "output_type": "stream",
          "text": [
            "0\n"
          ]
        }
      ],
      "source": [
        "print(counter)"
      ]
    },
    {
      "cell_type": "code",
      "execution_count": 31,
      "metadata": {},
      "outputs": [
        {
          "data": {
            "text/html": [
              "<div>\n",
              "<style scoped>\n",
              "    .dataframe tbody tr th:only-of-type {\n",
              "        vertical-align: middle;\n",
              "    }\n",
              "\n",
              "    .dataframe tbody tr th {\n",
              "        vertical-align: top;\n",
              "    }\n",
              "\n",
              "    .dataframe thead th {\n",
              "        text-align: right;\n",
              "    }\n",
              "</style>\n",
              "<table border=\"1\" class=\"dataframe\">\n",
              "  <thead>\n",
              "    <tr style=\"text-align: right;\">\n",
              "      <th></th>\n",
              "      <th>user_id</th>\n",
              "      <th>movie_id</th>\n",
              "      <th>rating</th>\n",
              "      <th>CBF</th>\n",
              "    </tr>\n",
              "  </thead>\n",
              "  <tbody>\n",
              "    <tr>\n",
              "      <th>0</th>\n",
              "      <td>1</td>\n",
              "      <td>1193</td>\n",
              "      <td>5</td>\n",
              "      <td>0</td>\n",
              "    </tr>\n",
              "    <tr>\n",
              "      <th>1</th>\n",
              "      <td>1</td>\n",
              "      <td>661</td>\n",
              "      <td>3</td>\n",
              "      <td>0</td>\n",
              "    </tr>\n",
              "    <tr>\n",
              "      <th>2</th>\n",
              "      <td>1</td>\n",
              "      <td>914</td>\n",
              "      <td>3</td>\n",
              "      <td>0</td>\n",
              "    </tr>\n",
              "    <tr>\n",
              "      <th>3</th>\n",
              "      <td>1</td>\n",
              "      <td>3408</td>\n",
              "      <td>4</td>\n",
              "      <td>0</td>\n",
              "    </tr>\n",
              "    <tr>\n",
              "      <th>4</th>\n",
              "      <td>1</td>\n",
              "      <td>2355</td>\n",
              "      <td>5</td>\n",
              "      <td>0</td>\n",
              "    </tr>\n",
              "  </tbody>\n",
              "</table>\n",
              "</div>"
            ],
            "text/plain": [
              "   user_id  movie_id  rating  CBF\n",
              "0        1      1193       5    0\n",
              "1        1       661       3    0\n",
              "2        1       914       3    0\n",
              "3        1      3408       4    0\n",
              "4        1      2355       5    0"
            ]
          },
          "execution_count": 31,
          "metadata": {},
          "output_type": "execute_result"
        }
      ],
      "source": [
        "main.head()"
      ]
    },
    {
      "cell_type": "code",
      "execution_count": 32,
      "metadata": {},
      "outputs": [
        {
          "data": {
            "text/plain": [
              "0    1000209\n",
              "Name: CBF, dtype: int64"
            ]
          },
          "execution_count": 32,
          "metadata": {},
          "output_type": "execute_result"
        }
      ],
      "source": [
        "main['CBF'].value_counts()"
      ]
    },
    {
      "cell_type": "markdown",
      "metadata": {
        "id": "9lNQkgbKNC58"
      },
      "source": [
        "# Feature 2: Collaborative Filtering\n",
        "\n",
        "predict the rating for each movie with collaborative filtering"
      ]
    },
    {
      "cell_type": "markdown",
      "metadata": {
        "id": "c2H4VnWoNJCq"
      },
      "source": [
        "## Collaborative Filtering Engine"
      ]
    },
    {
      "cell_type": "code",
      "execution_count": 141,
      "metadata": {},
      "outputs": [
        {
          "name": "stdout",
          "output_type": "stream",
          "text": [
            "Evaluating RMSE, MAE of algorithm SVD on 10 split(s).\n",
            "\n",
            "                  Fold 1  Fold 2  Fold 3  Fold 4  Fold 5  Fold 6  Fold 7  Fold 8  Fold 9  Fold 10 Mean    Std     \n",
            "RMSE (testset)    0.8663  0.8647  0.8673  0.8681  0.8635  0.8680  0.8647  0.8605  0.8627  0.8630  0.8649  0.0024  \n",
            "MAE (testset)     0.6793  0.6778  0.6800  0.6810  0.6779  0.6803  0.6779  0.6756  0.6761  0.6783  0.6784  0.0017  \n",
            "Fit time          70.67   58.01   55.46   53.28   53.08   54.12   52.74   52.55   53.54   55.93   55.94   5.17    \n",
            "Test time         0.86    0.78    0.74    0.72    0.73    0.72    0.72    0.73    0.75    0.72    0.75    0.04    \n"
          ]
        },
        {
          "data": {
            "text/plain": [
              "{'test_rmse': array([0.86628605, 0.86468544, 0.86729641, 0.86812217, 0.86354245,\n",
              "        0.86797425, 0.86469706, 0.86046201, 0.86273841, 0.86304438]),\n",
              " 'test_mae': array([0.679251  , 0.67778072, 0.67998035, 0.68104684, 0.67785587,\n",
              "        0.68030259, 0.67790047, 0.67564052, 0.67608296, 0.67829314]),\n",
              " 'fit_time': (70.66683793067932,\n",
              "  58.006356954574585,\n",
              "  55.46218299865723,\n",
              "  53.28081679344177,\n",
              "  53.0758421421051,\n",
              "  54.118653297424316,\n",
              "  52.73518991470337,\n",
              "  52.55186200141907,\n",
              "  53.53822183609009,\n",
              "  55.927162885665894),\n",
              " 'test_time': (0.8640508651733398,\n",
              "  0.776298999786377,\n",
              "  0.737015962600708,\n",
              "  0.7214748859405518,\n",
              "  0.7293257713317871,\n",
              "  0.7199299335479736,\n",
              "  0.7188959121704102,\n",
              "  0.725121021270752,\n",
              "  0.7538390159606934,\n",
              "  0.7232069969177246)}"
            ]
          },
          "execution_count": 141,
          "metadata": {},
          "output_type": "execute_result"
        }
      ],
      "source": [
        "reader = Reader()\n",
        "data = Dataset.load_from_df(ratings[['user_id', 'movie_id', 'rating']], reader)\n",
        "\n",
        "svd = SVD()\n",
        "\n",
        "cross_validate(svd, data, measures=['RMSE', 'MAE'], cv = 10, verbose=True)"
      ]
    },
    {
      "cell_type": "code",
      "execution_count": 142,
      "metadata": {},
      "outputs": [],
      "source": [
        "trainset = data.build_full_trainset()\n",
        "svd.fit(trainset)\n",
        "testset = trainset.build_anti_testset()\n",
        "predictions = svd.test(testset)"
      ]
    },
    {
      "cell_type": "code",
      "execution_count": 143,
      "metadata": {},
      "outputs": [],
      "source": [
        "def predict_rating_CF(user_id, movie_id, true_rating): \n",
        "  return svd.predict(user_id, movie_id, true_rating)"
      ]
    },
    {
      "cell_type": "code",
      "execution_count": 144,
      "metadata": {},
      "outputs": [],
      "source": [
        "main['CF'] = 0\n",
        "\n",
        "for index, row in main.iterrows():\n",
        "    user = row['user_id']\n",
        "    movie = row['movie_id']\n",
        "    rating = row['rating']\n",
        "    predicted_rating = predict_rating_CF(user, movie, rating)\n",
        "    predicted_rating = predicted_rating[3]\n",
        "    \n",
        "    main.at[index,'CF'] = predicted_rating"
      ]
    },
    {
      "cell_type": "code",
      "execution_count": 145,
      "metadata": {},
      "outputs": [
        {
          "data": {
            "text/html": [
              "<div>\n",
              "<style scoped>\n",
              "    .dataframe tbody tr th:only-of-type {\n",
              "        vertical-align: middle;\n",
              "    }\n",
              "\n",
              "    .dataframe tbody tr th {\n",
              "        vertical-align: top;\n",
              "    }\n",
              "\n",
              "    .dataframe thead th {\n",
              "        text-align: right;\n",
              "    }\n",
              "</style>\n",
              "<table border=\"1\" class=\"dataframe\">\n",
              "  <thead>\n",
              "    <tr style=\"text-align: right;\">\n",
              "      <th></th>\n",
              "      <th>user_id</th>\n",
              "      <th>movie_id</th>\n",
              "      <th>rating</th>\n",
              "      <th>CBF</th>\n",
              "      <th>CF</th>\n",
              "    </tr>\n",
              "  </thead>\n",
              "  <tbody>\n",
              "    <tr>\n",
              "      <th>0</th>\n",
              "      <td>1</td>\n",
              "      <td>1193</td>\n",
              "      <td>5</td>\n",
              "      <td>0</td>\n",
              "      <td>4</td>\n",
              "    </tr>\n",
              "    <tr>\n",
              "      <th>1</th>\n",
              "      <td>1</td>\n",
              "      <td>661</td>\n",
              "      <td>3</td>\n",
              "      <td>0</td>\n",
              "      <td>3</td>\n",
              "    </tr>\n",
              "    <tr>\n",
              "      <th>2</th>\n",
              "      <td>1</td>\n",
              "      <td>914</td>\n",
              "      <td>3</td>\n",
              "      <td>0</td>\n",
              "      <td>4</td>\n",
              "    </tr>\n",
              "    <tr>\n",
              "      <th>3</th>\n",
              "      <td>1</td>\n",
              "      <td>3408</td>\n",
              "      <td>4</td>\n",
              "      <td>0</td>\n",
              "      <td>4</td>\n",
              "    </tr>\n",
              "    <tr>\n",
              "      <th>4</th>\n",
              "      <td>1</td>\n",
              "      <td>2355</td>\n",
              "      <td>5</td>\n",
              "      <td>0</td>\n",
              "      <td>4</td>\n",
              "    </tr>\n",
              "  </tbody>\n",
              "</table>\n",
              "</div>"
            ],
            "text/plain": [
              "   user_id  movie_id  rating  CBF  CF\n",
              "0        1      1193       5    0   4\n",
              "1        1       661       3    0   3\n",
              "2        1       914       3    0   4\n",
              "3        1      3408       4    0   4\n",
              "4        1      2355       5    0   4"
            ]
          },
          "execution_count": 145,
          "metadata": {},
          "output_type": "execute_result"
        }
      ],
      "source": [
        "main.head()"
      ]
    },
    {
      "cell_type": "markdown",
      "metadata": {},
      "source": [
        "# Feature 3: Age at Rating\n",
        "\n",
        "how old was the user when they left the rating on the movie"
      ]
    },
    {
      "cell_type": "code",
      "execution_count": 146,
      "metadata": {},
      "outputs": [
        {
          "data": {
            "text/html": [
              "<div>\n",
              "<style scoped>\n",
              "    .dataframe tbody tr th:only-of-type {\n",
              "        vertical-align: middle;\n",
              "    }\n",
              "\n",
              "    .dataframe tbody tr th {\n",
              "        vertical-align: top;\n",
              "    }\n",
              "\n",
              "    .dataframe thead th {\n",
              "        text-align: right;\n",
              "    }\n",
              "</style>\n",
              "<table border=\"1\" class=\"dataframe\">\n",
              "  <thead>\n",
              "    <tr style=\"text-align: right;\">\n",
              "      <th></th>\n",
              "      <th>user_id</th>\n",
              "      <th>movie_id</th>\n",
              "      <th>rating</th>\n",
              "      <th>CBF</th>\n",
              "      <th>CF</th>\n",
              "      <th>age_when_rating</th>\n",
              "    </tr>\n",
              "  </thead>\n",
              "  <tbody>\n",
              "    <tr>\n",
              "      <th>1000204</th>\n",
              "      <td>6040</td>\n",
              "      <td>1091</td>\n",
              "      <td>1</td>\n",
              "      <td>0</td>\n",
              "      <td>1</td>\n",
              "      <td>25</td>\n",
              "    </tr>\n",
              "    <tr>\n",
              "      <th>1000205</th>\n",
              "      <td>6040</td>\n",
              "      <td>1094</td>\n",
              "      <td>5</td>\n",
              "      <td>0</td>\n",
              "      <td>3</td>\n",
              "      <td>25</td>\n",
              "    </tr>\n",
              "    <tr>\n",
              "      <th>1000206</th>\n",
              "      <td>6040</td>\n",
              "      <td>562</td>\n",
              "      <td>5</td>\n",
              "      <td>0</td>\n",
              "      <td>3</td>\n",
              "      <td>25</td>\n",
              "    </tr>\n",
              "    <tr>\n",
              "      <th>1000207</th>\n",
              "      <td>6040</td>\n",
              "      <td>1096</td>\n",
              "      <td>4</td>\n",
              "      <td>0</td>\n",
              "      <td>3</td>\n",
              "      <td>25</td>\n",
              "    </tr>\n",
              "    <tr>\n",
              "      <th>1000208</th>\n",
              "      <td>6040</td>\n",
              "      <td>1097</td>\n",
              "      <td>4</td>\n",
              "      <td>0</td>\n",
              "      <td>3</td>\n",
              "      <td>25</td>\n",
              "    </tr>\n",
              "  </tbody>\n",
              "</table>\n",
              "</div>"
            ],
            "text/plain": [
              "         user_id  movie_id  rating  CBF  CF  age_when_rating\n",
              "1000204     6040      1091       1    0   1               25\n",
              "1000205     6040      1094       5    0   3               25\n",
              "1000206     6040       562       5    0   3               25\n",
              "1000207     6040      1096       4    0   3               25\n",
              "1000208     6040      1097       4    0   3               25"
            ]
          },
          "execution_count": 146,
          "metadata": {},
          "output_type": "execute_result"
        }
      ],
      "source": [
        "main['age_when_rating'] = 0\n",
        "\n",
        "for index, row in main.iterrows(): \n",
        "  user = int(row['user_id'])\n",
        "  user_in_users = users[users['user_id'] == user]\n",
        "  user_age = user_in_users['age'].values\n",
        "  main.at[index, 'age_when_rating'] = int(user_age)\n",
        "\n",
        "main.tail()"
      ]
    },
    {
      "cell_type": "code",
      "execution_count": 147,
      "metadata": {},
      "outputs": [
        {
          "name": "stdout",
          "output_type": "stream",
          "text": [
            "mean: 29.73831369243828\n",
            "median: 25.0\n"
          ]
        }
      ],
      "source": [
        "print(\"mean: \" + str(main['age_when_rating'].mean()))\n",
        "print(\"median: \" + str(main['age_when_rating'].median()))"
      ]
    },
    {
      "cell_type": "code",
      "execution_count": 148,
      "metadata": {},
      "outputs": [
        {
          "data": {
            "text/plain": [
              "{'whiskers': [<matplotlib.lines.Line2D at 0x123a2e810>,\n",
              "  <matplotlib.lines.Line2D at 0x123a2e510>],\n",
              " 'caps': [<matplotlib.lines.Line2D at 0x123b72b90>,\n",
              "  <matplotlib.lines.Line2D at 0x123b72550>],\n",
              " 'boxes': [<matplotlib.lines.Line2D at 0x123a2e0d0>],\n",
              " 'medians': [<matplotlib.lines.Line2D at 0x3b048e510>],\n",
              " 'fliers': [<matplotlib.lines.Line2D at 0x3b02e1810>],\n",
              " 'means': []}"
            ]
          },
          "execution_count": 148,
          "metadata": {},
          "output_type": "execute_result"
        },
        {
          "data": {
            "image/png": "[encoded data removed]",
            "text/plain": [
              "<Figure size 432x288 with 1 Axes>"
            ]
          },
          "metadata": {
            "needs_background": "light"
          },
          "output_type": "display_data"
        }
      ],
      "source": [
        "fig,ax = plt.subplots()\n",
        "ax.boxplot(main['age_when_rating'])"
      ]
    },
    {
      "cell_type": "markdown",
      "metadata": {},
      "source": [
        "# Feature 4: Age at Release \n",
        "\n",
        "how old was the user when the movie came out"
      ]
    },
    {
      "cell_type": "code",
      "execution_count": 149,
      "metadata": {},
      "outputs": [
        {
          "data": {
            "text/html": [
              "<div>\n",
              "<style scoped>\n",
              "    .dataframe tbody tr th:only-of-type {\n",
              "        vertical-align: middle;\n",
              "    }\n",
              "\n",
              "    .dataframe tbody tr th {\n",
              "        vertical-align: top;\n",
              "    }\n",
              "\n",
              "    .dataframe thead th {\n",
              "        text-align: right;\n",
              "    }\n",
              "</style>\n",
              "<table border=\"1\" class=\"dataframe\">\n",
              "  <thead>\n",
              "    <tr style=\"text-align: right;\">\n",
              "      <th></th>\n",
              "      <th>user_id</th>\n",
              "      <th>movie_id</th>\n",
              "      <th>rating</th>\n",
              "      <th>CBF</th>\n",
              "      <th>CF</th>\n",
              "      <th>age_when_rating</th>\n",
              "      <th>age_at_release</th>\n",
              "    </tr>\n",
              "  </thead>\n",
              "  <tbody>\n",
              "    <tr>\n",
              "      <th>1000204</th>\n",
              "      <td>6040</td>\n",
              "      <td>1091</td>\n",
              "      <td>1</td>\n",
              "      <td>0</td>\n",
              "      <td>1</td>\n",
              "      <td>25</td>\n",
              "      <td>16</td>\n",
              "    </tr>\n",
              "    <tr>\n",
              "      <th>1000205</th>\n",
              "      <td>6040</td>\n",
              "      <td>1094</td>\n",
              "      <td>5</td>\n",
              "      <td>0</td>\n",
              "      <td>3</td>\n",
              "      <td>25</td>\n",
              "      <td>19</td>\n",
              "    </tr>\n",
              "    <tr>\n",
              "      <th>1000206</th>\n",
              "      <td>6040</td>\n",
              "      <td>562</td>\n",
              "      <td>5</td>\n",
              "      <td>0</td>\n",
              "      <td>3</td>\n",
              "      <td>25</td>\n",
              "      <td>22</td>\n",
              "    </tr>\n",
              "    <tr>\n",
              "      <th>1000207</th>\n",
              "      <td>6040</td>\n",
              "      <td>1096</td>\n",
              "      <td>4</td>\n",
              "      <td>0</td>\n",
              "      <td>3</td>\n",
              "      <td>25</td>\n",
              "      <td>9</td>\n",
              "    </tr>\n",
              "    <tr>\n",
              "      <th>1000208</th>\n",
              "      <td>6040</td>\n",
              "      <td>1097</td>\n",
              "      <td>4</td>\n",
              "      <td>0</td>\n",
              "      <td>3</td>\n",
              "      <td>25</td>\n",
              "      <td>9</td>\n",
              "    </tr>\n",
              "  </tbody>\n",
              "</table>\n",
              "</div>"
            ],
            "text/plain": [
              "         user_id  movie_id  rating  CBF  CF  age_when_rating  age_at_release\n",
              "1000204     6040      1091       1    0   1               25              16\n",
              "1000205     6040      1094       5    0   3               25              19\n",
              "1000206     6040       562       5    0   3               25              22\n",
              "1000207     6040      1096       4    0   3               25               9\n",
              "1000208     6040      1097       4    0   3               25               9"
            ]
          },
          "execution_count": 149,
          "metadata": {},
          "output_type": "execute_result"
        }
      ],
      "source": [
        "main['age_at_release'] = 0\n",
        "\n",
        "for index, row in main.iterrows(): \n",
        "  user = int(row['user_id'])\n",
        "  movie = int(row['movie_id'])\n",
        "  user_in_users = users[users['user_id'] == user]\n",
        "  user_age = user_in_users['age'].values\n",
        "  movie_release_year = movies[movies['movie_id'] == movie]\n",
        "  movie_release_year = movie_release_year['year']\n",
        "  movie_release_year = movie_release_year.values\n",
        "  user_birth_year = 1998 - user_age\n",
        "  age_at_release = movie_release_year - user_birth_year\n",
        "  main.at[index, 'age_at_release'] = int(age_at_release)\n",
        "\n",
        "main.tail()"
      ]
    },
    {
      "cell_type": "code",
      "execution_count": 150,
      "metadata": {},
      "outputs": [
        {
          "data": {
            "text/html": [
              "<div>\n",
              "<style scoped>\n",
              "    .dataframe tbody tr th:only-of-type {\n",
              "        vertical-align: middle;\n",
              "    }\n",
              "\n",
              "    .dataframe tbody tr th {\n",
              "        vertical-align: top;\n",
              "    }\n",
              "\n",
              "    .dataframe thead th {\n",
              "        text-align: right;\n",
              "    }\n",
              "</style>\n",
              "<table border=\"1\" class=\"dataframe\">\n",
              "  <thead>\n",
              "    <tr style=\"text-align: right;\">\n",
              "      <th></th>\n",
              "      <th>user_id</th>\n",
              "      <th>movie_id</th>\n",
              "      <th>rating</th>\n",
              "      <th>CBF</th>\n",
              "      <th>CF</th>\n",
              "      <th>age_when_rating</th>\n",
              "      <th>age_at_release</th>\n",
              "    </tr>\n",
              "  </thead>\n",
              "  <tbody>\n",
              "    <tr>\n",
              "      <th>0</th>\n",
              "      <td>1</td>\n",
              "      <td>1193</td>\n",
              "      <td>5</td>\n",
              "      <td>0</td>\n",
              "      <td>4</td>\n",
              "      <td>1</td>\n",
              "      <td>-22</td>\n",
              "    </tr>\n",
              "    <tr>\n",
              "      <th>1</th>\n",
              "      <td>1</td>\n",
              "      <td>661</td>\n",
              "      <td>3</td>\n",
              "      <td>0</td>\n",
              "      <td>3</td>\n",
              "      <td>1</td>\n",
              "      <td>-1</td>\n",
              "    </tr>\n",
              "    <tr>\n",
              "      <th>2</th>\n",
              "      <td>1</td>\n",
              "      <td>914</td>\n",
              "      <td>3</td>\n",
              "      <td>0</td>\n",
              "      <td>4</td>\n",
              "      <td>1</td>\n",
              "      <td>-33</td>\n",
              "    </tr>\n",
              "    <tr>\n",
              "      <th>3</th>\n",
              "      <td>1</td>\n",
              "      <td>3408</td>\n",
              "      <td>4</td>\n",
              "      <td>0</td>\n",
              "      <td>4</td>\n",
              "      <td>1</td>\n",
              "      <td>3</td>\n",
              "    </tr>\n",
              "    <tr>\n",
              "      <th>4</th>\n",
              "      <td>1</td>\n",
              "      <td>2355</td>\n",
              "      <td>5</td>\n",
              "      <td>0</td>\n",
              "      <td>4</td>\n",
              "      <td>1</td>\n",
              "      <td>1</td>\n",
              "    </tr>\n",
              "  </tbody>\n",
              "</table>\n",
              "</div>"
            ],
            "text/plain": [
              "   user_id  movie_id  rating  CBF  CF  age_when_rating  age_at_release\n",
              "0        1      1193       5    0   4                1             -22\n",
              "1        1       661       3    0   3                1              -1\n",
              "2        1       914       3    0   4                1             -33\n",
              "3        1      3408       4    0   4                1               3\n",
              "4        1      2355       5    0   4                1               1"
            ]
          },
          "execution_count": 150,
          "metadata": {},
          "output_type": "execute_result"
        }
      ],
      "source": [
        "main.head()"
      ]
    },
    {
      "cell_type": "markdown",
      "metadata": {},
      "source": [
        "# Feature 5: Released after birth\n",
        "\n",
        "Was the movie released after the user was born. 1 - yes, 2 - no"
      ]
    },
    {
      "cell_type": "code",
      "execution_count": 151,
      "metadata": {},
      "outputs": [],
      "source": [
        "main['released_after_birth'] = 0 \n",
        "\n",
        "for index, row in main.iterrows(): \n",
        "    age_at_release = int(row['age_at_release'])\n",
        "    if (age_at_release >= 0): \n",
        "        main.at[index, 'released_after_birth'] = 1"
      ]
    },
    {
      "cell_type": "markdown",
      "metadata": {},
      "source": [
        "# Feature 6: Gender"
      ]
    },
    {
      "cell_type": "code",
      "execution_count": 152,
      "metadata": {},
      "outputs": [
        {
          "data": {
            "text/html": [
              "<div>\n",
              "<style scoped>\n",
              "    .dataframe tbody tr th:only-of-type {\n",
              "        vertical-align: middle;\n",
              "    }\n",
              "\n",
              "    .dataframe tbody tr th {\n",
              "        vertical-align: top;\n",
              "    }\n",
              "\n",
              "    .dataframe thead th {\n",
              "        text-align: right;\n",
              "    }\n",
              "</style>\n",
              "<table border=\"1\" class=\"dataframe\">\n",
              "  <thead>\n",
              "    <tr style=\"text-align: right;\">\n",
              "      <th></th>\n",
              "      <th>user_id</th>\n",
              "      <th>movie_id</th>\n",
              "      <th>rating</th>\n",
              "      <th>CBF</th>\n",
              "      <th>CF</th>\n",
              "      <th>age_when_rating</th>\n",
              "      <th>age_at_release</th>\n",
              "      <th>released_after_birth</th>\n",
              "      <th>gender</th>\n",
              "    </tr>\n",
              "  </thead>\n",
              "  <tbody>\n",
              "    <tr>\n",
              "      <th>1000204</th>\n",
              "      <td>6040</td>\n",
              "      <td>1091</td>\n",
              "      <td>1</td>\n",
              "      <td>0</td>\n",
              "      <td>1</td>\n",
              "      <td>25</td>\n",
              "      <td>16</td>\n",
              "      <td>1</td>\n",
              "      <td>0</td>\n",
              "    </tr>\n",
              "    <tr>\n",
              "      <th>1000205</th>\n",
              "      <td>6040</td>\n",
              "      <td>1094</td>\n",
              "      <td>5</td>\n",
              "      <td>0</td>\n",
              "      <td>3</td>\n",
              "      <td>25</td>\n",
              "      <td>19</td>\n",
              "      <td>1</td>\n",
              "      <td>0</td>\n",
              "    </tr>\n",
              "    <tr>\n",
              "      <th>1000206</th>\n",
              "      <td>6040</td>\n",
              "      <td>562</td>\n",
              "      <td>5</td>\n",
              "      <td>0</td>\n",
              "      <td>3</td>\n",
              "      <td>25</td>\n",
              "      <td>22</td>\n",
              "      <td>1</td>\n",
              "      <td>0</td>\n",
              "    </tr>\n",
              "    <tr>\n",
              "      <th>1000207</th>\n",
              "      <td>6040</td>\n",
              "      <td>1096</td>\n",
              "      <td>4</td>\n",
              "      <td>0</td>\n",
              "      <td>3</td>\n",
              "      <td>25</td>\n",
              "      <td>9</td>\n",
              "      <td>1</td>\n",
              "      <td>0</td>\n",
              "    </tr>\n",
              "    <tr>\n",
              "      <th>1000208</th>\n",
              "      <td>6040</td>\n",
              "      <td>1097</td>\n",
              "      <td>4</td>\n",
              "      <td>0</td>\n",
              "      <td>3</td>\n",
              "      <td>25</td>\n",
              "      <td>9</td>\n",
              "      <td>1</td>\n",
              "      <td>0</td>\n",
              "    </tr>\n",
              "  </tbody>\n",
              "</table>\n",
              "</div>"
            ],
            "text/plain": [
              "         user_id  movie_id  rating  CBF  CF  age_when_rating  age_at_release  \\\n",
              "1000204     6040      1091       1    0   1               25              16   \n",
              "1000205     6040      1094       5    0   3               25              19   \n",
              "1000206     6040       562       5    0   3               25              22   \n",
              "1000207     6040      1096       4    0   3               25               9   \n",
              "1000208     6040      1097       4    0   3               25               9   \n",
              "\n",
              "         released_after_birth gender  \n",
              "1000204                     1      0  \n",
              "1000205                     1      0  \n",
              "1000206                     1      0  \n",
              "1000207                     1      0  \n",
              "1000208                     1      0  "
            ]
          },
          "execution_count": 152,
          "metadata": {},
          "output_type": "execute_result"
        }
      ],
      "source": [
        "main['gender'] = None\n",
        "\n",
        "for index, row in main.iterrows(): \n",
        "  user = int(row['user_id'])\n",
        "  user_in_users = users[users['user_id'] == user]\n",
        "  user_gender = int(user_in_users['gender'].values)\n",
        "  main.at[index, 'gender'] = user_gender\n",
        "\n",
        "main.tail()"
      ]
    },
    {
      "cell_type": "code",
      "execution_count": 83,
      "metadata": {},
      "outputs": [
        {
          "data": {
            "text/html": [
              "<div>\n",
              "<style scoped>\n",
              "    .dataframe tbody tr th:only-of-type {\n",
              "        vertical-align: middle;\n",
              "    }\n",
              "\n",
              "    .dataframe tbody tr th {\n",
              "        vertical-align: top;\n",
              "    }\n",
              "\n",
              "    .dataframe thead th {\n",
              "        text-align: right;\n",
              "    }\n",
              "</style>\n",
              "<table border=\"1\" class=\"dataframe\">\n",
              "  <thead>\n",
              "    <tr style=\"text-align: right;\">\n",
              "      <th></th>\n",
              "      <th>user_id</th>\n",
              "      <th>movie_id</th>\n",
              "      <th>rating</th>\n",
              "      <th>CBF</th>\n",
              "      <th>CF</th>\n",
              "      <th>age_when_rating</th>\n",
              "      <th>age_at_release</th>\n",
              "      <th>released_after_birth</th>\n",
              "    </tr>\n",
              "  </thead>\n",
              "  <tbody>\n",
              "    <tr>\n",
              "      <th>count</th>\n",
              "      <td>1.000209e+06</td>\n",
              "      <td>1.000209e+06</td>\n",
              "      <td>1.000209e+06</td>\n",
              "      <td>1000209.0</td>\n",
              "      <td>1.000209e+06</td>\n",
              "      <td>1.000209e+06</td>\n",
              "      <td>1.000209e+06</td>\n",
              "      <td>1.000209e+06</td>\n",
              "    </tr>\n",
              "    <tr>\n",
              "      <th>mean</th>\n",
              "      <td>3.024512e+03</td>\n",
              "      <td>1.865540e+03</td>\n",
              "      <td>3.581564e+00</td>\n",
              "      <td>0.0</td>\n",
              "      <td>3.083962e+00</td>\n",
              "      <td>2.973831e+01</td>\n",
              "      <td>1.843672e+01</td>\n",
              "      <td>8.872976e-01</td>\n",
              "    </tr>\n",
              "    <tr>\n",
              "      <th>std</th>\n",
              "      <td>1.728413e+03</td>\n",
              "      <td>1.096041e+03</td>\n",
              "      <td>1.117102e+00</td>\n",
              "      <td>0.0</td>\n",
              "      <td>8.144378e-01</td>\n",
              "      <td>1.175198e+01</td>\n",
              "      <td>1.697263e+01</td>\n",
              "      <td>3.162289e-01</td>\n",
              "    </tr>\n",
              "    <tr>\n",
              "      <th>min</th>\n",
              "      <td>1.000000e+00</td>\n",
              "      <td>1.000000e+00</td>\n",
              "      <td>1.000000e+00</td>\n",
              "      <td>0.0</td>\n",
              "      <td>1.000000e+00</td>\n",
              "      <td>1.000000e+00</td>\n",
              "      <td>-7.600000e+01</td>\n",
              "      <td>0.000000e+00</td>\n",
              "    </tr>\n",
              "    <tr>\n",
              "      <th>25%</th>\n",
              "      <td>1.506000e+03</td>\n",
              "      <td>1.030000e+03</td>\n",
              "      <td>3.000000e+00</td>\n",
              "      <td>0.0</td>\n",
              "      <td>3.000000e+00</td>\n",
              "      <td>2.500000e+01</td>\n",
              "      <td>1.100000e+01</td>\n",
              "      <td>1.000000e+00</td>\n",
              "    </tr>\n",
              "    <tr>\n",
              "      <th>50%</th>\n",
              "      <td>3.070000e+03</td>\n",
              "      <td>1.835000e+03</td>\n",
              "      <td>4.000000e+00</td>\n",
              "      <td>0.0</td>\n",
              "      <td>3.000000e+00</td>\n",
              "      <td>2.500000e+01</td>\n",
              "      <td>2.000000e+01</td>\n",
              "      <td>1.000000e+00</td>\n",
              "    </tr>\n",
              "    <tr>\n",
              "      <th>75%</th>\n",
              "      <td>4.476000e+03</td>\n",
              "      <td>2.770000e+03</td>\n",
              "      <td>4.000000e+00</td>\n",
              "      <td>0.0</td>\n",
              "      <td>4.000000e+00</td>\n",
              "      <td>3.500000e+01</td>\n",
              "      <td>2.700000e+01</td>\n",
              "      <td>1.000000e+00</td>\n",
              "    </tr>\n",
              "    <tr>\n",
              "      <th>max</th>\n",
              "      <td>6.040000e+03</td>\n",
              "      <td>3.952000e+03</td>\n",
              "      <td>5.000000e+00</td>\n",
              "      <td>0.0</td>\n",
              "      <td>5.000000e+00</td>\n",
              "      <td>5.600000e+01</td>\n",
              "      <td>5.800000e+01</td>\n",
              "      <td>1.000000e+00</td>\n",
              "    </tr>\n",
              "  </tbody>\n",
              "</table>\n",
              "</div>"
            ],
            "text/plain": [
              "            user_id      movie_id        rating        CBF            CF  \\\n",
              "count  1.000209e+06  1.000209e+06  1.000209e+06  1000209.0  1.000209e+06   \n",
              "mean   3.024512e+03  1.865540e+03  3.581564e+00        0.0  3.083962e+00   \n",
              "std    1.728413e+03  1.096041e+03  1.117102e+00        0.0  8.144378e-01   \n",
              "min    1.000000e+00  1.000000e+00  1.000000e+00        0.0  1.000000e+00   \n",
              "25%    1.506000e+03  1.030000e+03  3.000000e+00        0.0  3.000000e+00   \n",
              "50%    3.070000e+03  1.835000e+03  4.000000e+00        0.0  3.000000e+00   \n",
              "75%    4.476000e+03  2.770000e+03  4.000000e+00        0.0  4.000000e+00   \n",
              "max    6.040000e+03  3.952000e+03  5.000000e+00        0.0  5.000000e+00   \n",
              "\n",
              "       age_when_rating  age_at_release  released_after_birth  \n",
              "count     1.000209e+06    1.000209e+06          1.000209e+06  \n",
              "mean      2.973831e+01    1.843672e+01          8.872976e-01  \n",
              "std       1.175198e+01    1.697263e+01          3.162289e-01  \n",
              "min       1.000000e+00   -7.600000e+01          0.000000e+00  \n",
              "25%       2.500000e+01    1.100000e+01          1.000000e+00  \n",
              "50%       2.500000e+01    2.000000e+01          1.000000e+00  \n",
              "75%       3.500000e+01    2.700000e+01          1.000000e+00  \n",
              "max       5.600000e+01    5.800000e+01          1.000000e+00  "
            ]
          },
          "execution_count": 83,
          "metadata": {},
          "output_type": "execute_result"
        }
      ],
      "source": [
        "main.describe()"
      ]
    },
    {
      "cell_type": "markdown",
      "metadata": {},
      "source": [
        "# Feature 7: Favourite Genre\n",
        "\n",
        "What is the favourite genre of each user"
      ]
    },
    {
      "cell_type": "code",
      "execution_count": 154,
      "metadata": {},
      "outputs": [
        {
          "data": {
            "text/html": [
              "<div>\n",
              "<style scoped>\n",
              "    .dataframe tbody tr th:only-of-type {\n",
              "        vertical-align: middle;\n",
              "    }\n",
              "\n",
              "    .dataframe tbody tr th {\n",
              "        vertical-align: top;\n",
              "    }\n",
              "\n",
              "    .dataframe thead th {\n",
              "        text-align: right;\n",
              "    }\n",
              "</style>\n",
              "<table border=\"1\" class=\"dataframe\">\n",
              "  <thead>\n",
              "    <tr style=\"text-align: right;\">\n",
              "      <th></th>\n",
              "      <th>movie_id</th>\n",
              "      <th>title</th>\n",
              "      <th>genres</th>\n",
              "      <th>year</th>\n",
              "    </tr>\n",
              "  </thead>\n",
              "  <tbody>\n",
              "    <tr>\n",
              "      <th>0</th>\n",
              "      <td>1</td>\n",
              "      <td>Toy Story</td>\n",
              "      <td>animation children's comedy</td>\n",
              "      <td>1995</td>\n",
              "    </tr>\n",
              "    <tr>\n",
              "      <th>1</th>\n",
              "      <td>2</td>\n",
              "      <td>Jumanji</td>\n",
              "      <td>adventure children's fantasy</td>\n",
              "      <td>1995</td>\n",
              "    </tr>\n",
              "    <tr>\n",
              "      <th>2</th>\n",
              "      <td>3</td>\n",
              "      <td>Grumpier Old Men</td>\n",
              "      <td>comedy romance</td>\n",
              "      <td>1995</td>\n",
              "    </tr>\n",
              "    <tr>\n",
              "      <th>3</th>\n",
              "      <td>4</td>\n",
              "      <td>Waiting to Exhale</td>\n",
              "      <td>comedy drama</td>\n",
              "      <td>1995</td>\n",
              "    </tr>\n",
              "    <tr>\n",
              "      <th>4</th>\n",
              "      <td>5</td>\n",
              "      <td>Father of the Bride Part II</td>\n",
              "      <td>comedy</td>\n",
              "      <td>1995</td>\n",
              "    </tr>\n",
              "  </tbody>\n",
              "</table>\n",
              "</div>"
            ],
            "text/plain": [
              "   movie_id                        title                        genres  year\n",
              "0         1                    Toy Story   animation children's comedy  1995\n",
              "1         2                      Jumanji  adventure children's fantasy  1995\n",
              "2         3             Grumpier Old Men                comedy romance  1995\n",
              "3         4            Waiting to Exhale                  comedy drama  1995\n",
              "4         5  Father of the Bride Part II                        comedy  1995"
            ]
          },
          "execution_count": 154,
          "metadata": {},
          "output_type": "execute_result"
        }
      ],
      "source": [
        "movies.head()"
      ]
    },
    {
      "cell_type": "code",
      "execution_count": 188,
      "metadata": {},
      "outputs": [],
      "source": [
        "genres = movies.copy(deep=True)"
      ]
    },
    {
      "cell_type": "code",
      "execution_count": 189,
      "metadata": {},
      "outputs": [
        {
          "data": {
            "text/plain": [
              "drama                              843\n",
              "comedy                             521\n",
              "horror                             178\n",
              "comedy drama                       162\n",
              "comedy romance                     142\n",
              "                                  ... \n",
              "horror mystery                       1\n",
              "musical romance war                  1\n",
              "adventure animation film-noir        1\n",
              "adventure animation sci-fi           1\n",
              "adventure crime sci-fi thriller      1\n",
              "Name: genres, Length: 301, dtype: Int64"
            ]
          },
          "execution_count": 189,
          "metadata": {},
          "output_type": "execute_result"
        }
      ],
      "source": [
        "genres['genres'].value_counts()"
      ]
    },
    {
      "cell_type": "code",
      "execution_count": 190,
      "metadata": {},
      "outputs": [],
      "source": [
        "genres_map = {'drama': 0,\n",
        "              'comedy' : 1, \n",
        "              'action' : 2, \n",
        "              'thriller': 3,\n",
        "              'romance': 4, \n",
        "              'horror': 5, \n",
        "              'adventure': 6,\n",
        "              'sci-fi': 7,\n",
        "              'children\\'s': 8,\n",
        "              'crime': 9,\n",
        "              'war': 10,\n",
        "              'documentary': 11, \n",
        "              'musical': 12,\n",
        "              'mystery': 13,\n",
        "              'animation': 14,\n",
        "              'fantasy': 15,\n",
        "              'western': 16, \n",
        "              'film_noir': 17,\n",
        "              }"
      ]
    },
    {
      "cell_type": "code",
      "execution_count": 191,
      "metadata": {},
      "outputs": [],
      "source": [
        "def encode_genres(genres): \n",
        "    encoded = '' \n",
        "    words = ''\n",
        "    if (genres != None):\n",
        "        words = genres.split()\n",
        "    encoded = []\n",
        "    for word in words: \n",
        "        index = genres_map.get(word)\n",
        "        encoded.append(index)\n",
        "    \n",
        "    return encoded"
      ]
    },
    {
      "cell_type": "code",
      "execution_count": 192,
      "metadata": {},
      "outputs": [
        {
          "data": {
            "text/html": [
              "<div>\n",
              "<style scoped>\n",
              "    .dataframe tbody tr th:only-of-type {\n",
              "        vertical-align: middle;\n",
              "    }\n",
              "\n",
              "    .dataframe tbody tr th {\n",
              "        vertical-align: top;\n",
              "    }\n",
              "\n",
              "    .dataframe thead th {\n",
              "        text-align: right;\n",
              "    }\n",
              "</style>\n",
              "<table border=\"1\" class=\"dataframe\">\n",
              "  <thead>\n",
              "    <tr style=\"text-align: right;\">\n",
              "      <th></th>\n",
              "      <th>movie_id</th>\n",
              "      <th>title</th>\n",
              "      <th>genres</th>\n",
              "      <th>year</th>\n",
              "    </tr>\n",
              "  </thead>\n",
              "  <tbody>\n",
              "    <tr>\n",
              "      <th>0</th>\n",
              "      <td>1</td>\n",
              "      <td>Toy Story</td>\n",
              "      <td>animation children's comedy</td>\n",
              "      <td>1995</td>\n",
              "    </tr>\n",
              "    <tr>\n",
              "      <th>1</th>\n",
              "      <td>2</td>\n",
              "      <td>Jumanji</td>\n",
              "      <td>adventure children's fantasy</td>\n",
              "      <td>1995</td>\n",
              "    </tr>\n",
              "    <tr>\n",
              "      <th>2</th>\n",
              "      <td>3</td>\n",
              "      <td>Grumpier Old Men</td>\n",
              "      <td>comedy romance</td>\n",
              "      <td>1995</td>\n",
              "    </tr>\n",
              "    <tr>\n",
              "      <th>3</th>\n",
              "      <td>4</td>\n",
              "      <td>Waiting to Exhale</td>\n",
              "      <td>comedy drama</td>\n",
              "      <td>1995</td>\n",
              "    </tr>\n",
              "    <tr>\n",
              "      <th>4</th>\n",
              "      <td>5</td>\n",
              "      <td>Father of the Bride Part II</td>\n",
              "      <td>comedy</td>\n",
              "      <td>1995</td>\n",
              "    </tr>\n",
              "    <tr>\n",
              "      <th>...</th>\n",
              "      <td>...</td>\n",
              "      <td>...</td>\n",
              "      <td>...</td>\n",
              "      <td>...</td>\n",
              "    </tr>\n",
              "    <tr>\n",
              "      <th>3878</th>\n",
              "      <td>3948</td>\n",
              "      <td>Meet the Parents</td>\n",
              "      <td>comedy</td>\n",
              "      <td>2000</td>\n",
              "    </tr>\n",
              "    <tr>\n",
              "      <th>3879</th>\n",
              "      <td>3949</td>\n",
              "      <td>Requiem for a Dream</td>\n",
              "      <td>drama</td>\n",
              "      <td>2000</td>\n",
              "    </tr>\n",
              "    <tr>\n",
              "      <th>3880</th>\n",
              "      <td>3950</td>\n",
              "      <td>Tigerland</td>\n",
              "      <td>drama</td>\n",
              "      <td>2000</td>\n",
              "    </tr>\n",
              "    <tr>\n",
              "      <th>3881</th>\n",
              "      <td>3951</td>\n",
              "      <td>Two Family House</td>\n",
              "      <td>drama</td>\n",
              "      <td>2000</td>\n",
              "    </tr>\n",
              "    <tr>\n",
              "      <th>3882</th>\n",
              "      <td>3952</td>\n",
              "      <td>Contender, The</td>\n",
              "      <td>drama thriller</td>\n",
              "      <td>2000</td>\n",
              "    </tr>\n",
              "  </tbody>\n",
              "</table>\n",
              "<p>3883 rows × 4 columns</p>\n",
              "</div>"
            ],
            "text/plain": [
              "      movie_id                        title                        genres  \\\n",
              "0            1                    Toy Story   animation children's comedy   \n",
              "1            2                      Jumanji  adventure children's fantasy   \n",
              "2            3             Grumpier Old Men                comedy romance   \n",
              "3            4            Waiting to Exhale                  comedy drama   \n",
              "4            5  Father of the Bride Part II                        comedy   \n",
              "...        ...                          ...                           ...   \n",
              "3878      3948             Meet the Parents                        comedy   \n",
              "3879      3949          Requiem for a Dream                         drama   \n",
              "3880      3950                    Tigerland                         drama   \n",
              "3881      3951             Two Family House                         drama   \n",
              "3882      3952               Contender, The                drama thriller   \n",
              "\n",
              "      year  \n",
              "0     1995  \n",
              "1     1995  \n",
              "2     1995  \n",
              "3     1995  \n",
              "4     1995  \n",
              "...    ...  \n",
              "3878  2000  \n",
              "3879  2000  \n",
              "3880  2000  \n",
              "3881  2000  \n",
              "3882  2000  \n",
              "\n",
              "[3883 rows x 4 columns]"
            ]
          },
          "execution_count": 192,
          "metadata": {},
          "output_type": "execute_result"
        }
      ],
      "source": [
        "genres"
      ]
    },
    {
      "cell_type": "code",
      "execution_count": 193,
      "metadata": {},
      "outputs": [],
      "source": [
        "genres['encoded'] = None"
      ]
    },
    {
      "cell_type": "code",
      "execution_count": 194,
      "metadata": {},
      "outputs": [],
      "source": [
        "for index, row in genres.iterrows():\n",
        "    genres_str = row['genres']\n",
        "    genres_list = encode_genres(genres_str)\n",
        "    genres.at[index, 'encoded'] = genres_list"
      ]
    },
    {
      "cell_type": "code",
      "execution_count": 195,
      "metadata": {},
      "outputs": [
        {
          "data": {
            "text/html": [
              "<div>\n",
              "<style scoped>\n",
              "    .dataframe tbody tr th:only-of-type {\n",
              "        vertical-align: middle;\n",
              "    }\n",
              "\n",
              "    .dataframe tbody tr th {\n",
              "        vertical-align: top;\n",
              "    }\n",
              "\n",
              "    .dataframe thead th {\n",
              "        text-align: right;\n",
              "    }\n",
              "</style>\n",
              "<table border=\"1\" class=\"dataframe\">\n",
              "  <thead>\n",
              "    <tr style=\"text-align: right;\">\n",
              "      <th></th>\n",
              "      <th>movie_id</th>\n",
              "      <th>title</th>\n",
              "      <th>genres</th>\n",
              "      <th>year</th>\n",
              "      <th>encoded</th>\n",
              "    </tr>\n",
              "  </thead>\n",
              "  <tbody>\n",
              "    <tr>\n",
              "      <th>0</th>\n",
              "      <td>1</td>\n",
              "      <td>Toy Story</td>\n",
              "      <td>animation children's comedy</td>\n",
              "      <td>1995</td>\n",
              "      <td>[14, 8, 1]</td>\n",
              "    </tr>\n",
              "    <tr>\n",
              "      <th>1</th>\n",
              "      <td>2</td>\n",
              "      <td>Jumanji</td>\n",
              "      <td>adventure children's fantasy</td>\n",
              "      <td>1995</td>\n",
              "      <td>[6, 8, 15]</td>\n",
              "    </tr>\n",
              "    <tr>\n",
              "      <th>2</th>\n",
              "      <td>3</td>\n",
              "      <td>Grumpier Old Men</td>\n",
              "      <td>comedy romance</td>\n",
              "      <td>1995</td>\n",
              "      <td>[1, 4]</td>\n",
              "    </tr>\n",
              "    <tr>\n",
              "      <th>3</th>\n",
              "      <td>4</td>\n",
              "      <td>Waiting to Exhale</td>\n",
              "      <td>comedy drama</td>\n",
              "      <td>1995</td>\n",
              "      <td>[1, 0]</td>\n",
              "    </tr>\n",
              "    <tr>\n",
              "      <th>4</th>\n",
              "      <td>5</td>\n",
              "      <td>Father of the Bride Part II</td>\n",
              "      <td>comedy</td>\n",
              "      <td>1995</td>\n",
              "      <td>[1]</td>\n",
              "    </tr>\n",
              "  </tbody>\n",
              "</table>\n",
              "</div>"
            ],
            "text/plain": [
              "   movie_id                        title                        genres  year  \\\n",
              "0         1                    Toy Story   animation children's comedy  1995   \n",
              "1         2                      Jumanji  adventure children's fantasy  1995   \n",
              "2         3             Grumpier Old Men                comedy romance  1995   \n",
              "3         4            Waiting to Exhale                  comedy drama  1995   \n",
              "4         5  Father of the Bride Part II                        comedy  1995   \n",
              "\n",
              "      encoded  \n",
              "0  [14, 8, 1]  \n",
              "1  [6, 8, 15]  \n",
              "2      [1, 4]  \n",
              "3      [1, 0]  \n",
              "4         [1]  "
            ]
          },
          "execution_count": 195,
          "metadata": {},
          "output_type": "execute_result"
        }
      ],
      "source": [
        "genres.head()"
      ]
    },
    {
      "cell_type": "code",
      "execution_count": 163,
      "metadata": {},
      "outputs": [
        {
          "data": {
            "text/html": [
              "<div>\n",
              "<style scoped>\n",
              "    .dataframe tbody tr th:only-of-type {\n",
              "        vertical-align: middle;\n",
              "    }\n",
              "\n",
              "    .dataframe tbody tr th {\n",
              "        vertical-align: top;\n",
              "    }\n",
              "\n",
              "    .dataframe thead th {\n",
              "        text-align: right;\n",
              "    }\n",
              "</style>\n",
              "<table border=\"1\" class=\"dataframe\">\n",
              "  <thead>\n",
              "    <tr style=\"text-align: right;\">\n",
              "      <th></th>\n",
              "      <th>user_id</th>\n",
              "      <th>movies</th>\n",
              "      <th>CBF</th>\n",
              "    </tr>\n",
              "  </thead>\n",
              "  <tbody>\n",
              "    <tr>\n",
              "      <th>0</th>\n",
              "      <td>1</td>\n",
              "      <td>[1193, 661, 914, 3408, 2355, 1197, 1287, 2804,...</td>\n",
              "      <td>[844, 1755, 1772, 1750, 1756, 1752, 1744, 1748...</td>\n",
              "    </tr>\n",
              "    <tr>\n",
              "      <th>1</th>\n",
              "      <td>2</td>\n",
              "      <td>[1357, 3068, 1537, 647, 2194, 648, 2268, 2628,...</td>\n",
              "      <td>[911, 2233, 126, 176, 484, 598, 660, 736, 922,...</td>\n",
              "    </tr>\n",
              "    <tr>\n",
              "      <th>2</th>\n",
              "      <td>3</td>\n",
              "      <td>[3421, 648, 1394, 3534, 104, 2735, 1210, 1431,...</td>\n",
              "      <td>[1128, 315, 3054, 3196, 2561, 1203, 2562, 342,...</td>\n",
              "    </tr>\n",
              "    <tr>\n",
              "      <th>3</th>\n",
              "      <td>4</td>\n",
              "      <td>[3468, 1210, 2951, 1214, 1036, 260, 2028, 480,...</td>\n",
              "      <td>[2263, 2822, 81, 178, 1495, 274, 26, 29, 88, 1...</td>\n",
              "    </tr>\n",
              "    <tr>\n",
              "      <th>4</th>\n",
              "      <td>5</td>\n",
              "      <td>[2987, 2333, 1175, 39, 2337, 1535, 1392, 1466,...</td>\n",
              "      <td>[1106, 575, 466, 1108, 253, 1909, 1817, 709, 1...</td>\n",
              "    </tr>\n",
              "  </tbody>\n",
              "</table>\n",
              "</div>"
            ],
            "text/plain": [
              "   user_id                                             movies  \\\n",
              "0        1  [1193, 661, 914, 3408, 2355, 1197, 1287, 2804,...   \n",
              "1        2  [1357, 3068, 1537, 647, 2194, 648, 2268, 2628,...   \n",
              "2        3  [3421, 648, 1394, 3534, 104, 2735, 1210, 1431,...   \n",
              "3        4  [3468, 1210, 2951, 1214, 1036, 260, 2028, 480,...   \n",
              "4        5  [2987, 2333, 1175, 39, 2337, 1535, 1392, 1466,...   \n",
              "\n",
              "                                                 CBF  \n",
              "0  [844, 1755, 1772, 1750, 1756, 1752, 1744, 1748...  \n",
              "1  [911, 2233, 126, 176, 484, 598, 660, 736, 922,...  \n",
              "2  [1128, 315, 3054, 3196, 2561, 1203, 2562, 342,...  \n",
              "3  [2263, 2822, 81, 178, 1495, 274, 26, 29, 88, 1...  \n",
              "4  [1106, 575, 466, 1108, 253, 1909, 1817, 709, 1...  "
            ]
          },
          "execution_count": 163,
          "metadata": {},
          "output_type": "execute_result"
        }
      ],
      "source": [
        "positive_ratings.head()"
      ]
    },
    {
      "cell_type": "code",
      "execution_count": 169,
      "metadata": {},
      "outputs": [],
      "source": [
        "# generate a list of genres \n",
        "\n",
        "positive_ratings['genres'] = None \n",
        "\n",
        "for index, row in positive_ratings.iterrows(): \n",
        "    favourite_movies = list(row['movies'])\n",
        "    favourite_genres = []\n",
        "    for movie in favourite_movies: \n",
        "        movie_genres = list(genres[genres['movie_id'] == movie]['encoded'])\n",
        "        if (movie_genres != None): \n",
        "            favourite_genres += movie_genres\n",
        "    positive_ratings.at[index, 'genres'] = favourite_genres\n",
        "        "
      ]
    },
    {
      "cell_type": "code",
      "execution_count": 171,
      "metadata": {},
      "outputs": [
        {
          "data": {
            "text/plain": [
              "0       [[0], [14, 8, 12], [12, 4], [0], [14, 8, 1], [...\n",
              "1       [[0, 4], [0], [1], [0, 10], [2, 9, 0], [2, 6, ...\n",
              "2       [[1], [2, 6, 13], [1], [1], [1], [2, 6, 1], [2...\n",
              "3       [[0], [2, 6, 4, 7, 10], [2, 16], [2, 5, 7, 3],...\n",
              "4       [[6, 14, None], [0], [1, 7], [1, 4], [0], [0, ...\n",
              "                              ...                        \n",
              "6035    [[0], [1, 0], [6, 8, 1, 15, 7], [2, 7, 3], [2,...\n",
              "6036    [[2, 7, 3], [0], [5, 3], [1, 11], [1, 0, 4], [...\n",
              "6037    [[0], [0, 4, 10], [1], [1, 0], [1], [14, 1], [...\n",
              "6038    [[14, 8, 1, 12], [0, 4, 10], [0, 12], [1], [1]...\n",
              "6039    [[0], [2, 7, 3], [14, 8, 1], [0], [0, 3], [0],...\n",
              "Name: genres, Length: 6040, dtype: object"
            ]
          },
          "execution_count": 171,
          "metadata": {},
          "output_type": "execute_result"
        }
      ],
      "source": [
        "positive_ratings['genres']"
      ]
    },
    {
      "cell_type": "code",
      "execution_count": 180,
      "metadata": {},
      "outputs": [],
      "source": [
        "import collections \n",
        "\n",
        "def get_favourites(genres): \n",
        "    all_genres = []\n",
        "    for list_of_genres in genres: \n",
        "        all_genres += list_of_genres\n",
        "    \n",
        "    counter  = collections.Counter(all_genres)\n",
        "    top_3_with_count = counter.most_common(3)\n",
        "    top_3 = []\n",
        "    for keyval in top_3_with_count: \n",
        "        key = keyval[0]\n",
        "        top_3 += [key]\n",
        "    return top_3\n",
        "    # now we have a list of all the genres for all the favourite movies\n",
        "    # try to get top 3 \n",
        "    \n",
        "    "
      ]
    },
    {
      "cell_type": "code",
      "execution_count": 183,
      "metadata": {},
      "outputs": [],
      "source": [
        "positive_ratings['favourites'] = None\n",
        "for index, row in positive_ratings.iterrows(): \n",
        "    genres = row['genres']\n",
        "    favourites = get_favourites(genres)\n",
        "    positive_ratings.at[index, 'favourites'] = favourites "
      ]
    },
    {
      "cell_type": "code",
      "execution_count": 184,
      "metadata": {},
      "outputs": [
        {
          "data": {
            "text/plain": [
              "0       [0, 8, 14]\n",
              "1        [0, 2, 3]\n",
              "2        [1, 6, 2]\n",
              "3        [2, 7, 0]\n",
              "4        [0, 1, 4]\n",
              "           ...    \n",
              "6035     [0, 1, 4]\n",
              "6036     [0, 3, 1]\n",
              "6037     [1, 0, 4]\n",
              "6038    [1, 12, 4]\n",
              "6039     [0, 1, 3]\n",
              "Name: favourites, Length: 6040, dtype: object"
            ]
          },
          "execution_count": 184,
          "metadata": {},
          "output_type": "execute_result"
        }
      ],
      "source": [
        "positive_ratings['favourites']"
      ]
    },
    {
      "cell_type": "code",
      "execution_count": 216,
      "metadata": {},
      "outputs": [],
      "source": [
        "def has_intersection(list1, list2): \n",
        "    list1 = list1[0]\n",
        "    list2 = list2[0]\n",
        "    for item in list1: \n",
        "        if item in list2: \n",
        "            return True\n",
        "    return False"
      ]
    },
    {
      "cell_type": "code",
      "execution_count": 217,
      "metadata": {},
      "outputs": [
        {
          "name": "stdout",
          "output_type": "stream",
          "text": [
            "0\n",
            "100000\n",
            "200000\n",
            "300000\n",
            "400000\n",
            "500000\n",
            "600000\n",
            "700000\n",
            "800000\n",
            "900000\n",
            "1000000\n"
          ]
        }
      ],
      "source": [
        "# check if each movie is of the user's favourite genre \n",
        "\n",
        "main['is_favourite_genre'] = 0\n",
        "for index, row in main.iterrows(): \n",
        "    if (index % 100000 == 0): \n",
        "        print(index)\n",
        "    user = row['user_id']\n",
        "    movie = row['movie_id']\n",
        "    user_favourite_genres = positive_ratings[positive_ratings['user_id'] == user]['favourites']\n",
        "    movie_genres = genres[genres['movie_id'] == movie]['encoded']\n",
        "    \n",
        "    if (has_intersection(movie_genres.values, user_favourite_genres.values)): \n",
        "        main.at[index, 'is_favourite_genre'] = 1"
      ]
    },
    {
      "cell_type": "code",
      "execution_count": 218,
      "metadata": {},
      "outputs": [
        {
          "data": {
            "text/plain": [
              "1    828608\n",
              "0    171601\n",
              "Name: is_favourite_genre, dtype: int64"
            ]
          },
          "execution_count": 218,
          "metadata": {},
          "output_type": "execute_result"
        }
      ],
      "source": [
        "main['is_favourite_genre'].value_counts()"
      ]
    },
    {
      "cell_type": "code",
      "execution_count": 219,
      "metadata": {},
      "outputs": [
        {
          "data": {
            "text/html": [
              "<div>\n",
              "<style scoped>\n",
              "    .dataframe tbody tr th:only-of-type {\n",
              "        vertical-align: middle;\n",
              "    }\n",
              "\n",
              "    .dataframe tbody tr th {\n",
              "        vertical-align: top;\n",
              "    }\n",
              "\n",
              "    .dataframe thead th {\n",
              "        text-align: right;\n",
              "    }\n",
              "</style>\n",
              "<table border=\"1\" class=\"dataframe\">\n",
              "  <thead>\n",
              "    <tr style=\"text-align: right;\">\n",
              "      <th></th>\n",
              "      <th>user_id</th>\n",
              "      <th>movie_id</th>\n",
              "      <th>rating</th>\n",
              "      <th>CBF</th>\n",
              "      <th>CF</th>\n",
              "      <th>age_when_rating</th>\n",
              "      <th>age_at_release</th>\n",
              "      <th>released_after_birth</th>\n",
              "      <th>gender</th>\n",
              "      <th>is_favourite_genre</th>\n",
              "    </tr>\n",
              "  </thead>\n",
              "  <tbody>\n",
              "    <tr>\n",
              "      <th>0</th>\n",
              "      <td>1</td>\n",
              "      <td>1193</td>\n",
              "      <td>5</td>\n",
              "      <td>0</td>\n",
              "      <td>4</td>\n",
              "      <td>1</td>\n",
              "      <td>-22</td>\n",
              "      <td>0</td>\n",
              "      <td>1</td>\n",
              "      <td>1</td>\n",
              "    </tr>\n",
              "    <tr>\n",
              "      <th>1</th>\n",
              "      <td>1</td>\n",
              "      <td>661</td>\n",
              "      <td>3</td>\n",
              "      <td>0</td>\n",
              "      <td>3</td>\n",
              "      <td>1</td>\n",
              "      <td>-1</td>\n",
              "      <td>0</td>\n",
              "      <td>1</td>\n",
              "      <td>1</td>\n",
              "    </tr>\n",
              "    <tr>\n",
              "      <th>2</th>\n",
              "      <td>1</td>\n",
              "      <td>914</td>\n",
              "      <td>3</td>\n",
              "      <td>0</td>\n",
              "      <td>4</td>\n",
              "      <td>1</td>\n",
              "      <td>-33</td>\n",
              "      <td>0</td>\n",
              "      <td>1</td>\n",
              "      <td>0</td>\n",
              "    </tr>\n",
              "    <tr>\n",
              "      <th>3</th>\n",
              "      <td>1</td>\n",
              "      <td>3408</td>\n",
              "      <td>4</td>\n",
              "      <td>0</td>\n",
              "      <td>4</td>\n",
              "      <td>1</td>\n",
              "      <td>3</td>\n",
              "      <td>1</td>\n",
              "      <td>1</td>\n",
              "      <td>1</td>\n",
              "    </tr>\n",
              "    <tr>\n",
              "      <th>4</th>\n",
              "      <td>1</td>\n",
              "      <td>2355</td>\n",
              "      <td>5</td>\n",
              "      <td>0</td>\n",
              "      <td>4</td>\n",
              "      <td>1</td>\n",
              "      <td>1</td>\n",
              "      <td>1</td>\n",
              "      <td>1</td>\n",
              "      <td>1</td>\n",
              "    </tr>\n",
              "  </tbody>\n",
              "</table>\n",
              "</div>"
            ],
            "text/plain": [
              "   user_id  movie_id  rating  CBF  CF  age_when_rating  age_at_release  \\\n",
              "0        1      1193       5    0   4                1             -22   \n",
              "1        1       661       3    0   3                1              -1   \n",
              "2        1       914       3    0   4                1             -33   \n",
              "3        1      3408       4    0   4                1               3   \n",
              "4        1      2355       5    0   4                1               1   \n",
              "\n",
              "   released_after_birth gender  is_favourite_genre  \n",
              "0                     0      1                   1  \n",
              "1                     0      1                   1  \n",
              "2                     0      1                   0  \n",
              "3                     1      1                   1  \n",
              "4                     1      1                   1  "
            ]
          },
          "execution_count": 219,
          "metadata": {},
          "output_type": "execute_result"
        }
      ],
      "source": [
        "main.head()"
      ]
    },
    {
      "cell_type": "markdown",
      "metadata": {},
      "source": [
        "# Feature 8: imdb rating"
      ]
    },
    {
      "cell_type": "code",
      "execution_count": 221,
      "metadata": {},
      "outputs": [],
      "source": [
        "imdb_ratings = pd.read_csv(\"title.ratings.tsv\", sep='\\t')"
      ]
    },
    {
      "cell_type": "code",
      "execution_count": 222,
      "metadata": {},
      "outputs": [
        {
          "data": {
            "text/html": [
              "<div>\n",
              "<style scoped>\n",
              "    .dataframe tbody tr th:only-of-type {\n",
              "        vertical-align: middle;\n",
              "    }\n",
              "\n",
              "    .dataframe tbody tr th {\n",
              "        vertical-align: top;\n",
              "    }\n",
              "\n",
              "    .dataframe thead th {\n",
              "        text-align: right;\n",
              "    }\n",
              "</style>\n",
              "<table border=\"1\" class=\"dataframe\">\n",
              "  <thead>\n",
              "    <tr style=\"text-align: right;\">\n",
              "      <th></th>\n",
              "      <th>tconst</th>\n",
              "      <th>averageRating</th>\n",
              "      <th>numVotes</th>\n",
              "    </tr>\n",
              "  </thead>\n",
              "  <tbody>\n",
              "    <tr>\n",
              "      <th>0</th>\n",
              "      <td>tt0000001</td>\n",
              "      <td>5.7</td>\n",
              "      <td>1864</td>\n",
              "    </tr>\n",
              "    <tr>\n",
              "      <th>1</th>\n",
              "      <td>tt0000002</td>\n",
              "      <td>6.0</td>\n",
              "      <td>244</td>\n",
              "    </tr>\n",
              "    <tr>\n",
              "      <th>2</th>\n",
              "      <td>tt0000003</td>\n",
              "      <td>6.5</td>\n",
              "      <td>1632</td>\n",
              "    </tr>\n",
              "    <tr>\n",
              "      <th>3</th>\n",
              "      <td>tt0000004</td>\n",
              "      <td>5.8</td>\n",
              "      <td>158</td>\n",
              "    </tr>\n",
              "    <tr>\n",
              "      <th>4</th>\n",
              "      <td>tt0000005</td>\n",
              "      <td>6.2</td>\n",
              "      <td>2458</td>\n",
              "    </tr>\n",
              "  </tbody>\n",
              "</table>\n",
              "</div>"
            ],
            "text/plain": [
              "      tconst  averageRating  numVotes\n",
              "0  tt0000001            5.7      1864\n",
              "1  tt0000002            6.0       244\n",
              "2  tt0000003            6.5      1632\n",
              "3  tt0000004            5.8       158\n",
              "4  tt0000005            6.2      2458"
            ]
          },
          "execution_count": 222,
          "metadata": {},
          "output_type": "execute_result"
        }
      ],
      "source": [
        "imdb_ratings.head()"
      ]
    },
    {
      "cell_type": "code",
      "execution_count": 223,
      "metadata": {},
      "outputs": [
        {
          "name": "stderr",
          "output_type": "stream",
          "text": [
            "/Users/nutsa/.pyenv/versions/3.7.7/lib/python3.7/site-packages/IPython/core/interactiveshell.py:3444: DtypeWarning: Columns (4,5) have mixed types.Specify dtype option on import or set low_memory=False.\n",
            "  exec(code_obj, self.user_global_ns, self.user_ns)\n"
          ]
        }
      ],
      "source": [
        "imdb_titles = pd.read_csv(\"title.basics.tsv\", sep='\\t')"
      ]
    },
    {
      "cell_type": "code",
      "execution_count": 226,
      "metadata": {},
      "outputs": [],
      "source": [
        "imdb_titles= imdb_titles[imdb_titles['titleType']=='movie']"
      ]
    },
    {
      "cell_type": "code",
      "execution_count": null,
      "metadata": {},
      "outputs": [],
      "source": [
        "imdb_titles['startYear'].max()"
      ]
    },
    {
      "cell_type": "code",
      "execution_count": 227,
      "metadata": {},
      "outputs": [
        {
          "data": {
            "text/html": [
              "<div>\n",
              "<style scoped>\n",
              "    .dataframe tbody tr th:only-of-type {\n",
              "        vertical-align: middle;\n",
              "    }\n",
              "\n",
              "    .dataframe tbody tr th {\n",
              "        vertical-align: top;\n",
              "    }\n",
              "\n",
              "    .dataframe thead th {\n",
              "        text-align: right;\n",
              "    }\n",
              "</style>\n",
              "<table border=\"1\" class=\"dataframe\">\n",
              "  <thead>\n",
              "    <tr style=\"text-align: right;\">\n",
              "      <th></th>\n",
              "      <th>tconst</th>\n",
              "      <th>titleType</th>\n",
              "      <th>primaryTitle</th>\n",
              "      <th>originalTitle</th>\n",
              "      <th>isAdult</th>\n",
              "      <th>startYear</th>\n",
              "      <th>endYear</th>\n",
              "      <th>runtimeMinutes</th>\n",
              "      <th>genres</th>\n",
              "    </tr>\n",
              "  </thead>\n",
              "  <tbody>\n",
              "    <tr>\n",
              "      <th>498</th>\n",
              "      <td>tt0000502</td>\n",
              "      <td>movie</td>\n",
              "      <td>Bohemios</td>\n",
              "      <td>Bohemios</td>\n",
              "      <td>0</td>\n",
              "      <td>1905</td>\n",
              "      <td>\\N</td>\n",
              "      <td>100</td>\n",
              "      <td>\\N</td>\n",
              "    </tr>\n",
              "    <tr>\n",
              "      <th>570</th>\n",
              "      <td>tt0000574</td>\n",
              "      <td>movie</td>\n",
              "      <td>The Story of the Kelly Gang</td>\n",
              "      <td>The Story of the Kelly Gang</td>\n",
              "      <td>0</td>\n",
              "      <td>1906</td>\n",
              "      <td>\\N</td>\n",
              "      <td>70</td>\n",
              "      <td>Action,Adventure,Biography</td>\n",
              "    </tr>\n",
              "    <tr>\n",
              "      <th>587</th>\n",
              "      <td>tt0000591</td>\n",
              "      <td>movie</td>\n",
              "      <td>The Prodigal Son</td>\n",
              "      <td>L'enfant prodigue</td>\n",
              "      <td>0</td>\n",
              "      <td>1907</td>\n",
              "      <td>\\N</td>\n",
              "      <td>90</td>\n",
              "      <td>Drama</td>\n",
              "    </tr>\n",
              "    <tr>\n",
              "      <th>610</th>\n",
              "      <td>tt0000615</td>\n",
              "      <td>movie</td>\n",
              "      <td>Robbery Under Arms</td>\n",
              "      <td>Robbery Under Arms</td>\n",
              "      <td>0</td>\n",
              "      <td>1907</td>\n",
              "      <td>\\N</td>\n",
              "      <td>\\N</td>\n",
              "      <td>Drama</td>\n",
              "    </tr>\n",
              "    <tr>\n",
              "      <th>625</th>\n",
              "      <td>tt0000630</td>\n",
              "      <td>movie</td>\n",
              "      <td>Hamlet</td>\n",
              "      <td>Amleto</td>\n",
              "      <td>0</td>\n",
              "      <td>1908</td>\n",
              "      <td>\\N</td>\n",
              "      <td>\\N</td>\n",
              "      <td>Drama</td>\n",
              "    </tr>\n",
              "  </tbody>\n",
              "</table>\n",
              "</div>"
            ],
            "text/plain": [
              "        tconst titleType                 primaryTitle  \\\n",
              "498  tt0000502     movie                     Bohemios   \n",
              "570  tt0000574     movie  The Story of the Kelly Gang   \n",
              "587  tt0000591     movie             The Prodigal Son   \n",
              "610  tt0000615     movie           Robbery Under Arms   \n",
              "625  tt0000630     movie                       Hamlet   \n",
              "\n",
              "                   originalTitle isAdult startYear endYear runtimeMinutes  \\\n",
              "498                     Bohemios       0      1905      \\N            100   \n",
              "570  The Story of the Kelly Gang       0      1906      \\N             70   \n",
              "587            L'enfant prodigue       0      1907      \\N             90   \n",
              "610           Robbery Under Arms       0      1907      \\N             \\N   \n",
              "625                       Amleto       0      1908      \\N             \\N   \n",
              "\n",
              "                         genres  \n",
              "498                          \\N  \n",
              "570  Action,Adventure,Biography  \n",
              "587                       Drama  \n",
              "610                       Drama  \n",
              "625                       Drama  "
            ]
          },
          "execution_count": 227,
          "metadata": {},
          "output_type": "execute_result"
        }
      ],
      "source": [
        "imdb_titles.head()"
      ]
    },
    {
      "cell_type": "markdown",
      "metadata": {},
      "source": []
    }
  ],
  "metadata": {
    "colab": {
      "name": "fyp_part3_data_engineering.ipynb",
      "provenance": []
    },
    "kernelspec": {
      "display_name": "Python 3",
      "name": "python3"
    },
    "language_info": {
      "codemirror_mode": {
        "name": "ipython",
        "version": 3
      },
      "file_extension": ".py",
      "mimetype": "text/x-python",
      "name": "python",
      "nbconvert_exporter": "python",
      "pygments_lexer": "ipython3",
      "version": "3.7.7"
    },
    "widgets": {
      "application/vnd.jupyter.widget-state+json": {
        "15f40ac6ae334154b111c88f54e31507": {
          "model_module": "@jupyter-widgets/controls",
          "model_module_version": "1.5.0",
          "model_name": "FloatProgressModel",
          "state": {
            "_dom_classes": [],
            "_model_module": "@jupyter-widgets/controls",
            "_model_module_version": "1.5.0",
            "_model_name": "FloatProgressModel",
            "_view_count": null,
            "_view_module": "@jupyter-widgets/controls",
            "_view_module_version": "1.5.0",
            "_view_name": "ProgressView",
            "bar_style": "danger",
            "description": "",
            "description_tooltip": null,
            "layout": "IPY_MODEL_c2bd5cc3e4d345be94e9d673a68c41e6",
            "max": 6040,
            "min": 0,
            "orientation": "horizontal",
            "style": "IPY_MODEL_53a75605c1314196bbfea341f724a57b",
            "value": 2
          }
        },
        "37727e619b0b44eebf0e2fd01adbf0f9": {
          "model_module": "@jupyter-widgets/controls",
          "model_module_version": "1.5.0",
          "model_name": "DescriptionStyleModel",
          "state": {
            "_model_module": "@jupyter-widgets/controls",
            "_model_module_version": "1.5.0",
            "_model_name": "DescriptionStyleModel",
            "_view_count": null,
            "_view_module": "@jupyter-widgets/base",
            "_view_module_version": "1.2.0",
            "_view_name": "StyleView",
            "description_width": ""
          }
        },
        "53a75605c1314196bbfea341f724a57b": {
          "model_module": "@jupyter-widgets/controls",
          "model_module_version": "1.5.0",
          "model_name": "ProgressStyleModel",
          "state": {
            "_model_module": "@jupyter-widgets/controls",
            "_model_module_version": "1.5.0",
            "_model_name": "ProgressStyleModel",
            "_view_count": null,
            "_view_module": "@jupyter-widgets/base",
            "_view_module_version": "1.2.0",
            "_view_name": "StyleView",
            "bar_color": null,
            "description_width": ""
          }
        },
        "622a754526b641538ce27001e89eed7e": {
          "model_module": "@jupyter-widgets/base",
          "model_module_version": "1.2.0",
          "model_name": "LayoutModel",
          "state": {
            "_model_module": "@jupyter-widgets/base",
            "_model_module_version": "1.2.0",
            "_model_name": "LayoutModel",
            "_view_count": null,
            "_view_module": "@jupyter-widgets/base",
            "_view_module_version": "1.2.0",
            "_view_name": "LayoutView",
            "align_content": null,
            "align_items": null,
            "align_self": null,
            "border": null,
            "bottom": null,
            "display": null,
            "flex": null,
            "flex_flow": null,
            "grid_area": null,
            "grid_auto_columns": null,
            "grid_auto_flow": null,
            "grid_auto_rows": null,
            "grid_column": null,
            "grid_gap": null,
            "grid_row": null,
            "grid_template_areas": null,
            "grid_template_columns": null,
            "grid_template_rows": null,
            "height": null,
            "justify_content": null,
            "justify_items": null,
            "left": null,
            "margin": null,
            "max_height": null,
            "max_width": null,
            "min_height": null,
            "min_width": null,
            "object_fit": null,
            "object_position": null,
            "order": null,
            "overflow": null,
            "overflow_x": null,
            "overflow_y": null,
            "padding": null,
            "right": null,
            "top": null,
            "visibility": null,
            "width": null
          }
        },
        "8608c83cb3394965ae098bb6997259b4": {
          "model_module": "@jupyter-widgets/controls",
          "model_module_version": "1.5.0",
          "model_name": "HTMLModel",
          "state": {
            "_dom_classes": [],
            "_model_module": "@jupyter-widgets/controls",
            "_model_module_version": "1.5.0",
            "_model_name": "HTMLModel",
            "_view_count": null,
            "_view_module": "@jupyter-widgets/controls",
            "_view_module_version": "1.5.0",
            "_view_name": "HTMLView",
            "description": "",
            "description_tooltip": null,
            "layout": "IPY_MODEL_edf42ecc96db4e22b1013bffd0717cb1",
            "placeholder": "​",
            "style": "IPY_MODEL_37727e619b0b44eebf0e2fd01adbf0f9",
            "value": "  0%"
          }
        },
        "98b9518e573e48538d32c1c077062592": {
          "model_module": "@jupyter-widgets/base",
          "model_module_version": "1.2.0",
          "model_name": "LayoutModel",
          "state": {
            "_model_module": "@jupyter-widgets/base",
            "_model_module_version": "1.2.0",
            "_model_name": "LayoutModel",
            "_view_count": null,
            "_view_module": "@jupyter-widgets/base",
            "_view_module_version": "1.2.0",
            "_view_name": "LayoutView",
            "align_content": null,
            "align_items": null,
            "align_self": null,
            "border": null,
            "bottom": null,
            "display": null,
            "flex": null,
            "flex_flow": null,
            "grid_area": null,
            "grid_auto_columns": null,
            "grid_auto_flow": null,
            "grid_auto_rows": null,
            "grid_column": null,
            "grid_gap": null,
            "grid_row": null,
            "grid_template_areas": null,
            "grid_template_columns": null,
            "grid_template_rows": null,
            "height": null,
            "justify_content": null,
            "justify_items": null,
            "left": null,
            "margin": null,
            "max_height": null,
            "max_width": null,
            "min_height": null,
            "min_width": null,
            "object_fit": null,
            "object_position": null,
            "order": null,
            "overflow": null,
            "overflow_x": null,
            "overflow_y": null,
            "padding": null,
            "right": null,
            "top": null,
            "visibility": null,
            "width": null
          }
        },
        "a54a47d9e2454cc39ffaa32ab3992fc1": {
          "model_module": "@jupyter-widgets/controls",
          "model_module_version": "1.5.0",
          "model_name": "DescriptionStyleModel",
          "state": {
            "_model_module": "@jupyter-widgets/controls",
            "_model_module_version": "1.5.0",
            "_model_name": "DescriptionStyleModel",
            "_view_count": null,
            "_view_module": "@jupyter-widgets/base",
            "_view_module_version": "1.2.0",
            "_view_name": "StyleView",
            "description_width": ""
          }
        },
        "c2bd5cc3e4d345be94e9d673a68c41e6": {
          "model_module": "@jupyter-widgets/base",
          "model_module_version": "1.2.0",
          "model_name": "LayoutModel",
          "state": {
            "_model_module": "@jupyter-widgets/base",
            "_model_module_version": "1.2.0",
            "_model_name": "LayoutModel",
            "_view_count": null,
            "_view_module": "@jupyter-widgets/base",
            "_view_module_version": "1.2.0",
            "_view_name": "LayoutView",
            "align_content": null,
            "align_items": null,
            "align_self": null,
            "border": null,
            "bottom": null,
            "display": null,
            "flex": null,
            "flex_flow": null,
            "grid_area": null,
            "grid_auto_columns": null,
            "grid_auto_flow": null,
            "grid_auto_rows": null,
            "grid_column": null,
            "grid_gap": null,
            "grid_row": null,
            "grid_template_areas": null,
            "grid_template_columns": null,
            "grid_template_rows": null,
            "height": null,
            "justify_content": null,
            "justify_items": null,
            "left": null,
            "margin": null,
            "max_height": null,
            "max_width": null,
            "min_height": null,
            "min_width": null,
            "object_fit": null,
            "object_position": null,
            "order": null,
            "overflow": null,
            "overflow_x": null,
            "overflow_y": null,
            "padding": null,
            "right": null,
            "top": null,
            "visibility": null,
            "width": null
          }
        },
        "c3c65c81951a4bd5a5c4ebab37bd36dd": {
          "model_module": "@jupyter-widgets/controls",
          "model_module_version": "1.5.0",
          "model_name": "HTMLModel",
          "state": {
            "_dom_classes": [],
            "_model_module": "@jupyter-widgets/controls",
            "_model_module_version": "1.5.0",
            "_model_name": "HTMLModel",
            "_view_count": null,
            "_view_module": "@jupyter-widgets/controls",
            "_view_module_version": "1.5.0",
            "_view_name": "HTMLView",
            "description": "",
            "description_tooltip": null,
            "layout": "IPY_MODEL_622a754526b641538ce27001e89eed7e",
            "placeholder": "​",
            "style": "IPY_MODEL_a54a47d9e2454cc39ffaa32ab3992fc1",
            "value": " 2/6040 [00:25&lt;18:34:39, 11.08s/it]"
          }
        },
        "c487a4bfe8ea485b805a61c5c6f0cf5a": {
          "model_module": "@jupyter-widgets/controls",
          "model_module_version": "1.5.0",
          "model_name": "HBoxModel",
          "state": {
            "_dom_classes": [],
            "_model_module": "@jupyter-widgets/controls",
            "_model_module_version": "1.5.0",
            "_model_name": "HBoxModel",
            "_view_count": null,
            "_view_module": "@jupyter-widgets/controls",
            "_view_module_version": "1.5.0",
            "_view_name": "HBoxView",
            "box_style": "",
            "children": [
              "IPY_MODEL_8608c83cb3394965ae098bb6997259b4",
              "IPY_MODEL_15f40ac6ae334154b111c88f54e31507",
              "IPY_MODEL_c3c65c81951a4bd5a5c4ebab37bd36dd"
            ],
            "layout": "IPY_MODEL_98b9518e573e48538d32c1c077062592"
          }
        },
        "edf42ecc96db4e22b1013bffd0717cb1": {
          "model_module": "@jupyter-widgets/base",
          "model_module_version": "1.2.0",
          "model_name": "LayoutModel",
          "state": {
            "_model_module": "@jupyter-widgets/base",
            "_model_module_version": "1.2.0",
            "_model_name": "LayoutModel",
            "_view_count": null,
            "_view_module": "@jupyter-widgets/base",
            "_view_module_version": "1.2.0",
            "_view_name": "LayoutView",
            "align_content": null,
            "align_items": null,
            "align_self": null,
            "border": null,
            "bottom": null,
            "display": null,
            "flex": null,
            "flex_flow": null,
            "grid_area": null,
            "grid_auto_columns": null,
            "grid_auto_flow": null,
            "grid_auto_rows": null,
            "grid_column": null,
            "grid_gap": null,
            "grid_row": null,
            "grid_template_areas": null,
            "grid_template_columns": null,
            "grid_template_rows": null,
            "height": null,
            "justify_content": null,
            "justify_items": null,
            "left": null,
            "margin": null,
            "max_height": null,
            "max_width": null,
            "min_height": null,
            "min_width": null,
            "object_fit": null,
            "object_position": null,
            "order": null,
            "overflow": null,
            "overflow_x": null,
            "overflow_y": null,
            "padding": null,
            "right": null,
            "top": null,
            "visibility": null,
            "width": null
          }
        }
      }
    }
  },
  "nbformat": 4,
  "nbformat_minor": 0
}

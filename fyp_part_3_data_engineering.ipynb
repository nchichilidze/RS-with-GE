{
  "cells": [
    {
      "cell_type": "code",
      "execution_count": 2,
      "metadata": {
        "id": "tyt2qe1xM2EA"
      },
      "outputs": [],
      "source": [
        "import pandas as pd \n",
        "import matplotlib.pyplot as plt\n",
        "import numpy as np\n",
        "\n",
        "from sklearn.feature_extraction.text import CountVectorizer\n",
        "from sklearn.metrics.pairwise import cosine_similarity"
      ]
    },
    {
      "cell_type": "code",
      "execution_count": 1,
      "metadata": {},
      "outputs": [
        {
          "name": "stdout",
          "output_type": "stream",
          "text": [
            "  Running setup.py install for sklearn ... \u001b[?25ldone\n",
            "\u001b[?25hSuccessfully installed joblib-1.1.0 scikit-learn-1.0.2 scipy-1.7.3 sklearn-0.0 threadpoolctl-3.1.0\n",
            "\u001b[33mWARNING: You are using pip version 19.2.3, however version 22.0.4 is available.\n",
            "You should consider upgrading via the 'pip install --upgrade pip' command.\u001b[0m\n"
          ]
        }
      ],
      "source": [
        "!pip3 install sklearn"
      ]
    },
    {
      "cell_type": "code",
      "execution_count": 3,
      "metadata": {
        "id": "yJZRTKEXM8wR"
      },
      "outputs": [],
      "source": [
        "movies = pd.read_csv('https://raw.githubusercontent.com/nchichilidze/RS-with-GE/main/preprocessed_movielens_1m/movies.csv')\n",
        "tags = pd.read_csv('https://raw.githubusercontent.com/nchichilidze/RS-with-GE/main/preprocessed_movielens_1m/tags.csv')\n",
        "ratings = pd.read_csv('https://raw.githubusercontent.com/nchichilidze/RS-with-GE/main/preprocessed_movielens_1m/ratings.csv')\n",
        "users = pd.read_csv('https://raw.githubusercontent.com/nchichilidze/RS-with-GE/main/preprocessed_movielens_1m/users.csv')\n",
        "\n",
        "movies = movies.iloc[: , 1:]\n",
        "tags = tags.iloc[: , 1:]\n",
        "ratings = ratings.iloc[: , 1:]\n",
        "users = users.iloc[: , 1:]"
      ]
    },
    {
      "cell_type": "code",
      "execution_count": 4,
      "metadata": {
        "id": "OJ2rnkwqxVNz"
      },
      "outputs": [],
      "source": [
        "main = pd.DataFrame(ratings)"
      ]
    },
    {
      "cell_type": "markdown",
      "metadata": {
        "id": "Tvj3ZF45Nm_q"
      },
      "source": [
        "# Feature 1: Content-Based Filtering \n",
        "\n",
        "Get all the movies that a user likes - and use content-based filtering to generate a list of similar movies that the user might also like \n",
        "\n",
        "The movies get grouped by analysing the tags associated with each movie (tags are a combination of user comments and movie genres)"
      ]
    },
    {
      "cell_type": "markdown",
      "metadata": {
        "id": "tLzhtnEsHxn5"
      },
      "source": [
        "Cast the columns in movies and tags"
      ]
    },
    {
      "cell_type": "code",
      "execution_count": 5,
      "metadata": {
        "colab": {
          "base_uri": "https://localhost:8080/"
        },
        "id": "OPhNe0_VNwzr",
        "outputId": "0d421ebe-9fc8-4140-e02a-6c8f3c995771"
      },
      "outputs": [
        {
          "data": {
            "text/plain": [
              "movie_id     int64\n",
              "tags        string\n",
              "title       string\n",
              "genres      string\n",
              "year         int64\n",
              "dtype: object"
            ]
          },
          "execution_count": 5,
          "metadata": {},
          "output_type": "execute_result"
        }
      ],
      "source": [
        "tags = tags.astype({'tags' : 'string'})\n",
        "tags = tags.astype({'title' : 'string'})\n",
        "tags = tags.astype({'genres' : 'string'})\n",
        "tags.dtypes"
      ]
    },
    {
      "cell_type": "code",
      "execution_count": 6,
      "metadata": {
        "colab": {
          "base_uri": "https://localhost:8080/"
        },
        "id": "zFkqfGtoHoUP",
        "outputId": "652e6bcf-c11f-4195-e13b-bd4f4cd8015f"
      },
      "outputs": [
        {
          "data": {
            "text/plain": [
              "movie_id     int64\n",
              "title       string\n",
              "genres      string\n",
              "year         int64\n",
              "dtype: object"
            ]
          },
          "execution_count": 6,
          "metadata": {},
          "output_type": "execute_result"
        }
      ],
      "source": [
        "movies = movies.astype({'title' : 'string'})\n",
        "movies = movies.astype({'genres' : 'string'})\n",
        "\n",
        "movies.dtypes"
      ]
    },
    {
      "cell_type": "code",
      "execution_count": 7,
      "metadata": {
        "id": "ulTKriSPbJzj"
      },
      "outputs": [],
      "source": [
        "#importing necessary libraries\n",
        "from sklearn.metrics.pairwise import cosine_similarity\n",
        "from sklearn.metrics import mean_squared_error\n",
        "from sklearn.model_selection import train_test_split\n",
        "from sklearn.feature_extraction.text import TfidfVectorizer\n",
        "from sklearn.metrics.pairwise import linear_kernel"
      ]
    },
    {
      "cell_type": "code",
      "execution_count": 8,
      "metadata": {
        "colab": {
          "base_uri": "https://localhost:8080/",
          "height": 146
        },
        "id": "CWGdJbI4XZfd",
        "outputId": "17eae878-d5b7-4220-ee75-daf5dcd45bb1"
      },
      "outputs": [
        {
          "data": {
            "text/plain": [
              "\"pixar pixar pixar animation pixar animated fun toy toys pixar rated g pixar pixar national film registry time travel pixar pixar funny imdb top  animation very good ya boy pixar time travel animation erlend s dvds cgi disney family pixar toys bright daring rescues fanciful heroic mission humorous light rousing toys come to life unlikely friendships warm witty pixar the boys almost favorite é ä é animation children disney pixar clever want to see again cartoon disney d computer animation disney animated feature pixar animation want buddy movie animation pixar tim allen tom hanks animation disney pixar toys computer animation cartoon pixar animation computer animation pixar toys tumey s to see again tumey s vhs classic disney engaging avi buy action figure action figures buzz lightyear cg animation toy toys woody disney pixar tim allen tom hanks animation pixar animation kids movie pixar tim allen time travel animation cgi adventure animation children comedy animation pixar lots of heart animation pixar adventure animation comedy family fantasy john lasseter usa animation disney pixar classic pixar first cgi film animation disney disney animation pixar pixar pixar animation disney villian hurts toys pixar computer animation pixar animated cgi comedy animation children's comedy animation children's comedy animation children's comedy animation children's comedy animation children's comedy animation children's comedy animation children's comedy animation children's comedy animation children's comedy animation children's comedy\""
            ]
          },
          "execution_count": 8,
          "metadata": {},
          "output_type": "execute_result"
        }
      ],
      "source": [
        "# an example of a tag\n",
        "tag_example = tags['tags'][0]\n",
        "tag_example"
      ]
    },
    {
      "cell_type": "code",
      "execution_count": 9,
      "metadata": {
        "colab": {
          "base_uri": "https://localhost:8080/"
        },
        "id": "7qt7zs1MIB1b",
        "outputId": "c37a2679-a645-4f68-b4fa-33706c69a8b7"
      },
      "outputs": [
        {
          "data": {
            "text/plain": [
              "movie_id    0\n",
              "tags        0\n",
              "title       0\n",
              "genres      0\n",
              "year        0\n",
              "dtype: int64"
            ]
          },
          "execution_count": 9,
          "metadata": {},
          "output_type": "execute_result"
        }
      ],
      "source": [
        "# make sure that every movie has a tag\n",
        "tags.isna().sum()"
      ]
    },
    {
      "cell_type": "code",
      "execution_count": 10,
      "metadata": {
        "colab": {
          "base_uri": "https://localhost:8080/"
        },
        "id": "qx9BNDQbIHze",
        "outputId": "905f6662-12f0-4d52-f3b9-9d61cc18b5bd"
      },
      "outputs": [
        {
          "name": "stdout",
          "output_type": "stream",
          "text": [
            "1000209\n",
            "3706\n"
          ]
        }
      ],
      "source": [
        "# how many ratings we have \n",
        "print(len(ratings['movie_id']))\n",
        "\n",
        "# how many unique movies we have in ratings\n",
        "movies_in_ratings = ratings['movie_id'].drop_duplicates()\n",
        "print(len(movies_in_ratings))"
      ]
    },
    {
      "cell_type": "code",
      "execution_count": 11,
      "metadata": {
        "colab": {
          "base_uri": "https://localhost:8080/"
        },
        "id": "iozKgACWIerE",
        "outputId": "bfecce11-78b5-43f1-9577-4205cc11b568"
      },
      "outputs": [
        {
          "name": "stdout",
          "output_type": "stream",
          "text": [
            "Tags shape before dropping extra movies: (3883, 5)\n",
            "Tags shape after dropping extra movies: (3706, 5)\n",
            "Tags shape after dropping duplicate movies: (3664, 5)\n"
          ]
        }
      ],
      "source": [
        "# it's redundant to draw information about movies that are not in the ratings df, so I will drop them \n",
        "print(\"Tags shape before dropping extra movies: \" + str(tags.shape))\n",
        "tags = tags[tags.movie_id.map(lambda x: np.isin(x, movies_in_ratings).all())]\n",
        "print(\"Tags shape after dropping extra movies: \" + str(tags.shape))\n",
        "# drop any movie that we have twice\n",
        "tags = tags.drop_duplicates(subset=['title'])\n",
        "print(\"Tags shape after dropping duplicate movies: \" + str(tags.shape))"
      ]
    },
    {
      "cell_type": "markdown",
      "metadata": {
        "id": "UpD9bfq-JlhD"
      },
      "source": [
        "## Content-Based Filtering Engine"
      ]
    },
    {
      "cell_type": "code",
      "execution_count": 12,
      "metadata": {
        "id": "RavkMXgWOGNW"
      },
      "outputs": [],
      "source": [
        "tags = tags.reset_index()\n",
        "tags = tags.drop(columns=['index'])"
      ]
    },
    {
      "cell_type": "code",
      "execution_count": 13,
      "metadata": {
        "colab": {
          "base_uri": "https://localhost:8080/",
          "height": 206
        },
        "id": "ULXT2ba-RdOm",
        "outputId": "4cb49bf4-ad62-44d0-d304-4f115c6567b3"
      },
      "outputs": [
        {
          "data": {
            "text/html": [
              "<div>\n",
              "<style scoped>\n",
              "    .dataframe tbody tr th:only-of-type {\n",
              "        vertical-align: middle;\n",
              "    }\n",
              "\n",
              "    .dataframe tbody tr th {\n",
              "        vertical-align: top;\n",
              "    }\n",
              "\n",
              "    .dataframe thead th {\n",
              "        text-align: right;\n",
              "    }\n",
              "</style>\n",
              "<table border=\"1\" class=\"dataframe\">\n",
              "  <thead>\n",
              "    <tr style=\"text-align: right;\">\n",
              "      <th></th>\n",
              "      <th>movie_id</th>\n",
              "      <th>tags</th>\n",
              "      <th>title</th>\n",
              "      <th>genres</th>\n",
              "      <th>year</th>\n",
              "    </tr>\n",
              "  </thead>\n",
              "  <tbody>\n",
              "    <tr>\n",
              "      <th>3659</th>\n",
              "      <td>3948</td>\n",
              "      <td>ben stiller comedy hilarious owen wilson ben s...</td>\n",
              "      <td>Meet the Parents</td>\n",
              "      <td>comedy</td>\n",
              "      <td>2000</td>\n",
              "    </tr>\n",
              "    <tr>\n",
              "      <th>3660</th>\n",
              "      <td>3949</td>\n",
              "      <td>ass to ass heroin psychology depressing drugs ...</td>\n",
              "      <td>Requiem for a Dream</td>\n",
              "      <td>drama</td>\n",
              "      <td>2000</td>\n",
              "    </tr>\n",
              "    <tr>\n",
              "      <th>3661</th>\n",
              "      <td>3950</td>\n",
              "      <td>colin farrell drama drama drama drama drama</td>\n",
              "      <td>Tigerland</td>\n",
              "      <td>drama</td>\n",
              "      <td>2000</td>\n",
              "    </tr>\n",
              "    <tr>\n",
              "      <th>3662</th>\n",
              "      <td>3951</td>\n",
              "      <td>in netflix queue in netflix queue r drama dram...</td>\n",
              "      <td>Two Family House</td>\n",
              "      <td>drama</td>\n",
              "      <td>2000</td>\n",
              "    </tr>\n",
              "    <tr>\n",
              "      <th>3663</th>\n",
              "      <td>3952</td>\n",
              "      <td>politics vice president washington dc gary old...</td>\n",
              "      <td>Contender, The</td>\n",
              "      <td>drama thriller</td>\n",
              "      <td>2000</td>\n",
              "    </tr>\n",
              "  </tbody>\n",
              "</table>\n",
              "</div>"
            ],
            "text/plain": [
              "      movie_id                                               tags  \\\n",
              "3659      3948  ben stiller comedy hilarious owen wilson ben s...   \n",
              "3660      3949  ass to ass heroin psychology depressing drugs ...   \n",
              "3661      3950        colin farrell drama drama drama drama drama   \n",
              "3662      3951  in netflix queue in netflix queue r drama dram...   \n",
              "3663      3952  politics vice president washington dc gary old...   \n",
              "\n",
              "                    title          genres  year  \n",
              "3659     Meet the Parents          comedy  2000  \n",
              "3660  Requiem for a Dream           drama  2000  \n",
              "3661            Tigerland           drama  2000  \n",
              "3662     Two Family House           drama  2000  \n",
              "3663       Contender, The  drama thriller  2000  "
            ]
          },
          "execution_count": 13,
          "metadata": {},
          "output_type": "execute_result"
        }
      ],
      "source": [
        "tags.tail()"
      ]
    },
    {
      "cell_type": "markdown",
      "metadata": {
        "id": "agIo5NBwMP9b"
      },
      "source": [
        "When building the matrix, the issue is that since the length of the tags dataframe is not the same as the maximum index of movie in the dataframe"
      ]
    },
    {
      "cell_type": "code",
      "execution_count": 14,
      "metadata": {
        "colab": {
          "base_uri": "https://localhost:8080/"
        },
        "id": "cUqQPPo7MgTk",
        "outputId": "69ecccd6-7f22-4512-f4b9-9d85bf7cd4b9"
      },
      "outputs": [
        {
          "name": "stdout",
          "output_type": "stream",
          "text": [
            "max movie id: 3952\n",
            "length of the tags dataframe: 3664\n"
          ]
        }
      ],
      "source": [
        "print(\"max movie id: \" + str(tags['movie_id'].max()))\n",
        "print(\"length of the tags dataframe: \" + str(len(tags['movie_id'])))"
      ]
    },
    {
      "cell_type": "code",
      "execution_count": 27,
      "metadata": {
        "id": "o7mmJEpIJvpZ"
      },
      "outputs": [],
      "source": [
        "tf = TfidfVectorizer(analyzer='word', ngram_range=(1, 3), min_df=0, stop_words='english')\n",
        "matrix = tf.fit_transform(tags['tags'])\n",
        "\n",
        "cosine_similarities = linear_kernel(matrix,matrix)\n",
        "movie_title = tags['title']\n",
        "indices = pd.Series(tags.index, index=tags['title'])\n",
        "\n",
        "def recommend_movies(original_title):\n",
        "\n",
        "    idx = indices[original_title]\n",
        "    sim_scores = list(enumerate(cosine_similarities[idx]))\n",
        "\n",
        "    sim_scores = sorted(sim_scores, key=lambda x: x[1], reverse=True)\n",
        "\n",
        "    sim_scores = sim_scores[1:11]\n",
        "\n",
        "    movie_indices = [i[0] for i in sim_scores]\n",
        "    # titles = movie_title.iloc[movie_indices]\n",
        "    return movie_indices\n",
        "    # return titles, movie_indices"
      ]
    },
    {
      "cell_type": "code",
      "execution_count": 16,
      "metadata": {
        "colab": {
          "base_uri": "https://localhost:8080/"
        },
        "id": "h7tp4jrAKPaG",
        "outputId": "a70020d6-db74-4c66-b9bf-deff3c8a5032"
      },
      "outputs": [
        {
          "name": "stdout",
          "output_type": "stream",
          "text": [
            "27                                           Persuasion\n",
            "2833                                     Mansfield Park\n",
            "786                                                Emma\n",
            "16                                Sense and Sensibility\n",
            "62                                        Two if by Sea\n",
            "113                                        If Lucy Fell\n",
            "278                                  Nina Takes a Lover\n",
            "285                                   Perez Family, The\n",
            "286                          Pyromaniac's Love Story, A\n",
            "368                                          Speechless\n",
            "433                                          Favor, The\n",
            "552                                   Naked in New York\n",
            "761     Rendezvous in Paris (Rendez-vous de Paris, Les)\n",
            "1341                      Beautician and the Beast, The\n",
            "1343                                      Hotel de Love\n",
            "Name: title, dtype: string\n"
          ]
        }
      ],
      "source": [
        "t, i  = recommend_movies('Clueless')\n",
        "print(t)"
      ]
    },
    {
      "cell_type": "markdown",
      "metadata": {
        "id": "XubzWmupKovA"
      },
      "source": [
        "Clueless is based on 'Emma' by Jane Austen, Persuasion is also a Jane Austen book, therefore I think CBF works quite well :) "
      ]
    },
    {
      "cell_type": "markdown",
      "metadata": {
        "id": "tqYXnGorSVOO"
      },
      "source": [
        "## Generate similar movies"
      ]
    },
    {
      "cell_type": "code",
      "execution_count": 17,
      "metadata": {
        "colab": {
          "base_uri": "https://localhost:8080/",
          "height": 206
        },
        "id": "rEApZVNrOfHb",
        "outputId": "049ea304-8903-4988-aa03-ba196051c165"
      },
      "outputs": [
        {
          "data": {
            "text/html": [
              "<div>\n",
              "<style scoped>\n",
              "    .dataframe tbody tr th:only-of-type {\n",
              "        vertical-align: middle;\n",
              "    }\n",
              "\n",
              "    .dataframe tbody tr th {\n",
              "        vertical-align: top;\n",
              "    }\n",
              "\n",
              "    .dataframe thead th {\n",
              "        text-align: right;\n",
              "    }\n",
              "</style>\n",
              "<table border=\"1\" class=\"dataframe\">\n",
              "  <thead>\n",
              "    <tr style=\"text-align: right;\">\n",
              "      <th></th>\n",
              "      <th>movie_id</th>\n",
              "      <th>tags</th>\n",
              "      <th>title</th>\n",
              "      <th>genres</th>\n",
              "      <th>year</th>\n",
              "    </tr>\n",
              "  </thead>\n",
              "  <tbody>\n",
              "    <tr>\n",
              "      <th>3659</th>\n",
              "      <td>3948</td>\n",
              "      <td>ben stiller comedy hilarious owen wilson ben s...</td>\n",
              "      <td>Meet the Parents</td>\n",
              "      <td>comedy</td>\n",
              "      <td>2000</td>\n",
              "    </tr>\n",
              "    <tr>\n",
              "      <th>3660</th>\n",
              "      <td>3949</td>\n",
              "      <td>ass to ass heroin psychology depressing drugs ...</td>\n",
              "      <td>Requiem for a Dream</td>\n",
              "      <td>drama</td>\n",
              "      <td>2000</td>\n",
              "    </tr>\n",
              "    <tr>\n",
              "      <th>3661</th>\n",
              "      <td>3950</td>\n",
              "      <td>colin farrell drama drama drama drama drama</td>\n",
              "      <td>Tigerland</td>\n",
              "      <td>drama</td>\n",
              "      <td>2000</td>\n",
              "    </tr>\n",
              "    <tr>\n",
              "      <th>3662</th>\n",
              "      <td>3951</td>\n",
              "      <td>in netflix queue in netflix queue r drama dram...</td>\n",
              "      <td>Two Family House</td>\n",
              "      <td>drama</td>\n",
              "      <td>2000</td>\n",
              "    </tr>\n",
              "    <tr>\n",
              "      <th>3663</th>\n",
              "      <td>3952</td>\n",
              "      <td>politics vice president washington dc gary old...</td>\n",
              "      <td>Contender, The</td>\n",
              "      <td>drama thriller</td>\n",
              "      <td>2000</td>\n",
              "    </tr>\n",
              "  </tbody>\n",
              "</table>\n",
              "</div>"
            ],
            "text/plain": [
              "      movie_id                                               tags  \\\n",
              "3659      3948  ben stiller comedy hilarious owen wilson ben s...   \n",
              "3660      3949  ass to ass heroin psychology depressing drugs ...   \n",
              "3661      3950        colin farrell drama drama drama drama drama   \n",
              "3662      3951  in netflix queue in netflix queue r drama dram...   \n",
              "3663      3952  politics vice president washington dc gary old...   \n",
              "\n",
              "                    title          genres  year  \n",
              "3659     Meet the Parents          comedy  2000  \n",
              "3660  Requiem for a Dream           drama  2000  \n",
              "3661            Tigerland           drama  2000  \n",
              "3662     Two Family House           drama  2000  \n",
              "3663       Contender, The  drama thriller  2000  "
            ]
          },
          "execution_count": 17,
          "metadata": {},
          "output_type": "execute_result"
        }
      ],
      "source": [
        "tags.tail()"
      ]
    },
    {
      "cell_type": "code",
      "execution_count": 18,
      "metadata": {
        "colab": {
          "base_uri": "https://localhost:8080/"
        },
        "id": "-WHWtHhyUWpt",
        "outputId": "adea4f0f-7284-4743-81f0-dafb45a77288"
      },
      "outputs": [
        {
          "name": "stdout",
          "output_type": "stream",
          "text": [
            "[2561, 2820, 2565, 2059, 3723, 3598, 915, 1941, 2455, 3096, 2078, 2719, 2848, 3616, 3744, 2212, 2085, 2729, 1460, 3126, 2364, 957, 2367, 1344, 3784, 2633, 2634, 2764, 3404, 3022, 2512, 1873, 2389, 2645, 2135, 2136, 2398, 3935, 3947, 3823, 2553, 2430]\n"
          ]
        }
      ],
      "source": [
        "# any movies in ratings that we don't have tags for? \n",
        "\n",
        "print(list(set(ratings['movie_id']) - set(tags['movie_id'])))\n",
        "\n",
        "movies_in_tags = tags['movie_id'].drop_duplicates()\n"
      ]
    },
    {
      "cell_type": "markdown",
      "metadata": {
        "id": "LS3lFecXLFKR"
      },
      "source": [
        "for each movie in ratings, generate a list of n similar movies"
      ]
    },
    {
      "cell_type": "code",
      "execution_count": 19,
      "metadata": {
        "colab": {
          "base_uri": "https://localhost:8080/"
        },
        "id": "hEKHe3U4LEs6",
        "outputId": "1ad972cd-8b99-4713-8c7c-2e66c695d03d"
      },
      "outputs": [
        {
          "name": "stdout",
          "output_type": "stream",
          "text": [
            "No similar movies found for 0 movies\n"
          ]
        }
      ],
      "source": [
        "similar_movies_map = {} \n",
        "no_similar_movies_count = 0\n",
        "\n",
        "# getting rid of any movies we don't have tags for \n",
        "movies_in_ratings = list(set(movies_in_ratings) and set(movies_in_tags))\n",
        "\n",
        "for movie in movies_in_ratings: \n",
        "  title = str(tags[tags['movie_id'] == movie]['title'].values[0])\n",
        "  # actual_index = tags.index[tags['movie_id'] == movie]\n",
        "  t, ind = recommend_movies(title)\n",
        "  similar_movies_map[movie] = ind;\n",
        "  if (len(ind) == 0): \n",
        "    no_similar_movies_count += 1\n",
        "\n",
        "print(\"No similar movies found for \" + str(no_similar_movies_count) + \" movies\")"
      ]
    },
    {
      "cell_type": "markdown",
      "metadata": {
        "id": "lJuJTg_PxRnN"
      },
      "source": [
        "## Add feature to dataframe"
      ]
    },
    {
      "cell_type": "markdown",
      "metadata": {
        "id": "pXOSbzd8WjfA"
      },
      "source": [
        "get favourite movies by each user"
      ]
    },
    {
      "cell_type": "code",
      "execution_count": 20,
      "metadata": {
        "colab": {
          "base_uri": "https://localhost:8080/",
          "height": 206
        },
        "id": "FGfD_-beX0Fv",
        "outputId": "c0d2c8c6-7542-4a5a-a23f-43bdec910bc7"
      },
      "outputs": [
        {
          "data": {
            "text/html": [
              "<div>\n",
              "<style scoped>\n",
              "    .dataframe tbody tr th:only-of-type {\n",
              "        vertical-align: middle;\n",
              "    }\n",
              "\n",
              "    .dataframe tbody tr th {\n",
              "        vertical-align: top;\n",
              "    }\n",
              "\n",
              "    .dataframe thead th {\n",
              "        text-align: right;\n",
              "    }\n",
              "</style>\n",
              "<table border=\"1\" class=\"dataframe\">\n",
              "  <thead>\n",
              "    <tr style=\"text-align: right;\">\n",
              "      <th></th>\n",
              "      <th>user_id</th>\n",
              "      <th>movie_id</th>\n",
              "      <th>rating</th>\n",
              "    </tr>\n",
              "  </thead>\n",
              "  <tbody>\n",
              "    <tr>\n",
              "      <th>0</th>\n",
              "      <td>1</td>\n",
              "      <td>1193</td>\n",
              "      <td>5</td>\n",
              "    </tr>\n",
              "    <tr>\n",
              "      <th>1</th>\n",
              "      <td>1</td>\n",
              "      <td>661</td>\n",
              "      <td>3</td>\n",
              "    </tr>\n",
              "    <tr>\n",
              "      <th>2</th>\n",
              "      <td>1</td>\n",
              "      <td>914</td>\n",
              "      <td>3</td>\n",
              "    </tr>\n",
              "    <tr>\n",
              "      <th>3</th>\n",
              "      <td>1</td>\n",
              "      <td>3408</td>\n",
              "      <td>4</td>\n",
              "    </tr>\n",
              "    <tr>\n",
              "      <th>4</th>\n",
              "      <td>1</td>\n",
              "      <td>2355</td>\n",
              "      <td>5</td>\n",
              "    </tr>\n",
              "  </tbody>\n",
              "</table>\n",
              "</div>"
            ],
            "text/plain": [
              "   user_id  movie_id  rating\n",
              "0        1      1193       5\n",
              "1        1       661       3\n",
              "2        1       914       3\n",
              "3        1      3408       4\n",
              "4        1      2355       5"
            ]
          },
          "execution_count": 20,
          "metadata": {},
          "output_type": "execute_result"
        }
      ],
      "source": [
        "main.head()"
      ]
    },
    {
      "cell_type": "code",
      "execution_count": 23,
      "metadata": {
        "id": "9dhemLUoJl0a"
      },
      "outputs": [
        {
          "name": "stdout",
          "output_type": "stream",
          "text": [
            "Requirement already satisfied: tqdm in /Users/nutsa/.pyenv/versions/3.7.7/lib/python3.7/site-packages (4.63.0)\n",
            "\u001b[33mWARNING: You are using pip version 19.2.3, however version 22.0.4 is available.\n",
            "You should consider upgrading via the 'pip install --upgrade pip' command.\u001b[0m\n"
          ]
        }
      ],
      "source": [
        "!pip3 install tqdm\n",
        "from tqdm import tqdm"
      ]
    },
    {
      "cell_type": "code",
      "execution_count": null,
      "metadata": {
        "colab": {
          "base_uri": "https://localhost:8080/",
          "height": 407,
          "referenced_widgets": [
            "c487a4bfe8ea485b805a61c5c6f0cf5a",
            "98b9518e573e48538d32c1c077062592",
            "8608c83cb3394965ae098bb6997259b4",
            "15f40ac6ae334154b111c88f54e31507",
            "c3c65c81951a4bd5a5c4ebab37bd36dd",
            "37727e619b0b44eebf0e2fd01adbf0f9",
            "edf42ecc96db4e22b1013bffd0717cb1",
            "53a75605c1314196bbfea341f724a57b",
            "c2bd5cc3e4d345be94e9d673a68c41e6",
            "a54a47d9e2454cc39ffaa32ab3992fc1",
            "622a754526b641538ce27001e89eed7e"
          ]
        },
        "id": "0fEDG7pBWjNo",
        "outputId": "689cf70e-f90a-4756-c823-1c4368bea515"
      },
      "outputs": [],
      "source": [
        "users_in_ratings = main['user_id'].drop_duplicates()\n",
        "users_in_ratings = list(users_in_ratings.values)\n",
        "\n",
        "user_similar_movies_map = {}\n",
        "no_of_users = len(users_in_ratings) \n",
        "print(\"all users: \" + str(no_of_users))\n",
        "for i in range(no_of_users): \n",
        "  user = int(users_in_ratings[i])\n",
        "  print(user)\n",
        "  # get the movies rated by the user \n",
        "  movies_rated_by_user = main.loc[main['user_id'] == int(user)]\n",
        "  # pick the movies that the user have a positive (>3) rating to\n",
        "  movies_rated_by_user = movies_rated_by_user[movies_rated_by_user['rating'] > 3]\n",
        "  movies_rated_by_user = movies_rated_by_user['movie_id'] \n",
        "  \n",
        "  # getting rid of any movies we don't have tags for \n",
        "  movies_rated_by_user = list(set(movies_rated_by_user) and set(movies_in_tags))\n",
        "\n",
        "  # for each positively rated movie, generate similar movies \n",
        "  similar_movies = []\n",
        "  for movie_id in movies_rated_by_user: \n",
        "    title = str(tags[tags['movie_id'] == movie_id]['title'].values[0])\n",
        "    recommended_movies = recommend_movies(title)\n",
        "    similar_movies += list(recommended_movies)\n",
        "  \n",
        "  user_similar_movies_map[user] = similar_movies"
      ]
    },
    {
      "cell_type": "code",
      "execution_count": 31,
      "metadata": {
        "id": "eHFf4R71m9b_"
      },
      "outputs": [],
      "source": [
        "def save_dict_to_file(dic):\n",
        "    f = open('dict.txt','w')\n",
        "    f.write(str(dic))\n",
        "    f.close() \n",
        "\n",
        "save_dict_to_file(user_similar_movies_map)"
      ]
    },
    {
      "cell_type": "markdown",
      "metadata": {},
      "source": []
    },
    {
      "cell_type": "code",
      "execution_count": 34,
      "metadata": {},
      "outputs": [],
      "source": [
        "import json \n",
        "\n",
        "a_file = open(\"data.json\", \"w\")\n",
        "json.dump(user_similar_movies_map, a_file)\n",
        "a_file.close()\n",
        "\n",
        "a_file = open(\"data.json\", \"r\")\n",
        "output = a_file.read()\n",
        "print(output)"
      ]
    },
    {
      "cell_type": "markdown",
      "metadata": {
        "id": "1oldmJw6e4Dl"
      },
      "source": [
        "Add a new feature 'CBF' which will have binary values \n",
        "\n",
        "\n",
        "*   1 - this movie is in the list of recommended movies generated by the content based filtering algorithm\n",
        "*   0 - this movie is not in the list of recommended movies generated by the content based filtering algorithm\n",
        "\n"
      ]
    },
    {
      "cell_type": "code",
      "execution_count": null,
      "metadata": {
        "id": "AgVLoBFeWiO_"
      },
      "outputs": [],
      "source": [
        "# set CBF as 0 by default \n",
        "main['CBF'] = 0\n",
        "main.head()"
      ]
    },
    {
      "cell_type": "code",
      "execution_count": null,
      "metadata": {
        "id": "eHY87XhpfKm0"
      },
      "outputs": [],
      "source": [
        "counter = 0\n",
        "\n",
        "for index, row in main.iterrows(): \n",
        "  user = int(row['user_id'])\n",
        "  movie = int(row['movie_id'])\n",
        "\n",
        "  movies_recommended_for_user = user_similar_movies_map.get(user)\n",
        "  if (movie in movies_recommended_for_user):\n",
        "    main.at[index, 'CBF'] = 1\n",
        "    counter += 1"
      ]
    },
    {
      "cell_type": "markdown",
      "metadata": {
        "id": "9lNQkgbKNC58"
      },
      "source": [
        "# Feature 2: Collaborative Filtering"
      ]
    },
    {
      "cell_type": "markdown",
      "metadata": {
        "id": "c2H4VnWoNJCq"
      },
      "source": [
        "## Collaborative Filtering Engine"
      ]
    }
  ],
  "metadata": {
    "colab": {
      "name": "fyp_part3_data_engineering.ipynb",
      "provenance": []
    },
    "kernelspec": {
      "display_name": "Python 3",
      "name": "python3"
    },
    "language_info": {
      "codemirror_mode": {
        "name": "ipython",
        "version": 3
      },
      "file_extension": ".py",
      "mimetype": "text/x-python",
      "name": "python",
      "nbconvert_exporter": "python",
      "pygments_lexer": "ipython3",
      "version": "3.7.7"
    },
    "widgets": {
      "application/vnd.jupyter.widget-state+json": {
        "15f40ac6ae334154b111c88f54e31507": {
          "model_module": "@jupyter-widgets/controls",
          "model_module_version": "1.5.0",
          "model_name": "FloatProgressModel",
          "state": {
            "_dom_classes": [],
            "_model_module": "@jupyter-widgets/controls",
            "_model_module_version": "1.5.0",
            "_model_name": "FloatProgressModel",
            "_view_count": null,
            "_view_module": "@jupyter-widgets/controls",
            "_view_module_version": "1.5.0",
            "_view_name": "ProgressView",
            "bar_style": "danger",
            "description": "",
            "description_tooltip": null,
            "layout": "IPY_MODEL_c2bd5cc3e4d345be94e9d673a68c41e6",
            "max": 6040,
            "min": 0,
            "orientation": "horizontal",
            "style": "IPY_MODEL_53a75605c1314196bbfea341f724a57b",
            "value": 2
          }
        },
        "37727e619b0b44eebf0e2fd01adbf0f9": {
          "model_module": "@jupyter-widgets/controls",
          "model_module_version": "1.5.0",
          "model_name": "DescriptionStyleModel",
          "state": {
            "_model_module": "@jupyter-widgets/controls",
            "_model_module_version": "1.5.0",
            "_model_name": "DescriptionStyleModel",
            "_view_count": null,
            "_view_module": "@jupyter-widgets/base",
            "_view_module_version": "1.2.0",
            "_view_name": "StyleView",
            "description_width": ""
          }
        },
        "53a75605c1314196bbfea341f724a57b": {
          "model_module": "@jupyter-widgets/controls",
          "model_module_version": "1.5.0",
          "model_name": "ProgressStyleModel",
          "state": {
            "_model_module": "@jupyter-widgets/controls",
            "_model_module_version": "1.5.0",
            "_model_name": "ProgressStyleModel",
            "_view_count": null,
            "_view_module": "@jupyter-widgets/base",
            "_view_module_version": "1.2.0",
            "_view_name": "StyleView",
            "bar_color": null,
            "description_width": ""
          }
        },
        "622a754526b641538ce27001e89eed7e": {
          "model_module": "@jupyter-widgets/base",
          "model_module_version": "1.2.0",
          "model_name": "LayoutModel",
          "state": {
            "_model_module": "@jupyter-widgets/base",
            "_model_module_version": "1.2.0",
            "_model_name": "LayoutModel",
            "_view_count": null,
            "_view_module": "@jupyter-widgets/base",
            "_view_module_version": "1.2.0",
            "_view_name": "LayoutView",
            "align_content": null,
            "align_items": null,
            "align_self": null,
            "border": null,
            "bottom": null,
            "display": null,
            "flex": null,
            "flex_flow": null,
            "grid_area": null,
            "grid_auto_columns": null,
            "grid_auto_flow": null,
            "grid_auto_rows": null,
            "grid_column": null,
            "grid_gap": null,
            "grid_row": null,
            "grid_template_areas": null,
            "grid_template_columns": null,
            "grid_template_rows": null,
            "height": null,
            "justify_content": null,
            "justify_items": null,
            "left": null,
            "margin": null,
            "max_height": null,
            "max_width": null,
            "min_height": null,
            "min_width": null,
            "object_fit": null,
            "object_position": null,
            "order": null,
            "overflow": null,
            "overflow_x": null,
            "overflow_y": null,
            "padding": null,
            "right": null,
            "top": null,
            "visibility": null,
            "width": null
          }
        },
        "8608c83cb3394965ae098bb6997259b4": {
          "model_module": "@jupyter-widgets/controls",
          "model_module_version": "1.5.0",
          "model_name": "HTMLModel",
          "state": {
            "_dom_classes": [],
            "_model_module": "@jupyter-widgets/controls",
            "_model_module_version": "1.5.0",
            "_model_name": "HTMLModel",
            "_view_count": null,
            "_view_module": "@jupyter-widgets/controls",
            "_view_module_version": "1.5.0",
            "_view_name": "HTMLView",
            "description": "",
            "description_tooltip": null,
            "layout": "IPY_MODEL_edf42ecc96db4e22b1013bffd0717cb1",
            "placeholder": "​",
            "style": "IPY_MODEL_37727e619b0b44eebf0e2fd01adbf0f9",
            "value": "  0%"
          }
        },
        "98b9518e573e48538d32c1c077062592": {
          "model_module": "@jupyter-widgets/base",
          "model_module_version": "1.2.0",
          "model_name": "LayoutModel",
          "state": {
            "_model_module": "@jupyter-widgets/base",
            "_model_module_version": "1.2.0",
            "_model_name": "LayoutModel",
            "_view_count": null,
            "_view_module": "@jupyter-widgets/base",
            "_view_module_version": "1.2.0",
            "_view_name": "LayoutView",
            "align_content": null,
            "align_items": null,
            "align_self": null,
            "border": null,
            "bottom": null,
            "display": null,
            "flex": null,
            "flex_flow": null,
            "grid_area": null,
            "grid_auto_columns": null,
            "grid_auto_flow": null,
            "grid_auto_rows": null,
            "grid_column": null,
            "grid_gap": null,
            "grid_row": null,
            "grid_template_areas": null,
            "grid_template_columns": null,
            "grid_template_rows": null,
            "height": null,
            "justify_content": null,
            "justify_items": null,
            "left": null,
            "margin": null,
            "max_height": null,
            "max_width": null,
            "min_height": null,
            "min_width": null,
            "object_fit": null,
            "object_position": null,
            "order": null,
            "overflow": null,
            "overflow_x": null,
            "overflow_y": null,
            "padding": null,
            "right": null,
            "top": null,
            "visibility": null,
            "width": null
          }
        },
        "a54a47d9e2454cc39ffaa32ab3992fc1": {
          "model_module": "@jupyter-widgets/controls",
          "model_module_version": "1.5.0",
          "model_name": "DescriptionStyleModel",
          "state": {
            "_model_module": "@jupyter-widgets/controls",
            "_model_module_version": "1.5.0",
            "_model_name": "DescriptionStyleModel",
            "_view_count": null,
            "_view_module": "@jupyter-widgets/base",
            "_view_module_version": "1.2.0",
            "_view_name": "StyleView",
            "description_width": ""
          }
        },
        "c2bd5cc3e4d345be94e9d673a68c41e6": {
          "model_module": "@jupyter-widgets/base",
          "model_module_version": "1.2.0",
          "model_name": "LayoutModel",
          "state": {
            "_model_module": "@jupyter-widgets/base",
            "_model_module_version": "1.2.0",
            "_model_name": "LayoutModel",
            "_view_count": null,
            "_view_module": "@jupyter-widgets/base",
            "_view_module_version": "1.2.0",
            "_view_name": "LayoutView",
            "align_content": null,
            "align_items": null,
            "align_self": null,
            "border": null,
            "bottom": null,
            "display": null,
            "flex": null,
            "flex_flow": null,
            "grid_area": null,
            "grid_auto_columns": null,
            "grid_auto_flow": null,
            "grid_auto_rows": null,
            "grid_column": null,
            "grid_gap": null,
            "grid_row": null,
            "grid_template_areas": null,
            "grid_template_columns": null,
            "grid_template_rows": null,
            "height": null,
            "justify_content": null,
            "justify_items": null,
            "left": null,
            "margin": null,
            "max_height": null,
            "max_width": null,
            "min_height": null,
            "min_width": null,
            "object_fit": null,
            "object_position": null,
            "order": null,
            "overflow": null,
            "overflow_x": null,
            "overflow_y": null,
            "padding": null,
            "right": null,
            "top": null,
            "visibility": null,
            "width": null
          }
        },
        "c3c65c81951a4bd5a5c4ebab37bd36dd": {
          "model_module": "@jupyter-widgets/controls",
          "model_module_version": "1.5.0",
          "model_name": "HTMLModel",
          "state": {
            "_dom_classes": [],
            "_model_module": "@jupyter-widgets/controls",
            "_model_module_version": "1.5.0",
            "_model_name": "HTMLModel",
            "_view_count": null,
            "_view_module": "@jupyter-widgets/controls",
            "_view_module_version": "1.5.0",
            "_view_name": "HTMLView",
            "description": "",
            "description_tooltip": null,
            "layout": "IPY_MODEL_622a754526b641538ce27001e89eed7e",
            "placeholder": "​",
            "style": "IPY_MODEL_a54a47d9e2454cc39ffaa32ab3992fc1",
            "value": " 2/6040 [00:25&lt;18:34:39, 11.08s/it]"
          }
        },
        "c487a4bfe8ea485b805a61c5c6f0cf5a": {
          "model_module": "@jupyter-widgets/controls",
          "model_module_version": "1.5.0",
          "model_name": "HBoxModel",
          "state": {
            "_dom_classes": [],
            "_model_module": "@jupyter-widgets/controls",
            "_model_module_version": "1.5.0",
            "_model_name": "HBoxModel",
            "_view_count": null,
            "_view_module": "@jupyter-widgets/controls",
            "_view_module_version": "1.5.0",
            "_view_name": "HBoxView",
            "box_style": "",
            "children": [
              "IPY_MODEL_8608c83cb3394965ae098bb6997259b4",
              "IPY_MODEL_15f40ac6ae334154b111c88f54e31507",
              "IPY_MODEL_c3c65c81951a4bd5a5c4ebab37bd36dd"
            ],
            "layout": "IPY_MODEL_98b9518e573e48538d32c1c077062592"
          }
        },
        "edf42ecc96db4e22b1013bffd0717cb1": {
          "model_module": "@jupyter-widgets/base",
          "model_module_version": "1.2.0",
          "model_name": "LayoutModel",
          "state": {
            "_model_module": "@jupyter-widgets/base",
            "_model_module_version": "1.2.0",
            "_model_name": "LayoutModel",
            "_view_count": null,
            "_view_module": "@jupyter-widgets/base",
            "_view_module_version": "1.2.0",
            "_view_name": "LayoutView",
            "align_content": null,
            "align_items": null,
            "align_self": null,
            "border": null,
            "bottom": null,
            "display": null,
            "flex": null,
            "flex_flow": null,
            "grid_area": null,
            "grid_auto_columns": null,
            "grid_auto_flow": null,
            "grid_auto_rows": null,
            "grid_column": null,
            "grid_gap": null,
            "grid_row": null,
            "grid_template_areas": null,
            "grid_template_columns": null,
            "grid_template_rows": null,
            "height": null,
            "justify_content": null,
            "justify_items": null,
            "left": null,
            "margin": null,
            "max_height": null,
            "max_width": null,
            "min_height": null,
            "min_width": null,
            "object_fit": null,
            "object_position": null,
            "order": null,
            "overflow": null,
            "overflow_x": null,
            "overflow_y": null,
            "padding": null,
            "right": null,
            "top": null,
            "visibility": null,
            "width": null
          }
        }
      }
    }
  },
  "nbformat": 4,
  "nbformat_minor": 0
}

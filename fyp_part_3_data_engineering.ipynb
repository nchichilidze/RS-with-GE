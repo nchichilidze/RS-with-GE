{
  "cells": [
    {
      "cell_type": "code",
      "execution_count": 1,
      "metadata": {
        "id": "tyt2qe1xM2EA"
      },
      "outputs": [],
      "source": [
        "import pandas as pd \n",
        "import matplotlib.pyplot as plt\n",
        "import numpy as np\n",
        "\n",
        "from sklearn.feature_extraction.text import CountVectorizer\n",
        "from sklearn.metrics.pairwise import cosine_similarity\n",
        "from sklearn.metrics.pairwise import cosine_similarity\n",
        "from sklearn.metrics import mean_squared_error\n",
        "from sklearn.model_selection import train_test_split\n",
        "from sklearn.feature_extraction.text import TfidfVectorizer\n",
        "from sklearn.metrics.pairwise import linear_kernel"
      ]
    },
    {
      "cell_type": "code",
      "execution_count": null,
      "metadata": {},
      "outputs": [],
      "source": [
        "!pip3 install surprise"
      ]
    },
    {
      "cell_type": "code",
      "execution_count": 61,
      "metadata": {},
      "outputs": [],
      "source": [
        "from surprise import Reader, Dataset, SVD\n",
        "from surprise.model_selection import cross_validate\n",
        "from collections import defaultdict"
      ]
    },
    {
      "cell_type": "code",
      "execution_count": 2,
      "metadata": {
        "id": "yJZRTKEXM8wR"
      },
      "outputs": [],
      "source": [
        "movies = pd.read_csv('https://raw.githubusercontent.com/nchichilidze/RS-with-GE/main/preprocessed_movielens_1m/movies.csv')\n",
        "tags = pd.read_csv('https://raw.githubusercontent.com/nchichilidze/RS-with-GE/main/preprocessed_movielens_1m/tags.csv')\n",
        "ratings = pd.read_csv('https://raw.githubusercontent.com/nchichilidze/RS-with-GE/main/preprocessed_movielens_1m/ratings.csv')\n",
        "users = pd.read_csv('https://raw.githubusercontent.com/nchichilidze/RS-with-GE/main/preprocessed_movielens_1m/users.csv')\n",
        "\n",
        "movies = movies.iloc[: , 1:]\n",
        "tags = tags.iloc[: , 1:]\n",
        "ratings = ratings.iloc[: , 1:]\n",
        "users = users.iloc[: , 1:]"
      ]
    },
    {
      "cell_type": "code",
      "execution_count": 3,
      "metadata": {
        "id": "OJ2rnkwqxVNz"
      },
      "outputs": [],
      "source": [
        "main = pd.DataFrame(ratings)"
      ]
    },
    {
      "cell_type": "markdown",
      "metadata": {
        "id": "Tvj3ZF45Nm_q"
      },
      "source": [
        "# Feature 1: Content-Based Filtering \n",
        "\n",
        "Get all the movies that a user likes - and use content-based filtering to generate a list of similar movies that the user might also like \n",
        "\n",
        "The movies get grouped by analysing the tags associated with each movie (tags are a combination of user comments and movie genres)"
      ]
    },
    {
      "cell_type": "markdown",
      "metadata": {
        "id": "tLzhtnEsHxn5"
      },
      "source": [
        "Cast the columns in movies and tags"
      ]
    },
    {
      "cell_type": "code",
      "execution_count": 4,
      "metadata": {
        "colab": {
          "base_uri": "https://localhost:8080/"
        },
        "id": "OPhNe0_VNwzr",
        "outputId": "0d421ebe-9fc8-4140-e02a-6c8f3c995771"
      },
      "outputs": [
        {
          "data": {
            "text/plain": [
              "movie_id     int64\n",
              "tags        string\n",
              "title       string\n",
              "genres      string\n",
              "year         int64\n",
              "dtype: object"
            ]
          },
          "execution_count": 4,
          "metadata": {},
          "output_type": "execute_result"
        }
      ],
      "source": [
        "tags = tags.astype({'tags' : 'string'})\n",
        "tags = tags.astype({'title' : 'string'})\n",
        "tags = tags.astype({'genres' : 'string'})\n",
        "tags.dtypes"
      ]
    },
    {
      "cell_type": "code",
      "execution_count": 5,
      "metadata": {
        "colab": {
          "base_uri": "https://localhost:8080/"
        },
        "id": "zFkqfGtoHoUP",
        "outputId": "652e6bcf-c11f-4195-e13b-bd4f4cd8015f"
      },
      "outputs": [
        {
          "data": {
            "text/plain": [
              "movie_id     int64\n",
              "title       string\n",
              "genres      string\n",
              "year         int64\n",
              "dtype: object"
            ]
          },
          "execution_count": 5,
          "metadata": {},
          "output_type": "execute_result"
        }
      ],
      "source": [
        "movies = movies.astype({'title' : 'string'})\n",
        "movies = movies.astype({'genres' : 'string'})\n",
        "movies.dtypes"
      ]
    },
    {
      "cell_type": "code",
      "execution_count": 6,
      "metadata": {
        "colab": {
          "base_uri": "https://localhost:8080/",
          "height": 146
        },
        "id": "CWGdJbI4XZfd",
        "outputId": "17eae878-d5b7-4220-ee75-daf5dcd45bb1"
      },
      "outputs": [
        {
          "data": {
            "text/plain": [
              "\"pixar pixar pixar animation pixar animated fun toy toys pixar rated g pixar pixar national film registry time travel pixar pixar funny imdb top  animation very good ya boy pixar time travel animation erlend s dvds cgi disney family pixar toys bright daring rescues fanciful heroic mission humorous light rousing toys come to life unlikely friendships warm witty pixar the boys almost favorite é ä é animation children disney pixar clever want to see again cartoon disney d computer animation disney animated feature pixar animation want buddy movie animation pixar tim allen tom hanks animation disney pixar toys computer animation cartoon pixar animation computer animation pixar toys tumey s to see again tumey s vhs classic disney engaging avi buy action figure action figures buzz lightyear cg animation toy toys woody disney pixar tim allen tom hanks animation pixar animation kids movie pixar tim allen time travel animation cgi adventure animation children comedy animation pixar lots of heart animation pixar adventure animation comedy family fantasy john lasseter usa animation disney pixar classic pixar first cgi film animation disney disney animation pixar pixar pixar animation disney villian hurts toys pixar computer animation pixar animated cgi comedy animation children's comedy animation children's comedy animation children's comedy animation children's comedy animation children's comedy animation children's comedy animation children's comedy animation children's comedy animation children's comedy animation children's comedy\""
            ]
          },
          "execution_count": 6,
          "metadata": {},
          "output_type": "execute_result"
        }
      ],
      "source": [
        "# an example of a tag\n",
        "tag_example = tags['tags'][0]\n",
        "tag_example"
      ]
    },
    {
      "cell_type": "code",
      "execution_count": 7,
      "metadata": {
        "colab": {
          "base_uri": "https://localhost:8080/"
        },
        "id": "7qt7zs1MIB1b",
        "outputId": "c37a2679-a645-4f68-b4fa-33706c69a8b7"
      },
      "outputs": [
        {
          "data": {
            "text/plain": [
              "movie_id    0\n",
              "tags        0\n",
              "title       0\n",
              "genres      0\n",
              "year        0\n",
              "dtype: int64"
            ]
          },
          "execution_count": 7,
          "metadata": {},
          "output_type": "execute_result"
        }
      ],
      "source": [
        "# make sure that every movie has a tag\n",
        "tags.isna().sum()"
      ]
    },
    {
      "cell_type": "code",
      "execution_count": 8,
      "metadata": {
        "colab": {
          "base_uri": "https://localhost:8080/"
        },
        "id": "qx9BNDQbIHze",
        "outputId": "905f6662-12f0-4d52-f3b9-9d61cc18b5bd"
      },
      "outputs": [
        {
          "name": "stdout",
          "output_type": "stream",
          "text": [
            "1000209\n",
            "3706\n"
          ]
        }
      ],
      "source": [
        "# how many ratings we have \n",
        "print(len(ratings['movie_id']))\n",
        "\n",
        "# how many unique movies we have in ratings\n",
        "movies_in_ratings = ratings['movie_id'].drop_duplicates()\n",
        "print(len(movies_in_ratings))"
      ]
    },
    {
      "cell_type": "code",
      "execution_count": 9,
      "metadata": {
        "colab": {
          "base_uri": "https://localhost:8080/"
        },
        "id": "iozKgACWIerE",
        "outputId": "bfecce11-78b5-43f1-9577-4205cc11b568"
      },
      "outputs": [
        {
          "name": "stdout",
          "output_type": "stream",
          "text": [
            "Tags shape before dropping extra movies: (3883, 5)\n",
            "Tags shape after dropping extra movies: (3706, 5)\n",
            "Tags shape after dropping duplicate movies: (3664, 5)\n"
          ]
        }
      ],
      "source": [
        "# it's redundant to draw information about movies that are not in the ratings df, so I will drop them \n",
        "print(\"Tags shape before dropping extra movies: \" + str(tags.shape))\n",
        "tags = tags[tags.movie_id.map(lambda x: np.isin(x, movies_in_ratings).all())]\n",
        "print(\"Tags shape after dropping extra movies: \" + str(tags.shape))\n",
        "# drop any movie that we have twice\n",
        "tags = tags.drop_duplicates(subset=['title'])\n",
        "print(\"Tags shape after dropping duplicate movies: \" + str(tags.shape))"
      ]
    },
    {
      "cell_type": "markdown",
      "metadata": {
        "id": "UpD9bfq-JlhD"
      },
      "source": [
        "## Content-Based Filtering Engine"
      ]
    },
    {
      "cell_type": "code",
      "execution_count": 10,
      "metadata": {
        "id": "RavkMXgWOGNW"
      },
      "outputs": [],
      "source": [
        "tags = tags.reset_index()\n",
        "tags = tags.drop(columns=['index'])\n",
        "tags.tail()"
      ]
    },
    {
      "cell_type": "markdown",
      "metadata": {
        "id": "agIo5NBwMP9b"
      },
      "source": [
        "When building the matrix, the issue is that since the length of the tags dataframe is not the same as the maximum index of movie in the dataframe"
      ]
    },
    {
      "cell_type": "code",
      "execution_count": 11,
      "metadata": {
        "colab": {
          "base_uri": "https://localhost:8080/"
        },
        "id": "cUqQPPo7MgTk",
        "outputId": "69ecccd6-7f22-4512-f4b9-9d85bf7cd4b9"
      },
      "outputs": [
        {
          "name": "stdout",
          "output_type": "stream",
          "text": [
            "max movie id: 3952\n",
            "length of the tags dataframe: 3664\n"
          ]
        }
      ],
      "source": [
        "print(\"max movie id: \" + str(tags['movie_id'].max()))\n",
        "print(\"length of the tags dataframe: \" + str(len(tags['movie_id'])))"
      ]
    },
    {
      "cell_type": "code",
      "execution_count": 49,
      "metadata": {
        "id": "o7mmJEpIJvpZ"
      },
      "outputs": [],
      "source": [
        "tf = TfidfVectorizer(analyzer='word', ngram_range=(1, 3), min_df=0, stop_words='english')\n",
        "matrix = tf.fit_transform(tags['tags'])\n",
        "\n",
        "cosine_similarities = linear_kernel(matrix,matrix)\n",
        "movie_title = tags['title']\n",
        "indices = pd.Series(tags.index, index=tags['title'])\n",
        "\n",
        "def recommend_movies(original_title):\n",
        "\n",
        "    idx = indices[original_title]\n",
        "    sim_scores = list(enumerate(cosine_similarities[idx]))\n",
        "\n",
        "    sim_scores = sorted(sim_scores, key=lambda x: x[1], reverse=True)\n",
        "\n",
        "    sim_scores = sim_scores[1:51]\n",
        "\n",
        "    movie_indices = [i[0] for i in sim_scores]\n",
        "    titles = movie_title.iloc[movie_indices]\n",
        "    return titles, movie_indices"
      ]
    },
    {
      "cell_type": "code",
      "execution_count": 50,
      "metadata": {
        "colab": {
          "base_uri": "https://localhost:8080/"
        },
        "id": "h7tp4jrAKPaG",
        "outputId": "a70020d6-db74-4c66-b9bf-deff3c8a5032"
      },
      "outputs": [
        {
          "name": "stdout",
          "output_type": "stream",
          "text": [
            "27                                             Persuasion\n",
            "2833                                       Mansfield Park\n",
            "786                                                  Emma\n",
            "16                                  Sense and Sensibility\n",
            "62                                          Two if by Sea\n",
            "113                                          If Lucy Fell\n",
            "278                                    Nina Takes a Lover\n",
            "285                                     Perez Family, The\n",
            "286                            Pyromaniac's Love Story, A\n",
            "368                                            Speechless\n",
            "433                                            Favor, The\n",
            "552                                     Naked in New York\n",
            "761       Rendezvous in Paris (Rendez-vous de Paris, Les)\n",
            "1341                        Beautician and the Beast, The\n",
            "1343                                        Hotel de Love\n",
            "1349                                     That Old Feeling\n",
            "1353                                           Booty Call\n",
            "1422                                      Trial and Error\n",
            "1433                      Roseanna's Grave (For Roseanna)\n",
            "1439         When the Cats Away (Chacun cherche son chat)\n",
            "1612                                          Little City\n",
            "1670                                       Kissing a Fool\n",
            "1693                                                  Woo\n",
            "2021                                     Rich and Strange\n",
            "2042                                      Allnighter, The\n",
            "2134                           I'll Be Home For Christmas\n",
            "2178                                           Home Fries\n",
            "2297                                      Just the Ticket\n",
            "2342                                     Forces of Nature\n",
            "2371    Jeanne and the Perfect Guy (Jeanne et le garço...\n",
            "2485                                Velocity of Gary, The\n",
            "2599                             Very Thought of You, The\n",
            "2647                                             Dog Park\n",
            "3092                                  Closer You Get, The\n",
            "3188                                    Whatever It Takes\n",
            "3234                                     Murphy's Romance\n",
            "3464                                       Boys and Girls\n",
            "3468                                           Match, The\n",
            "3599                                           Love & Sex\n",
            "3622                                         Woman on Top\n",
            "3130                                           Blind Date\n",
            "3096                                  Defending Your Life\n",
            "3588                                 Couch in New York, A\n",
            "1843                        Billy's Hollywood Screen Kiss\n",
            "3249                                Bell, Book and Candle\n",
            "603                                              Two Much\n",
            "2405                                     Love Letter, The\n",
            "2064                                  Butcher's Wife, The\n",
            "124                                        Pie in the Sky\n",
            "3025                                 They Might Be Giants\n",
            "Name: title, dtype: string\n"
          ]
        }
      ],
      "source": [
        "t, i  = recommend_movies('Clueless')\n",
        "print(t)"
      ]
    },
    {
      "cell_type": "markdown",
      "metadata": {
        "id": "XubzWmupKovA"
      },
      "source": [
        "Clueless is based on 'Emma' by Jane Austen, Persuasion is also a Jane Austen book, therefore I think CBF works quite well :) "
      ]
    },
    {
      "cell_type": "markdown",
      "metadata": {
        "id": "tqYXnGorSVOO"
      },
      "source": [
        "## Generate similar movies"
      ]
    },
    {
      "cell_type": "code",
      "execution_count": 51,
      "metadata": {
        "colab": {
          "base_uri": "https://localhost:8080/"
        },
        "id": "-WHWtHhyUWpt",
        "outputId": "adea4f0f-7284-4743-81f0-dafb45a77288"
      },
      "outputs": [
        {
          "name": "stdout",
          "output_type": "stream",
          "text": [
            "[2561, 2820, 2565, 2059, 3723, 3598, 915, 1941, 2455, 3096, 2078, 2719, 2848, 3616, 3744, 2212, 2085, 2729, 1460, 3126, 2364, 957, 2367, 1344, 3784, 2633, 2634, 2764, 3404, 3022, 2512, 1873, 2389, 2645, 2135, 2136, 2398, 3935, 3947, 3823, 2553, 2430]\n"
          ]
        }
      ],
      "source": [
        "# any movies in ratings that we don't have tags for? \n",
        "print(list(set(ratings['movie_id']) - set(tags['movie_id'])))\n",
        "movies_in_tags = tags['movie_id'].drop_duplicates()"
      ]
    },
    {
      "cell_type": "markdown",
      "metadata": {
        "id": "LS3lFecXLFKR"
      },
      "source": [
        "for each movie in ratings, generate a list of n similar movies"
      ]
    },
    {
      "cell_type": "code",
      "execution_count": 52,
      "metadata": {
        "colab": {
          "base_uri": "https://localhost:8080/"
        },
        "id": "hEKHe3U4LEs6",
        "outputId": "1ad972cd-8b99-4713-8c7c-2e66c695d03d"
      },
      "outputs": [
        {
          "name": "stdout",
          "output_type": "stream",
          "text": [
            "No similar movies found for 0 movies\n"
          ]
        }
      ],
      "source": [
        "similar_movies_map = {} \n",
        "no_similar_movies_count = 0\n",
        "\n",
        "# getting rid of any movies we don't have tags for \n",
        "movies_in_ratings = list(set(movies_in_ratings) and set(movies_in_tags))\n",
        "\n",
        "for movie in movies_in_ratings: \n",
        "  title = str(tags[tags['movie_id'] == movie]['title'].values[0])\n",
        "  # actual_index = tags.index[tags['movie_id'] == movie]\n",
        "  t, ind = recommend_movies(title)\n",
        "  similar_movies_map[movie] = ind;\n",
        "  if (len(ind) == 0): \n",
        "    no_similar_movies_count += 1\n",
        "\n",
        "print(\"No similar movies found for \" + str(no_similar_movies_count) + \" movies\")"
      ]
    },
    {
      "cell_type": "markdown",
      "metadata": {
        "id": "lJuJTg_PxRnN"
      },
      "source": [
        "## Add feature to dataframe"
      ]
    },
    {
      "cell_type": "markdown",
      "metadata": {
        "id": "pXOSbzd8WjfA"
      },
      "source": [
        "get favourite movies by each user"
      ]
    },
    {
      "cell_type": "code",
      "execution_count": 53,
      "metadata": {},
      "outputs": [],
      "source": [
        "#  get movies that users rated positively \n",
        "positive_ratings = pd.DataFrame()\n",
        "positive_ratings['user_id'] = users['user_id']"
      ]
    },
    {
      "cell_type": "code",
      "execution_count": 54,
      "metadata": {},
      "outputs": [],
      "source": [
        "positive_ratings['movies'] = None\n",
        "\n",
        "for index, row in positive_ratings.iterrows():\n",
        "    user = int(row['user_id'])\n",
        "    # get a list of movies that the user rated with 4 or 5\n",
        "    rated_movies = list(ratings.loc[(ratings['user_id'] == user) & (ratings['rating'] >= 3)]['movie_id'].values)\n",
        "    positive_ratings.at[index, 'movies'] = rated_movies\n"
      ]
    },
    {
      "cell_type": "code",
      "execution_count": 55,
      "metadata": {},
      "outputs": [
        {
          "data": {
            "text/html": [
              "<div>\n",
              "<style scoped>\n",
              "    .dataframe tbody tr th:only-of-type {\n",
              "        vertical-align: middle;\n",
              "    }\n",
              "\n",
              "    .dataframe tbody tr th {\n",
              "        vertical-align: top;\n",
              "    }\n",
              "\n",
              "    .dataframe thead th {\n",
              "        text-align: right;\n",
              "    }\n",
              "</style>\n",
              "<table border=\"1\" class=\"dataframe\">\n",
              "  <thead>\n",
              "    <tr style=\"text-align: right;\">\n",
              "      <th></th>\n",
              "      <th>user_id</th>\n",
              "      <th>movies</th>\n",
              "    </tr>\n",
              "  </thead>\n",
              "  <tbody>\n",
              "    <tr>\n",
              "      <th>0</th>\n",
              "      <td>1</td>\n",
              "      <td>[1193, 661, 914, 3408, 2355, 1197, 1287, 2804,...</td>\n",
              "    </tr>\n",
              "    <tr>\n",
              "      <th>1</th>\n",
              "      <td>2</td>\n",
              "      <td>[1357, 3068, 1537, 647, 2194, 648, 2268, 2628,...</td>\n",
              "    </tr>\n",
              "    <tr>\n",
              "      <th>2</th>\n",
              "      <td>3</td>\n",
              "      <td>[3421, 648, 1394, 3534, 104, 2735, 1210, 1431,...</td>\n",
              "    </tr>\n",
              "    <tr>\n",
              "      <th>3</th>\n",
              "      <td>4</td>\n",
              "      <td>[3468, 1210, 2951, 1214, 1036, 260, 2028, 480,...</td>\n",
              "    </tr>\n",
              "    <tr>\n",
              "      <th>4</th>\n",
              "      <td>5</td>\n",
              "      <td>[2987, 2333, 1175, 39, 2337, 1535, 1392, 1466,...</td>\n",
              "    </tr>\n",
              "  </tbody>\n",
              "</table>\n",
              "</div>"
            ],
            "text/plain": [
              "   user_id                                             movies\n",
              "0        1  [1193, 661, 914, 3408, 2355, 1197, 1287, 2804,...\n",
              "1        2  [1357, 3068, 1537, 647, 2194, 648, 2268, 2628,...\n",
              "2        3  [3421, 648, 1394, 3534, 104, 2735, 1210, 1431,...\n",
              "3        4  [3468, 1210, 2951, 1214, 1036, 260, 2028, 480,...\n",
              "4        5  [2987, 2333, 1175, 39, 2337, 1535, 1392, 1466,..."
            ]
          },
          "execution_count": 55,
          "metadata": {},
          "output_type": "execute_result"
        }
      ],
      "source": [
        "positive_ratings.head()"
      ]
    },
    {
      "cell_type": "code",
      "execution_count": 56,
      "metadata": {},
      "outputs": [
        {
          "name": "stdout",
          "output_type": "stream",
          "text": [
            "0\n",
            "1000\n",
            "2000\n",
            "3000\n",
            "4000\n",
            "5000\n",
            "6000\n"
          ]
        }
      ],
      "source": [
        "positive_ratings['CBF'] = None\n",
        "count = 0\n",
        "for index, row in positive_ratings.iterrows(): \n",
        "    if (index % 1000 == 0): \n",
        "        print(index)\n",
        "    movies = list(row['movies'])\n",
        "    all_similar_movies = []\n",
        "    # for each movie that the user likes \n",
        "    for movie in movies: \n",
        "        # get similar movies and add the\n",
        "        similar_movies = similar_movies_map.get(int(movie))\n",
        "        if (similar_movies != None): \n",
        "            all_similar_movies += similar_movies \n",
        "    positive_ratings.at[index, 'CBF'] = all_similar_movies"
      ]
    },
    {
      "cell_type": "code",
      "execution_count": 40,
      "metadata": {},
      "outputs": [
        {
          "data": {
            "text/html": [
              "<div>\n",
              "<style scoped>\n",
              "    .dataframe tbody tr th:only-of-type {\n",
              "        vertical-align: middle;\n",
              "    }\n",
              "\n",
              "    .dataframe tbody tr th {\n",
              "        vertical-align: top;\n",
              "    }\n",
              "\n",
              "    .dataframe thead th {\n",
              "        text-align: right;\n",
              "    }\n",
              "</style>\n",
              "<table border=\"1\" class=\"dataframe\">\n",
              "  <thead>\n",
              "    <tr style=\"text-align: right;\">\n",
              "      <th></th>\n",
              "      <th>user_id</th>\n",
              "      <th>movies</th>\n",
              "      <th>CBF</th>\n",
              "    </tr>\n",
              "  </thead>\n",
              "  <tbody>\n",
              "    <tr>\n",
              "      <th>0</th>\n",
              "      <td>1</td>\n",
              "      <td>[1193, 3408, 2355, 1287, 2804, 594, 919, 595, ...</td>\n",
              "      <td>[844, 1755, 1772, 1750, 1756, 1752, 1744, 1748...</td>\n",
              "    </tr>\n",
              "    <tr>\n",
              "      <th>1</th>\n",
              "      <td>2</td>\n",
              "      <td>[1357, 3068, 1537, 2194, 648, 2268, 3468, 1210...</td>\n",
              "      <td>[911, 2233, 126, 176, 484, 598, 660, 736, 922,...</td>\n",
              "    </tr>\n",
              "    <tr>\n",
              "      <th>2</th>\n",
              "      <td>3</td>\n",
              "      <td>[3421, 1394, 104, 2735, 1210, 1079, 1615, 1291...</td>\n",
              "      <td>[1128, 315, 3054, 3196, 2561, 1203, 2562, 342,...</td>\n",
              "    </tr>\n",
              "    <tr>\n",
              "      <th>3</th>\n",
              "      <td>4</td>\n",
              "      <td>[3468, 2951, 1214, 1036, 260, 2028, 480, 1198,...</td>\n",
              "      <td>[2263, 2822, 81, 178, 1495, 274, 26, 29, 88, 1...</td>\n",
              "    </tr>\n",
              "    <tr>\n",
              "      <th>4</th>\n",
              "      <td>5</td>\n",
              "      <td>[2987, 2333, 1175, 2337, 1535, 1392, 866, 2770...</td>\n",
              "      <td>[1106, 575, 466, 1108, 253, 1909, 1817, 709, 1...</td>\n",
              "    </tr>\n",
              "  </tbody>\n",
              "</table>\n",
              "</div>"
            ],
            "text/plain": [
              "   user_id                                             movies  \\\n",
              "0        1  [1193, 3408, 2355, 1287, 2804, 594, 919, 595, ...   \n",
              "1        2  [1357, 3068, 1537, 2194, 648, 2268, 3468, 1210...   \n",
              "2        3  [3421, 1394, 104, 2735, 1210, 1079, 1615, 1291...   \n",
              "3        4  [3468, 2951, 1214, 1036, 260, 2028, 480, 1198,...   \n",
              "4        5  [2987, 2333, 1175, 2337, 1535, 1392, 866, 2770...   \n",
              "\n",
              "                                                 CBF  \n",
              "0  [844, 1755, 1772, 1750, 1756, 1752, 1744, 1748...  \n",
              "1  [911, 2233, 126, 176, 484, 598, 660, 736, 922,...  \n",
              "2  [1128, 315, 3054, 3196, 2561, 1203, 2562, 342,...  \n",
              "3  [2263, 2822, 81, 178, 1495, 274, 26, 29, 88, 1...  \n",
              "4  [1106, 575, 466, 1108, 253, 1909, 1817, 709, 1...  "
            ]
          },
          "execution_count": 40,
          "metadata": {},
          "output_type": "execute_result"
        }
      ],
      "source": [
        "positive_ratings.head()"
      ]
    },
    {
      "cell_type": "markdown",
      "metadata": {},
      "source": []
    },
    {
      "cell_type": "markdown",
      "metadata": {
        "id": "1oldmJw6e4Dl"
      },
      "source": [
        "Add a new feature 'CBF' which will have binary values \n",
        "\n",
        "\n",
        "*   1 - this movie is in the list of recommended movies generated by the content based filtering algorithm\n",
        "*   0 - this movie is not in the list of recommended movies generated by the content based filtering algorithm\n",
        "\n"
      ]
    },
    {
      "cell_type": "code",
      "execution_count": 57,
      "metadata": {
        "id": "AgVLoBFeWiO_"
      },
      "outputs": [
        {
          "data": {
            "text/html": [
              "<div>\n",
              "<style scoped>\n",
              "    .dataframe tbody tr th:only-of-type {\n",
              "        vertical-align: middle;\n",
              "    }\n",
              "\n",
              "    .dataframe tbody tr th {\n",
              "        vertical-align: top;\n",
              "    }\n",
              "\n",
              "    .dataframe thead th {\n",
              "        text-align: right;\n",
              "    }\n",
              "</style>\n",
              "<table border=\"1\" class=\"dataframe\">\n",
              "  <thead>\n",
              "    <tr style=\"text-align: right;\">\n",
              "      <th></th>\n",
              "      <th>user_id</th>\n",
              "      <th>movie_id</th>\n",
              "      <th>rating</th>\n",
              "      <th>CBF</th>\n",
              "    </tr>\n",
              "  </thead>\n",
              "  <tbody>\n",
              "    <tr>\n",
              "      <th>0</th>\n",
              "      <td>1</td>\n",
              "      <td>1193</td>\n",
              "      <td>5</td>\n",
              "      <td>0</td>\n",
              "    </tr>\n",
              "    <tr>\n",
              "      <th>1</th>\n",
              "      <td>1</td>\n",
              "      <td>661</td>\n",
              "      <td>3</td>\n",
              "      <td>0</td>\n",
              "    </tr>\n",
              "    <tr>\n",
              "      <th>2</th>\n",
              "      <td>1</td>\n",
              "      <td>914</td>\n",
              "      <td>3</td>\n",
              "      <td>0</td>\n",
              "    </tr>\n",
              "    <tr>\n",
              "      <th>3</th>\n",
              "      <td>1</td>\n",
              "      <td>3408</td>\n",
              "      <td>4</td>\n",
              "      <td>0</td>\n",
              "    </tr>\n",
              "    <tr>\n",
              "      <th>4</th>\n",
              "      <td>1</td>\n",
              "      <td>2355</td>\n",
              "      <td>5</td>\n",
              "      <td>0</td>\n",
              "    </tr>\n",
              "  </tbody>\n",
              "</table>\n",
              "</div>"
            ],
            "text/plain": [
              "   user_id  movie_id  rating  CBF\n",
              "0        1      1193       5    0\n",
              "1        1       661       3    0\n",
              "2        1       914       3    0\n",
              "3        1      3408       4    0\n",
              "4        1      2355       5    0"
            ]
          },
          "execution_count": 57,
          "metadata": {},
          "output_type": "execute_result"
        }
      ],
      "source": [
        "# set CBF as 0 by default \n",
        "main['CBF'] = 0\n",
        "main.head()"
      ]
    },
    {
      "cell_type": "code",
      "execution_count": 58,
      "metadata": {
        "id": "eHY87XhpfKm0"
      },
      "outputs": [
        {
          "name": "stdout",
          "output_type": "stream",
          "text": [
            "0\n",
            "100000\n",
            "200000\n",
            "300000\n",
            "400000\n",
            "500000\n",
            "600000\n",
            "700000\n",
            "800000\n",
            "900000\n",
            "1000000\n"
          ]
        }
      ],
      "source": [
        "counter = 0\n",
        "\n",
        "for index, row in main.iterrows(): \n",
        "  if (index % 100000 == 0): \n",
        "    print(index)\n",
        "  user = int(row['user_id'])\n",
        "  movie = int(row['movie_id'])\n",
        "\n",
        "  movies_recommended_for_user = list(positive_ratings[positive_ratings['user_id'] == user]['CBF'])\n",
        "  if (movie in movies_recommended_for_user):\n",
        "    main.at[index, 'CBF'] = 1\n",
        "    counter += 1"
      ]
    },
    {
      "cell_type": "code",
      "execution_count": 59,
      "metadata": {},
      "outputs": [
        {
          "name": "stdout",
          "output_type": "stream",
          "text": [
            "0\n"
          ]
        }
      ],
      "source": [
        "print(counter)"
      ]
    },
    {
      "cell_type": "code",
      "execution_count": 31,
      "metadata": {},
      "outputs": [
        {
          "data": {
            "text/html": [
              "<div>\n",
              "<style scoped>\n",
              "    .dataframe tbody tr th:only-of-type {\n",
              "        vertical-align: middle;\n",
              "    }\n",
              "\n",
              "    .dataframe tbody tr th {\n",
              "        vertical-align: top;\n",
              "    }\n",
              "\n",
              "    .dataframe thead th {\n",
              "        text-align: right;\n",
              "    }\n",
              "</style>\n",
              "<table border=\"1\" class=\"dataframe\">\n",
              "  <thead>\n",
              "    <tr style=\"text-align: right;\">\n",
              "      <th></th>\n",
              "      <th>user_id</th>\n",
              "      <th>movie_id</th>\n",
              "      <th>rating</th>\n",
              "      <th>CBF</th>\n",
              "    </tr>\n",
              "  </thead>\n",
              "  <tbody>\n",
              "    <tr>\n",
              "      <th>0</th>\n",
              "      <td>1</td>\n",
              "      <td>1193</td>\n",
              "      <td>5</td>\n",
              "      <td>0</td>\n",
              "    </tr>\n",
              "    <tr>\n",
              "      <th>1</th>\n",
              "      <td>1</td>\n",
              "      <td>661</td>\n",
              "      <td>3</td>\n",
              "      <td>0</td>\n",
              "    </tr>\n",
              "    <tr>\n",
              "      <th>2</th>\n",
              "      <td>1</td>\n",
              "      <td>914</td>\n",
              "      <td>3</td>\n",
              "      <td>0</td>\n",
              "    </tr>\n",
              "    <tr>\n",
              "      <th>3</th>\n",
              "      <td>1</td>\n",
              "      <td>3408</td>\n",
              "      <td>4</td>\n",
              "      <td>0</td>\n",
              "    </tr>\n",
              "    <tr>\n",
              "      <th>4</th>\n",
              "      <td>1</td>\n",
              "      <td>2355</td>\n",
              "      <td>5</td>\n",
              "      <td>0</td>\n",
              "    </tr>\n",
              "  </tbody>\n",
              "</table>\n",
              "</div>"
            ],
            "text/plain": [
              "   user_id  movie_id  rating  CBF\n",
              "0        1      1193       5    0\n",
              "1        1       661       3    0\n",
              "2        1       914       3    0\n",
              "3        1      3408       4    0\n",
              "4        1      2355       5    0"
            ]
          },
          "execution_count": 31,
          "metadata": {},
          "output_type": "execute_result"
        }
      ],
      "source": [
        "main.head()"
      ]
    },
    {
      "cell_type": "code",
      "execution_count": 32,
      "metadata": {},
      "outputs": [
        {
          "data": {
            "text/plain": [
              "0    1000209\n",
              "Name: CBF, dtype: int64"
            ]
          },
          "execution_count": 32,
          "metadata": {},
          "output_type": "execute_result"
        }
      ],
      "source": [
        "main['CBF'].value_counts()"
      ]
    },
    {
      "cell_type": "markdown",
      "metadata": {
        "id": "9lNQkgbKNC58"
      },
      "source": [
        "# Feature 2: Collaborative Filtering"
      ]
    },
    {
      "cell_type": "markdown",
      "metadata": {
        "id": "c2H4VnWoNJCq"
      },
      "source": [
        "## Collaborative Filtering Engine"
      ]
    },
    {
      "cell_type": "code",
      "execution_count": 62,
      "metadata": {},
      "outputs": [
        {
          "name": "stdout",
          "output_type": "stream",
          "text": [
            "Evaluating RMSE, MAE of algorithm SVD on 10 split(s).\n",
            "\n",
            "                  Fold 1  Fold 2  Fold 3  Fold 4  Fold 5  Fold 6  Fold 7  Fold 8  Fold 9  Fold 10 Mean    Std     \n",
            "RMSE (testset)    0.8630  0.8690  0.8630  0.8668  0.8646  0.8661  0.8672  0.8675  0.8643  0.8663  0.8658  0.0019  \n",
            "MAE (testset)     0.6768  0.6819  0.6769  0.6809  0.6774  0.6796  0.6818  0.6790  0.6771  0.6791  0.6791  0.0019  \n",
            "Fit time          54.69   50.69   50.65   50.65   50.85   51.01   50.73   51.97   50.71   52.05   51.40   1.21    \n",
            "Test time         1.67    1.63    1.61    1.62    2.77    1.64    2.53    1.65    1.62    2.81    1.95    0.49    \n"
          ]
        },
        {
          "data": {
            "text/plain": [
              "{'test_rmse': array([0.8629891 , 0.8690223 , 0.86304055, 0.86684521, 0.86464375,\n",
              "        0.86614412, 0.86724455, 0.86750302, 0.86425468, 0.86633886]),\n",
              " 'test_mae': array([0.67683727, 0.68186612, 0.67689372, 0.68094434, 0.67737252,\n",
              "        0.67964311, 0.68179128, 0.67902747, 0.67708388, 0.67913192]),\n",
              " 'fit_time': (54.6890983581543,\n",
              "  50.68660879135132,\n",
              "  50.650737047195435,\n",
              "  50.65039587020874,\n",
              "  50.845054149627686,\n",
              "  51.01071810722351,\n",
              "  50.7323682308197,\n",
              "  51.96642088890076,\n",
              "  50.710285902023315,\n",
              "  52.05427312850952),\n",
              " 'test_time': (1.6722769737243652,\n",
              "  1.6343700885772705,\n",
              "  1.6094567775726318,\n",
              "  1.6170730590820312,\n",
              "  2.771545171737671,\n",
              "  1.6354148387908936,\n",
              "  2.5269908905029297,\n",
              "  1.6509969234466553,\n",
              "  1.6170470714569092,\n",
              "  2.808896780014038)}"
            ]
          },
          "execution_count": 62,
          "metadata": {},
          "output_type": "execute_result"
        }
      ],
      "source": [
        "reader = Reader()\n",
        "data = Dataset.load_from_df(ratings[['user_id', 'movie_id', 'rating']], reader)\n",
        "\n",
        "svd = SVD()\n",
        "\n",
        "cross_validate(svd, data, measures=['RMSE', 'MAE'], cv = 10, verbose=True)"
      ]
    },
    {
      "cell_type": "code",
      "execution_count": 63,
      "metadata": {},
      "outputs": [],
      "source": [
        "trainset = data.build_full_trainset()\n",
        "svd.fit(trainset)\n",
        "testset = trainset.build_anti_testset()\n",
        "predictions = svd.test(testset)"
      ]
    },
    {
      "cell_type": "code",
      "execution_count": 64,
      "metadata": {},
      "outputs": [],
      "source": [
        "def predict_rating_CF(user_id, movie_id, true_rating): \n",
        "  return svd.predict(user_id, movie_id, true_rating)"
      ]
    },
    {
      "cell_type": "code",
      "execution_count": 65,
      "metadata": {},
      "outputs": [],
      "source": [
        "main['CF'] = 0\n",
        "\n",
        "for index, row in main.iterrows():\n",
        "    user = row['user_id']\n",
        "    movie = row['movie_id']\n",
        "    rating = row['rating']\n",
        "    predicted_rating = predict_rating_CF(user, movie, rating)\n",
        "    predicted_rating = predicted_rating[3]\n",
        "    \n",
        "    main.at[index,'CF'] = predicted_rating"
      ]
    },
    {
      "cell_type": "code",
      "execution_count": 66,
      "metadata": {},
      "outputs": [
        {
          "data": {
            "text/html": [
              "<div>\n",
              "<style scoped>\n",
              "    .dataframe tbody tr th:only-of-type {\n",
              "        vertical-align: middle;\n",
              "    }\n",
              "\n",
              "    .dataframe tbody tr th {\n",
              "        vertical-align: top;\n",
              "    }\n",
              "\n",
              "    .dataframe thead th {\n",
              "        text-align: right;\n",
              "    }\n",
              "</style>\n",
              "<table border=\"1\" class=\"dataframe\">\n",
              "  <thead>\n",
              "    <tr style=\"text-align: right;\">\n",
              "      <th></th>\n",
              "      <th>user_id</th>\n",
              "      <th>movie_id</th>\n",
              "      <th>rating</th>\n",
              "      <th>CBF</th>\n",
              "      <th>CF</th>\n",
              "    </tr>\n",
              "  </thead>\n",
              "  <tbody>\n",
              "    <tr>\n",
              "      <th>0</th>\n",
              "      <td>1</td>\n",
              "      <td>1193</td>\n",
              "      <td>5</td>\n",
              "      <td>0</td>\n",
              "      <td>4</td>\n",
              "    </tr>\n",
              "    <tr>\n",
              "      <th>1</th>\n",
              "      <td>1</td>\n",
              "      <td>661</td>\n",
              "      <td>3</td>\n",
              "      <td>0</td>\n",
              "      <td>3</td>\n",
              "    </tr>\n",
              "    <tr>\n",
              "      <th>2</th>\n",
              "      <td>1</td>\n",
              "      <td>914</td>\n",
              "      <td>3</td>\n",
              "      <td>0</td>\n",
              "      <td>4</td>\n",
              "    </tr>\n",
              "    <tr>\n",
              "      <th>3</th>\n",
              "      <td>1</td>\n",
              "      <td>3408</td>\n",
              "      <td>4</td>\n",
              "      <td>0</td>\n",
              "      <td>4</td>\n",
              "    </tr>\n",
              "    <tr>\n",
              "      <th>4</th>\n",
              "      <td>1</td>\n",
              "      <td>2355</td>\n",
              "      <td>5</td>\n",
              "      <td>0</td>\n",
              "      <td>4</td>\n",
              "    </tr>\n",
              "  </tbody>\n",
              "</table>\n",
              "</div>"
            ],
            "text/plain": [
              "   user_id  movie_id  rating  CBF  CF\n",
              "0        1      1193       5    0   4\n",
              "1        1       661       3    0   3\n",
              "2        1       914       3    0   4\n",
              "3        1      3408       4    0   4\n",
              "4        1      2355       5    0   4"
            ]
          },
          "execution_count": 66,
          "metadata": {},
          "output_type": "execute_result"
        }
      ],
      "source": [
        "main.head()"
      ]
    },
    {
      "cell_type": "code",
      "execution_count": null,
      "metadata": {},
      "outputs": [],
      "source": []
    }
  ],
  "metadata": {
    "colab": {
      "name": "fyp_part3_data_engineering.ipynb",
      "provenance": []
    },
    "kernelspec": {
      "display_name": "Python 3",
      "name": "python3"
    },
    "language_info": {
      "codemirror_mode": {
        "name": "ipython",
        "version": 3
      },
      "file_extension": ".py",
      "mimetype": "text/x-python",
      "name": "python",
      "nbconvert_exporter": "python",
      "pygments_lexer": "ipython3",
      "version": "3.7.7"
    },
    "widgets": {
      "application/vnd.jupyter.widget-state+json": {
        "15f40ac6ae334154b111c88f54e31507": {
          "model_module": "@jupyter-widgets/controls",
          "model_module_version": "1.5.0",
          "model_name": "FloatProgressModel",
          "state": {
            "_dom_classes": [],
            "_model_module": "@jupyter-widgets/controls",
            "_model_module_version": "1.5.0",
            "_model_name": "FloatProgressModel",
            "_view_count": null,
            "_view_module": "@jupyter-widgets/controls",
            "_view_module_version": "1.5.0",
            "_view_name": "ProgressView",
            "bar_style": "danger",
            "description": "",
            "description_tooltip": null,
            "layout": "IPY_MODEL_c2bd5cc3e4d345be94e9d673a68c41e6",
            "max": 6040,
            "min": 0,
            "orientation": "horizontal",
            "style": "IPY_MODEL_53a75605c1314196bbfea341f724a57b",
            "value": 2
          }
        },
        "37727e619b0b44eebf0e2fd01adbf0f9": {
          "model_module": "@jupyter-widgets/controls",
          "model_module_version": "1.5.0",
          "model_name": "DescriptionStyleModel",
          "state": {
            "_model_module": "@jupyter-widgets/controls",
            "_model_module_version": "1.5.0",
            "_model_name": "DescriptionStyleModel",
            "_view_count": null,
            "_view_module": "@jupyter-widgets/base",
            "_view_module_version": "1.2.0",
            "_view_name": "StyleView",
            "description_width": ""
          }
        },
        "53a75605c1314196bbfea341f724a57b": {
          "model_module": "@jupyter-widgets/controls",
          "model_module_version": "1.5.0",
          "model_name": "ProgressStyleModel",
          "state": {
            "_model_module": "@jupyter-widgets/controls",
            "_model_module_version": "1.5.0",
            "_model_name": "ProgressStyleModel",
            "_view_count": null,
            "_view_module": "@jupyter-widgets/base",
            "_view_module_version": "1.2.0",
            "_view_name": "StyleView",
            "bar_color": null,
            "description_width": ""
          }
        },
        "622a754526b641538ce27001e89eed7e": {
          "model_module": "@jupyter-widgets/base",
          "model_module_version": "1.2.0",
          "model_name": "LayoutModel",
          "state": {
            "_model_module": "@jupyter-widgets/base",
            "_model_module_version": "1.2.0",
            "_model_name": "LayoutModel",
            "_view_count": null,
            "_view_module": "@jupyter-widgets/base",
            "_view_module_version": "1.2.0",
            "_view_name": "LayoutView",
            "align_content": null,
            "align_items": null,
            "align_self": null,
            "border": null,
            "bottom": null,
            "display": null,
            "flex": null,
            "flex_flow": null,
            "grid_area": null,
            "grid_auto_columns": null,
            "grid_auto_flow": null,
            "grid_auto_rows": null,
            "grid_column": null,
            "grid_gap": null,
            "grid_row": null,
            "grid_template_areas": null,
            "grid_template_columns": null,
            "grid_template_rows": null,
            "height": null,
            "justify_content": null,
            "justify_items": null,
            "left": null,
            "margin": null,
            "max_height": null,
            "max_width": null,
            "min_height": null,
            "min_width": null,
            "object_fit": null,
            "object_position": null,
            "order": null,
            "overflow": null,
            "overflow_x": null,
            "overflow_y": null,
            "padding": null,
            "right": null,
            "top": null,
            "visibility": null,
            "width": null
          }
        },
        "8608c83cb3394965ae098bb6997259b4": {
          "model_module": "@jupyter-widgets/controls",
          "model_module_version": "1.5.0",
          "model_name": "HTMLModel",
          "state": {
            "_dom_classes": [],
            "_model_module": "@jupyter-widgets/controls",
            "_model_module_version": "1.5.0",
            "_model_name": "HTMLModel",
            "_view_count": null,
            "_view_module": "@jupyter-widgets/controls",
            "_view_module_version": "1.5.0",
            "_view_name": "HTMLView",
            "description": "",
            "description_tooltip": null,
            "layout": "IPY_MODEL_edf42ecc96db4e22b1013bffd0717cb1",
            "placeholder": "​",
            "style": "IPY_MODEL_37727e619b0b44eebf0e2fd01adbf0f9",
            "value": "  0%"
          }
        },
        "98b9518e573e48538d32c1c077062592": {
          "model_module": "@jupyter-widgets/base",
          "model_module_version": "1.2.0",
          "model_name": "LayoutModel",
          "state": {
            "_model_module": "@jupyter-widgets/base",
            "_model_module_version": "1.2.0",
            "_model_name": "LayoutModel",
            "_view_count": null,
            "_view_module": "@jupyter-widgets/base",
            "_view_module_version": "1.2.0",
            "_view_name": "LayoutView",
            "align_content": null,
            "align_items": null,
            "align_self": null,
            "border": null,
            "bottom": null,
            "display": null,
            "flex": null,
            "flex_flow": null,
            "grid_area": null,
            "grid_auto_columns": null,
            "grid_auto_flow": null,
            "grid_auto_rows": null,
            "grid_column": null,
            "grid_gap": null,
            "grid_row": null,
            "grid_template_areas": null,
            "grid_template_columns": null,
            "grid_template_rows": null,
            "height": null,
            "justify_content": null,
            "justify_items": null,
            "left": null,
            "margin": null,
            "max_height": null,
            "max_width": null,
            "min_height": null,
            "min_width": null,
            "object_fit": null,
            "object_position": null,
            "order": null,
            "overflow": null,
            "overflow_x": null,
            "overflow_y": null,
            "padding": null,
            "right": null,
            "top": null,
            "visibility": null,
            "width": null
          }
        },
        "a54a47d9e2454cc39ffaa32ab3992fc1": {
          "model_module": "@jupyter-widgets/controls",
          "model_module_version": "1.5.0",
          "model_name": "DescriptionStyleModel",
          "state": {
            "_model_module": "@jupyter-widgets/controls",
            "_model_module_version": "1.5.0",
            "_model_name": "DescriptionStyleModel",
            "_view_count": null,
            "_view_module": "@jupyter-widgets/base",
            "_view_module_version": "1.2.0",
            "_view_name": "StyleView",
            "description_width": ""
          }
        },
        "c2bd5cc3e4d345be94e9d673a68c41e6": {
          "model_module": "@jupyter-widgets/base",
          "model_module_version": "1.2.0",
          "model_name": "LayoutModel",
          "state": {
            "_model_module": "@jupyter-widgets/base",
            "_model_module_version": "1.2.0",
            "_model_name": "LayoutModel",
            "_view_count": null,
            "_view_module": "@jupyter-widgets/base",
            "_view_module_version": "1.2.0",
            "_view_name": "LayoutView",
            "align_content": null,
            "align_items": null,
            "align_self": null,
            "border": null,
            "bottom": null,
            "display": null,
            "flex": null,
            "flex_flow": null,
            "grid_area": null,
            "grid_auto_columns": null,
            "grid_auto_flow": null,
            "grid_auto_rows": null,
            "grid_column": null,
            "grid_gap": null,
            "grid_row": null,
            "grid_template_areas": null,
            "grid_template_columns": null,
            "grid_template_rows": null,
            "height": null,
            "justify_content": null,
            "justify_items": null,
            "left": null,
            "margin": null,
            "max_height": null,
            "max_width": null,
            "min_height": null,
            "min_width": null,
            "object_fit": null,
            "object_position": null,
            "order": null,
            "overflow": null,
            "overflow_x": null,
            "overflow_y": null,
            "padding": null,
            "right": null,
            "top": null,
            "visibility": null,
            "width": null
          }
        },
        "c3c65c81951a4bd5a5c4ebab37bd36dd": {
          "model_module": "@jupyter-widgets/controls",
          "model_module_version": "1.5.0",
          "model_name": "HTMLModel",
          "state": {
            "_dom_classes": [],
            "_model_module": "@jupyter-widgets/controls",
            "_model_module_version": "1.5.0",
            "_model_name": "HTMLModel",
            "_view_count": null,
            "_view_module": "@jupyter-widgets/controls",
            "_view_module_version": "1.5.0",
            "_view_name": "HTMLView",
            "description": "",
            "description_tooltip": null,
            "layout": "IPY_MODEL_622a754526b641538ce27001e89eed7e",
            "placeholder": "​",
            "style": "IPY_MODEL_a54a47d9e2454cc39ffaa32ab3992fc1",
            "value": " 2/6040 [00:25&lt;18:34:39, 11.08s/it]"
          }
        },
        "c487a4bfe8ea485b805a61c5c6f0cf5a": {
          "model_module": "@jupyter-widgets/controls",
          "model_module_version": "1.5.0",
          "model_name": "HBoxModel",
          "state": {
            "_dom_classes": [],
            "_model_module": "@jupyter-widgets/controls",
            "_model_module_version": "1.5.0",
            "_model_name": "HBoxModel",
            "_view_count": null,
            "_view_module": "@jupyter-widgets/controls",
            "_view_module_version": "1.5.0",
            "_view_name": "HBoxView",
            "box_style": "",
            "children": [
              "IPY_MODEL_8608c83cb3394965ae098bb6997259b4",
              "IPY_MODEL_15f40ac6ae334154b111c88f54e31507",
              "IPY_MODEL_c3c65c81951a4bd5a5c4ebab37bd36dd"
            ],
            "layout": "IPY_MODEL_98b9518e573e48538d32c1c077062592"
          }
        },
        "edf42ecc96db4e22b1013bffd0717cb1": {
          "model_module": "@jupyter-widgets/base",
          "model_module_version": "1.2.0",
          "model_name": "LayoutModel",
          "state": {
            "_model_module": "@jupyter-widgets/base",
            "_model_module_version": "1.2.0",
            "_model_name": "LayoutModel",
            "_view_count": null,
            "_view_module": "@jupyter-widgets/base",
            "_view_module_version": "1.2.0",
            "_view_name": "LayoutView",
            "align_content": null,
            "align_items": null,
            "align_self": null,
            "border": null,
            "bottom": null,
            "display": null,
            "flex": null,
            "flex_flow": null,
            "grid_area": null,
            "grid_auto_columns": null,
            "grid_auto_flow": null,
            "grid_auto_rows": null,
            "grid_column": null,
            "grid_gap": null,
            "grid_row": null,
            "grid_template_areas": null,
            "grid_template_columns": null,
            "grid_template_rows": null,
            "height": null,
            "justify_content": null,
            "justify_items": null,
            "left": null,
            "margin": null,
            "max_height": null,
            "max_width": null,
            "min_height": null,
            "min_width": null,
            "object_fit": null,
            "object_position": null,
            "order": null,
            "overflow": null,
            "overflow_x": null,
            "overflow_y": null,
            "padding": null,
            "right": null,
            "top": null,
            "visibility": null,
            "width": null
          }
        }
      }
    }
  },
  "nbformat": 4,
  "nbformat_minor": 0
}

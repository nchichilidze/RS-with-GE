{
 "cells": [
  {
   "cell_type": "code",
   "execution_count": 1,
   "metadata": {},
   "outputs": [],
   "source": [
    "import pandas as pd"
   ]
  },
  {
   "cell_type": "code",
   "execution_count": 91,
   "metadata": {},
   "outputs": [
    {
     "data": {
      "text/html": [
       "<div>\n",
       "<style scoped>\n",
       "    .dataframe tbody tr th:only-of-type {\n",
       "        vertical-align: middle;\n",
       "    }\n",
       "\n",
       "    .dataframe tbody tr th {\n",
       "        vertical-align: top;\n",
       "    }\n",
       "\n",
       "    .dataframe thead th {\n",
       "        text-align: right;\n",
       "    }\n",
       "</style>\n",
       "<table border=\"1\" class=\"dataframe\">\n",
       "  <thead>\n",
       "    <tr style=\"text-align: right;\">\n",
       "      <th></th>\n",
       "      <th>movie_id</th>\n",
       "      <th>title</th>\n",
       "      <th>genres</th>\n",
       "      <th>year</th>\n",
       "      <th>imdb_rating</th>\n",
       "      <th>imdb_num_votes</th>\n",
       "      <th>is_adult</th>\n",
       "      <th>runtime_minutes</th>\n",
       "      <th>budget</th>\n",
       "      <th>original_language</th>\n",
       "      <th>overview</th>\n",
       "      <th>popularity</th>\n",
       "      <th>revenue</th>\n",
       "      <th>tagline</th>\n",
       "      <th>tmdb_vote_count</th>\n",
       "      <th>tmdb_vote_avg</th>\n",
       "    </tr>\n",
       "  </thead>\n",
       "  <tbody>\n",
       "    <tr>\n",
       "      <th>0</th>\n",
       "      <td>1</td>\n",
       "      <td>toy story</td>\n",
       "      <td>animation children's comedy</td>\n",
       "      <td>1995</td>\n",
       "      <td>8</td>\n",
       "      <td>953300</td>\n",
       "      <td>0</td>\n",
       "      <td>81</td>\n",
       "      <td>30000000</td>\n",
       "      <td>en</td>\n",
       "      <td>Led by Woody, Andy's toys live happily in his ...</td>\n",
       "      <td>155</td>\n",
       "      <td>373554033</td>\n",
       "      <td>NaN</td>\n",
       "      <td>15158</td>\n",
       "      <td>8</td>\n",
       "    </tr>\n",
       "    <tr>\n",
       "      <th>1</th>\n",
       "      <td>2</td>\n",
       "      <td>jumanji</td>\n",
       "      <td>adventure children's fantasy</td>\n",
       "      <td>1995</td>\n",
       "      <td>7</td>\n",
       "      <td>333517</td>\n",
       "      <td>0</td>\n",
       "      <td>104</td>\n",
       "      <td>65000000</td>\n",
       "      <td>en</td>\n",
       "      <td>When siblings Judy and Peter discover an encha...</td>\n",
       "      <td>18</td>\n",
       "      <td>262797249</td>\n",
       "      <td>Roll the dice and unleash the excitement!</td>\n",
       "      <td>8836</td>\n",
       "      <td>7</td>\n",
       "    </tr>\n",
       "    <tr>\n",
       "      <th>2</th>\n",
       "      <td>3</td>\n",
       "      <td>grumpier old men</td>\n",
       "      <td>comedy romance</td>\n",
       "      <td>1995</td>\n",
       "      <td>6</td>\n",
       "      <td>26811</td>\n",
       "      <td>0</td>\n",
       "      <td>101</td>\n",
       "      <td>25000000</td>\n",
       "      <td>en</td>\n",
       "      <td>A family wedding reignites the ancient feud be...</td>\n",
       "      <td>11</td>\n",
       "      <td>71500000</td>\n",
       "      <td>Still Yelling. Still Fighting. Still Ready for...</td>\n",
       "      <td>288</td>\n",
       "      <td>6</td>\n",
       "    </tr>\n",
       "    <tr>\n",
       "      <th>3</th>\n",
       "      <td>4</td>\n",
       "      <td>waiting to exhale</td>\n",
       "      <td>comedy drama</td>\n",
       "      <td>1995</td>\n",
       "      <td>5</td>\n",
       "      <td>10757</td>\n",
       "      <td>0</td>\n",
       "      <td>124</td>\n",
       "      <td>16000000</td>\n",
       "      <td>en</td>\n",
       "      <td>Cheated on, mistreated and stepped on, the wom...</td>\n",
       "      <td>8</td>\n",
       "      <td>81452156</td>\n",
       "      <td>Friends are the people who let you be yourself...</td>\n",
       "      <td>120</td>\n",
       "      <td>6</td>\n",
       "    </tr>\n",
       "    <tr>\n",
       "      <th>4</th>\n",
       "      <td>5</td>\n",
       "      <td>father of the bride part ii</td>\n",
       "      <td>comedy</td>\n",
       "      <td>1995</td>\n",
       "      <td>6</td>\n",
       "      <td>37343</td>\n",
       "      <td>0</td>\n",
       "      <td>106</td>\n",
       "      <td>0</td>\n",
       "      <td>en</td>\n",
       "      <td>Just when George Banks has recovered from his ...</td>\n",
       "      <td>14</td>\n",
       "      <td>76594107</td>\n",
       "      <td>Just When His World Is Back To Normal... He's ...</td>\n",
       "      <td>561</td>\n",
       "      <td>6</td>\n",
       "    </tr>\n",
       "  </tbody>\n",
       "</table>\n",
       "</div>"
      ],
      "text/plain": [
       "   movie_id                        title                        genres  year  \\\n",
       "0         1                    toy story   animation children's comedy  1995   \n",
       "1         2                      jumanji  adventure children's fantasy  1995   \n",
       "2         3             grumpier old men                comedy romance  1995   \n",
       "3         4            waiting to exhale                  comedy drama  1995   \n",
       "4         5  father of the bride part ii                        comedy  1995   \n",
       "\n",
       "   imdb_rating  imdb_num_votes  is_adult  runtime_minutes    budget  \\\n",
       "0            8          953300         0               81  30000000   \n",
       "1            7          333517         0              104  65000000   \n",
       "2            6           26811         0              101  25000000   \n",
       "3            5           10757         0              124  16000000   \n",
       "4            6           37343         0              106         0   \n",
       "\n",
       "  original_language                                           overview  \\\n",
       "0                en  Led by Woody, Andy's toys live happily in his ...   \n",
       "1                en  When siblings Judy and Peter discover an encha...   \n",
       "2                en  A family wedding reignites the ancient feud be...   \n",
       "3                en  Cheated on, mistreated and stepped on, the wom...   \n",
       "4                en  Just when George Banks has recovered from his ...   \n",
       "\n",
       "   popularity    revenue                                            tagline  \\\n",
       "0         155  373554033                                                NaN   \n",
       "1          18  262797249          Roll the dice and unleash the excitement!   \n",
       "2          11   71500000  Still Yelling. Still Fighting. Still Ready for...   \n",
       "3           8   81452156  Friends are the people who let you be yourself...   \n",
       "4          14   76594107  Just When His World Is Back To Normal... He's ...   \n",
       "\n",
       "   tmdb_vote_count  tmdb_vote_avg  \n",
       "0            15158              8  \n",
       "1             8836              7  \n",
       "2              288              6  \n",
       "3              120              6  \n",
       "4              561              6  "
      ]
     },
     "execution_count": 91,
     "metadata": {},
     "output_type": "execute_result"
    }
   ],
   "source": [
    "movies = pd.read_csv('./movies_main.csv')\n",
    "movies.head()"
   ]
  },
  {
   "cell_type": "markdown",
   "metadata": {},
   "source": [
    "# Data Exploration"
   ]
  },
  {
   "cell_type": "code",
   "execution_count": 92,
   "metadata": {},
   "outputs": [
    {
     "data": {
      "text/plain": [
       "movie_id               0\n",
       "title                  0\n",
       "genres                 0\n",
       "year                   0\n",
       "imdb_rating            0\n",
       "imdb_num_votes         0\n",
       "is_adult               0\n",
       "runtime_minutes        0\n",
       "budget                 0\n",
       "original_language     13\n",
       "overview              25\n",
       "popularity             0\n",
       "revenue                0\n",
       "tagline              850\n",
       "tmdb_vote_count        0\n",
       "tmdb_vote_avg          0\n",
       "dtype: int64"
      ]
     },
     "execution_count": 92,
     "metadata": {},
     "output_type": "execute_result"
    }
   ],
   "source": [
    "movies.isna().sum()"
   ]
  },
  {
   "cell_type": "markdown",
   "metadata": {},
   "source": [
    "## Fill in missing values"
   ]
  },
  {
   "cell_type": "code",
   "execution_count": 93,
   "metadata": {},
   "outputs": [],
   "source": [
    "movies['original_language'] = movies['original_language'].fillna('en')\n",
    "movies['overview'] = movies['overview'].fillna('')\n",
    "movies['tagline'] = movies['tagline'].fillna('')"
   ]
  },
  {
   "cell_type": "code",
   "execution_count": 94,
   "metadata": {},
   "outputs": [],
   "source": [
    "import matplotlib.pyplot as plt \n",
    "\n",
    "def replace_missing_values(data, column, replacement): \n",
    "    for index, row in data.iterrows(): \n",
    "        value = int(row[column])\n",
    "        if (value == -1): \n",
    "            data.at[index, column] = replacement;"
   ]
  },
  {
   "cell_type": "code",
   "execution_count": 95,
   "metadata": {},
   "outputs": [
    {
     "name": "stdout",
     "output_type": "stream",
     "text": [
      "imdb ratings (-1): 119\n",
      "median: 6.0\n",
      "mean: 6.088735387885229\n"
     ]
    },
    {
     "data": {
      "image/png": "[encoded data removed]",
      "text/plain": [
       "<Figure size 432x288 with 1 Axes>"
      ]
     },
     "metadata": {
      "needs_background": "light"
     },
     "output_type": "display_data"
    }
   ],
   "source": [
    "# imdb_rating \n",
    "\n",
    "movies['imdb_rating'].isna().sum()\n",
    "print(\"imdb ratings (-1): \" + str(len(movies[movies['imdb_rating'] == -1])))\n",
    "\n",
    "data = movies[movies['imdb_rating'] != -1]['imdb_rating']\n",
    "\n",
    "plt.boxplot(data)\n",
    "\n",
    "median_value = movies[movies['imdb_rating'] != -1]['imdb_rating'].median()\n",
    "mean_value = movies[movies['imdb_rating'] != -1]['imdb_rating'].mean()\n",
    "\n",
    "print(\"median: \" + str(median_value))\n",
    "print(\"mean: \" + str(mean_value))\n",
    "\n",
    "replace_missing_values(movies, 'imdb_rating', median_value)"
   ]
  },
  {
   "cell_type": "code",
   "execution_count": 96,
   "metadata": {},
   "outputs": [
    {
     "name": "stdout",
     "output_type": "stream",
     "text": [
      "imdb_num_votes (-1): 119\n",
      "median: 13576.0\n",
      "mean: 59195.108926673754\n",
      "minimum: 9\n"
     ]
    },
    {
     "data": {
      "image/png": "[encoded data removed]",
      "text/plain": [
       "<Figure size 432x288 with 1 Axes>"
      ]
     },
     "metadata": {
      "needs_background": "light"
     },
     "output_type": "display_data"
    }
   ],
   "source": [
    "# imdb num votes\n",
    "\n",
    "movies['imdb_num_votes'].isna().sum()\n",
    "print(\"imdb_num_votes (-1): \" + str(len(movies[movies['imdb_num_votes'] == -1])))\n",
    "\n",
    "data = movies[movies['imdb_num_votes'] != -1]['imdb_num_votes']\n",
    "\n",
    "plt.boxplot(data)\n",
    "\n",
    "median_value = movies[movies['imdb_num_votes'] != -1]['imdb_num_votes'].median()\n",
    "mean_value = movies[movies['imdb_num_votes'] != -1]['imdb_num_votes'].mean()\n",
    "minimum_value = movies[movies['imdb_num_votes'] != -1]['imdb_num_votes'].min()\n",
    "\n",
    "print(\"median: \" + str(median_value))\n",
    "print(\"mean: \" + str(mean_value))\n",
    "print(\"minimum: \" + str(minimum_value))\n",
    "\n",
    "replace_missing_values(movies, 'imdb_num_votes', minimum_value)"
   ]
  },
  {
   "cell_type": "code",
   "execution_count": 97,
   "metadata": {},
   "outputs": [
    {
     "name": "stdout",
     "output_type": "stream",
     "text": [
      "is_adult (-1): 119\n"
     ]
    }
   ],
   "source": [
    "# is_adult \n",
    "\n",
    "movies['is_adult'].isna().sum()\n",
    "print(\"is_adult (-1): \" + str(len(movies[movies['is_adult'] == -1])))\n",
    "\n",
    "data = movies[movies['is_adult'] != -1]['is_adult']\n",
    "\n",
    "replace_missing_values(movies, 'imdb_num_votes', 0)"
   ]
  },
  {
   "cell_type": "code",
   "execution_count": 98,
   "metadata": {},
   "outputs": [
    {
     "name": "stdout",
     "output_type": "stream",
     "text": [
      "runtime_minutes (-1): 0\n",
      "median: 102.0\n",
      "mean: 104.82226354941551\n",
      "minimum: 3\n",
      "maximum: 298\n"
     ]
    },
    {
     "data": {
      "image/png": "[encoded data removed]",
      "text/plain": [
       "<Figure size 432x288 with 1 Axes>"
      ]
     },
     "metadata": {
      "needs_background": "light"
     },
     "output_type": "display_data"
    }
   ],
   "source": [
    "# runtime_minutes \n",
    "\n",
    "print(\"runtime_minutes (-1): \" + str(len(movies[movies['runtime_minutes'] == 0])))\n",
    "\n",
    "data = movies[movies['runtime_minutes'] != -1]['runtime_minutes']\n",
    "\n",
    "plt.boxplot(data)\n",
    "\n",
    "median_value = movies[movies['runtime_minutes'] != -1]['runtime_minutes'].median()\n",
    "mean_value = movies[movies['runtime_minutes'] != -1]['runtime_minutes'].mean()\n",
    "minimum_value = movies[movies['runtime_minutes'] != -1]['runtime_minutes'].min()\n",
    "maximum_value = movies[movies['runtime_minutes'] != -1]['runtime_minutes'].max()\n",
    "\n",
    "print(\"median: \" + str(median_value))\n",
    "print(\"mean: \" + str(mean_value))\n",
    "print(\"minimum: \" + str(minimum_value))\n",
    "print(\"maximum: \" + str(maximum_value))\n",
    "\n",
    "\n",
    "replace_missing_values(movies, 'runtime_minutes', mean_value)"
   ]
  },
  {
   "cell_type": "code",
   "execution_count": 99,
   "metadata": {},
   "outputs": [
    {
     "name": "stdout",
     "output_type": "stream",
     "text": [
      "budget (-1): 1880\n",
      "median: 167500.0\n",
      "mean: 11136874.621963825\n",
      "minimum: 0\n",
      "maximum: 200000000\n"
     ]
    },
    {
     "data": {
      "image/png": "[encoded data removed]",
      "text/plain": [
       "<Figure size 432x288 with 1 Axes>"
      ]
     },
     "metadata": {
      "needs_background": "light"
     },
     "output_type": "display_data"
    }
   ],
   "source": [
    "# budget\n",
    "\n",
    "print(\"budget (-1): \" + str(len(movies[movies['budget'] == 0])))\n",
    "\n",
    "data = movies[movies['budget'] != -1]['budget']\n",
    "\n",
    "plt.boxplot(data)\n",
    "\n",
    "median_value = movies[movies['budget'] != -1]['budget'].median()\n",
    "mean_value = movies[movies['budget'] != -1]['budget'].mean()\n",
    "minimum_value = movies[movies['budget'] != -1]['budget'].min()\n",
    "maximum_value = movies[movies['budget'] != -1]['budget'].max()\n",
    "\n",
    "print(\"median: \" + str(median_value))\n",
    "print(\"mean: \" + str(mean_value))\n",
    "print(\"minimum: \" + str(minimum_value))\n",
    "print(\"maximum: \" + str(maximum_value))\n",
    "\n",
    "\n",
    "replace_missing_values(movies, 'budget', median_value)"
   ]
  },
  {
   "cell_type": "code",
   "execution_count": 100,
   "metadata": {},
   "outputs": [
    {
     "name": "stdout",
     "output_type": "stream",
     "text": [
      "popularity (-1): 171\n",
      "median: 10.0\n",
      "mean: 12.671576227390181\n",
      "minimum: 0\n",
      "maximum: 267\n"
     ]
    },
    {
     "data": {
      "image/png": "[encoded data removed]",
      "text/plain": [
       "<Figure size 432x288 with 1 Axes>"
      ]
     },
     "metadata": {
      "needs_background": "light"
     },
     "output_type": "display_data"
    }
   ],
   "source": [
    "# popularity \n",
    "\n",
    "print(\"popularity (-1): \" + str(len(movies[movies['popularity'] == 0])))\n",
    "\n",
    "data = movies[movies['popularity'] != -1]['popularity']\n",
    "\n",
    "plt.boxplot(data)\n",
    "\n",
    "median_value = movies[movies['popularity'] != -1]['popularity'].median()\n",
    "mean_value = movies[movies['popularity'] != -1]['popularity'].mean()\n",
    "minimum_value = movies[movies['popularity'] != -1]['popularity'].min()\n",
    "maximum_value = movies[movies['popularity'] != -1]['popularity'].max()\n",
    "\n",
    "print(\"median: \" + str(median_value))\n",
    "print(\"mean: \" + str(mean_value))\n",
    "print(\"minimum: \" + str(minimum_value))\n",
    "print(\"maximum: \" + str(maximum_value))\n",
    "\n",
    "\n",
    "replace_missing_values(movies, 'popularity', 0)"
   ]
  },
  {
   "cell_type": "code",
   "execution_count": 101,
   "metadata": {},
   "outputs": [
    {
     "name": "stdout",
     "output_type": "stream",
     "text": [
      "revenue (-1): 1762\n",
      "median: 633158.5\n",
      "mean: 33430787.564341087\n",
      "minimum: 0\n",
      "maximum: 2187463944\n"
     ]
    },
    {
     "data": {
      "image/png": "[encoded data removed]",
      "text/plain": [
       "<Figure size 432x288 with 1 Axes>"
      ]
     },
     "metadata": {
      "needs_background": "light"
     },
     "output_type": "display_data"
    }
   ],
   "source": [
    "# revenue\n",
    "\n",
    "print(\"revenue (-1): \" + str(len(movies[movies['revenue'] == 0])))\n",
    "\n",
    "data = movies[movies['revenue'] != -1]['revenue']\n",
    "\n",
    "plt.boxplot(data)\n",
    "\n",
    "median_value = movies[movies['revenue'] != -1]['revenue'].median()\n",
    "mean_value = movies[movies['revenue'] != -1]['revenue'].mean()\n",
    "minimum_value = movies[movies['revenue'] != -1]['revenue'].min()\n",
    "maximum_value = movies[movies['revenue'] != -1]['revenue'].max()\n",
    "\n",
    "print(\"median: \" + str(median_value))\n",
    "print(\"mean: \" + str(mean_value))\n",
    "print(\"minimum: \" + str(minimum_value))\n",
    "print(\"maximum: \" + str(maximum_value))\n",
    "\n",
    "replace_missing_values(movies, 'revenue', median_value)"
   ]
  },
  {
   "cell_type": "code",
   "execution_count": 102,
   "metadata": {},
   "outputs": [
    {
     "name": "stdout",
     "output_type": "stream",
     "text": [
      "tmdb_vote_count (-1): 79\n",
      "median: 164.0\n",
      "mean: 770.1824289405685\n",
      "minimum: 0\n",
      "maximum: 23683\n"
     ]
    },
    {
     "data": {
      "image/png": "[encoded data removed]",
      "text/plain": [
       "<Figure size 432x288 with 1 Axes>"
      ]
     },
     "metadata": {
      "needs_background": "light"
     },
     "output_type": "display_data"
    }
   ],
   "source": [
    "# vote count \n",
    "\n",
    "print(\"tmdb_vote_count (-1): \" + str(len(movies[movies['tmdb_vote_count'] == 0])))\n",
    "\n",
    "data = movies[movies['tmdb_vote_count'] != -1]['tmdb_vote_count']\n",
    "\n",
    "plt.boxplot(data)\n",
    "\n",
    "median_value = movies[movies['tmdb_vote_count'] != -1]['tmdb_vote_count'].median()\n",
    "mean_value = movies[movies['tmdb_vote_count'] != -1]['tmdb_vote_count'].mean()\n",
    "minimum_value = movies[movies['tmdb_vote_count'] != -1]['tmdb_vote_count'].min()\n",
    "maximum_value = movies[movies['tmdb_vote_count'] != -1]['tmdb_vote_count'].max()\n",
    "\n",
    "print(\"median: \" + str(median_value))\n",
    "print(\"mean: \" + str(mean_value))\n",
    "print(\"minimum: \" + str(minimum_value))\n",
    "print(\"maximum: \" + str(maximum_value))\n",
    "\n",
    "replace_missing_values(movies, 'tmdb_vote_count', 0)"
   ]
  },
  {
   "cell_type": "code",
   "execution_count": 103,
   "metadata": {},
   "outputs": [
    {
     "name": "stdout",
     "output_type": "stream",
     "text": [
      "tmdb_vote_avg (-1): 79\n",
      "median: 6.0\n",
      "mean: 5.772609819121447\n",
      "minimum: 0\n",
      "maximum: 10\n"
     ]
    },
    {
     "data": {
      "image/png": "[encoded data removed]",
      "text/plain": [
       "<Figure size 432x288 with 1 Axes>"
      ]
     },
     "metadata": {
      "needs_background": "light"
     },
     "output_type": "display_data"
    }
   ],
   "source": [
    "# tmdb_vote_avg\n",
    "\n",
    "print(\"tmdb_vote_avg (-1): \" + str(len(movies[movies['tmdb_vote_avg'] == 0])))\n",
    "\n",
    "data = movies[movies['tmdb_vote_avg'] != -1]['tmdb_vote_avg']\n",
    "\n",
    "plt.boxplot(data)\n",
    "\n",
    "median_value = movies[movies['tmdb_vote_avg'] != -1]['tmdb_vote_avg'].median()\n",
    "mean_value = movies[movies['tmdb_vote_avg'] != -1]['tmdb_vote_avg'].mean()\n",
    "minimum_value = movies[movies['tmdb_vote_avg'] != -1]['tmdb_vote_avg'].min()\n",
    "maximum_value = movies[movies['tmdb_vote_avg'] != -1]['tmdb_vote_avg'].max()\n",
    "\n",
    "print(\"median: \" + str(median_value))\n",
    "print(\"mean: \" + str(mean_value))\n",
    "print(\"minimum: \" + str(minimum_value))\n",
    "print(\"maximum: \" + str(maximum_value))\n",
    "\n",
    "\n",
    "replace_missing_values(movies, 'tmdb_vote_avg', mean_value)"
   ]
  },
  {
   "cell_type": "code",
   "execution_count": 104,
   "metadata": {},
   "outputs": [],
   "source": [
    "movies.to_csv('movies_filled.csv', index=False)"
   ]
  },
  {
   "cell_type": "markdown",
   "metadata": {},
   "source": [
    "# Concatenate tags for content based filtering"
   ]
  },
  {
   "cell_type": "code",
   "execution_count": 118,
   "metadata": {},
   "outputs": [],
   "source": [
    "import string \n",
    "from string import punctuation"
   ]
  },
  {
   "cell_type": "code",
   "execution_count": 119,
   "metadata": {},
   "outputs": [],
   "source": [
    "movies = pd.read_csv('./movies_filled.csv')\n",
    "tags = pd.read_csv('./tags.csv')\n",
    "tags = tags.iloc[: , 1:]"
   ]
  },
  {
   "cell_type": "code",
   "execution_count": 120,
   "metadata": {},
   "outputs": [],
   "source": [
    "movies_cbf = movies.copy(deep=True)\n",
    "movies_cbf['tags'] = ''\n",
    "for index, row in movies_cbf.iterrows(): \n",
    "    movie_id = row['movie_id']\n",
    "    movies_cbf.at[index, 'tags'] = tags[tags['movie_id'] == movie_id]['tags'].values[0]\n",
    "\n",
    "# movies_cf = movies.copy(deep=True)\n",
    "movies_cbf['tags_full'] = ''\n",
    "for index, row in movies_cbf.iterrows(): \n",
    "    movie_id = row['movie_id']\n",
    "    movies_cbf.at[index, 'tags_full'] = movies_cbf.at[index, 'tags'] + ' '\n",
    "    movies_cbf.at[index, 'tags_full'] += str(movies_cbf.at[index, 'overview']) + ' '\n",
    "    movies_cbf.at[index, 'tags_full'] += str(movies_cbf.at[index, 'overview']) + ' '\n",
    "    movies_cbf.at[index, 'tags_full'] += str(movies_cbf.at[index, 'tagline']) + ' '\n",
    "    movies_cbf.at[index, 'tags_full'] += str(movies_cbf.at[index, 'tagline']) + ' '\n",
    "    \n",
    "def remove_punctuation(title): \n",
    "    new_title = title\n",
    "    if (any(p in title for p in punctuation)):\n",
    "        new_title = title.translate(str.maketrans('', '', string.punctuation))\n",
    "    return new_title \n",
    "\n",
    "def remove_numbers(title):\n",
    "    no_digits = []\n",
    "    for i in title:\n",
    "        if not i.isdigit():\n",
    "            no_digits.append(i)\n",
    "    return ''.join(no_digits)\n",
    "\n",
    "def modify(sentence):\n",
    "    sentence = sentence.replace('nan', '')\n",
    "    sentence = sentence.replace('  ', ' ')\n",
    "    return sentence\n",
    "\n",
    "movies_cbf['tags_full'] = movies_cbf['tags_full'].apply(lambda x: x.lower()) \n",
    "movies_cbf['tags_full'] = movies_cbf['tags_full'].apply(lambda x: remove_punctuation(x)) \n",
    "movies_cbf['tags_full'] = movies_cbf['tags_full'].apply(lambda x: remove_numbers(x)) \n",
    "movies_cbf['tags_full'] = movies_cbf['tags_full'].apply(lambda x: modify(x)) "
   ]
  },
  {
   "cell_type": "code",
   "execution_count": 121,
   "metadata": {},
   "outputs": [],
   "source": [
    "movies_cbf.to_csv('movies_cbf.csv', index=False)"
   ]
  },
  {
   "cell_type": "code",
   "execution_count": null,
   "metadata": {},
   "outputs": [],
   "source": []
  }
 ],
 "metadata": {
  "interpreter": {
   "hash": "211ef9b97a3cf7b884f877120ed3de3e04404069fa198dcced073f1278cb9dac"
  },
  "kernelspec": {
   "display_name": "Python 3.7.7 64-bit ('3.7.7')",
   "language": "python",
   "name": "python3"
  },
  "language_info": {
   "codemirror_mode": {
    "name": "ipython",
    "version": 3
   },
   "file_extension": ".py",
   "mimetype": "text/x-python",
   "name": "python",
   "nbconvert_exporter": "python",
   "pygments_lexer": "ipython3",
   "version": "3.7.7"
  },
  "orig_nbformat": 4
 },
 "nbformat": 4,
 "nbformat_minor": 2
}
